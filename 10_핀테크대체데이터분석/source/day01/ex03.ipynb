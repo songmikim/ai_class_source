{
 "cells": [
  {
   "cell_type": "code",
   "execution_count": null,
   "id": "1e9d4a07",
   "metadata": {},
   "outputs": [],
   "source": [
    "import torch\n",
    "import keras\n",
    "from sklearn.model_selection import train_test_split\n",
    "\n",
    "#IMDB 데이터셋 (num_words=500: 상위 500개 단어만 사용)\n",
    "(train_input, train_target), (test_input, test_target) =\\\n",
    "     keras.datasets.imdb.load_data( num_words=500 )\n",
    "\n",
    "#훈련세트, 검증세트 8:2 비율로 나눔\n",
    "train_input, val_input, train_target, val_target = train_test_split(\n",
    "    train_input, train_target, test_size=0.2, random_state=42\n",
    ")\n"
   ]
  },
  {
   "cell_type": "code",
   "execution_count": null,
   "id": "9247171a",
   "metadata": {},
   "outputs": [],
   "source": [
    "# 패딩 처리 (시퀀스 길이를 동일하게 맞추기 위해 사용)\n",
    "from keras.preprocessing.sequence import pad_sequences\n",
    "# 시퀀스 길이를 100으로 맞춰서 패딩 처리\n",
    "train_seq = pad_sequences(train_input, maxlen=100)\n",
    "val_seq = pad_sequences(val_input, maxlen=100)"
   ]
  },
  {
   "cell_type": "code",
   "execution_count": null,
   "id": "aea35a42",
   "metadata": {},
   "outputs": [
    {
     "name": "stdout",
     "output_type": "stream",
     "text": [
      "(20000, 100) (20000,)\n"
     ]
    }
   ],
   "source": [
    "# 패딩 처리된 시퀀스 및 타겟 shape 확인\n",
    "print(train_seq.shape, train_target.shape)"
   ]
  },
  {
   "cell_type": "code",
   "execution_count": null,
   "id": "6708dcf9",
   "metadata": {},
   "outputs": [],
   "source": [
    "# 파이토치 torch.tensor 자료형으로 변환(PyTorch 학습 가능 형태로 변환)\n",
    "train_seq = torch.tensor(train_seq)\n",
    "val_seq = torch.tensor(val_seq)"
   ]
  },
  {
   "cell_type": "code",
   "execution_count": 12,
   "id": "a40db005",
   "metadata": {},
   "outputs": [
    {
     "data": {
      "text/plain": [
       "dtype('int64')"
      ]
     },
     "execution_count": 12,
     "metadata": {},
     "output_type": "execute_result"
    }
   ],
   "source": [
    "train_target.dtype"
   ]
  },
  {
   "cell_type": "code",
   "execution_count": null,
   "id": "4dcc1f57",
   "metadata": {},
   "outputs": [],
   "source": [
    "# 타겟을 float32로 변환 (BCELoss 사용을 위함, 정수 -> float)\n",
    "train_target = torch.tensor(train_target, dtype=torch.float32)\n",
    "val_target = torch.tensor(val_target, dtype=torch.float32)"
   ]
  },
  {
   "cell_type": "code",
   "execution_count": 14,
   "id": "900facc7",
   "metadata": {},
   "outputs": [
    {
     "data": {
      "text/plain": [
       "torch.float32"
      ]
     },
     "execution_count": 14,
     "metadata": {},
     "output_type": "execute_result"
    }
   ],
   "source": [
    "train_target.dtype"
   ]
  },
  {
   "cell_type": "code",
   "execution_count": null,
   "id": "813740a7",
   "metadata": {},
   "outputs": [],
   "source": [
    "# TensorDataset, DataLoader\n",
    "from torch.utils.data import TensorDataset, DataLoader\n",
    "# TensorDataset으로 (입력, 타겟) 묶음 생성\n",
    "train_dataset = TensorDataset(train_seq, train_target)\n",
    "val_dataset = TensorDataset(val_seq, val_target)\n",
    "\n",
    "# DataLoader로 배치 크기 32, 셔플 적용하여 학습 데이터 로더 생성\n",
    "train_loader = DataLoader(train_dataset, batch_size=32, shuffle=True)\n",
    "val_loader = DataLoader(val_dataset, batch_size=32, shuffle=False)"
   ]
  },
  {
   "cell_type": "code",
   "execution_count": null,
   "id": "d3a5f62c",
   "metadata": {},
   "outputs": [],
   "source": [
    "# 층 구성 - nn.Module 클래스 상속을 통한 층 구성\n",
    "import torch.nn as nn\n",
    "# RNN 기반 IMDB 감성 분석 모델 정의\n",
    "class IMDBRnn(nn.Module):\n",
    "    def __init__(self):\n",
    "        super().__init__()\n",
    "        self.embedding = nn.Embedding(500, 16)     # 단어 인덱스 0~499, 임베딩 16차원\n",
    "        self.rnn = nn.RNN(16, 8, batch_first=True) # 입력크기 16, 은닉크기 8, 배치 우선\n",
    "                                                   \n",
    "        self.dense = nn.Linear(8,1) # 마지막 은닉 상태 8 -> 출력 1\n",
    "        self.sigmoid = nn.Sigmoid() # 시그모이드로 이진 분류\n",
    "\n",
    "    def forward(self, x):\n",
    "        x = self.embedding(x) # 정수 인덱스 -> 임베딩 벡터\n",
    "        _, hidden = self.rnn(x) # hidden: (num_layers * num_directions, batch, hidden_size)\n",
    "        outputs = self.dense(hidden[-1]) # 마지막 레이어의 은닉 상태 사용\n",
    "        return self.sigmoid(outputs) # 확률 출력"
   ]
  },
  {
   "cell_type": "code",
   "execution_count": null,
   "id": "bfd1fcd7",
   "metadata": {},
   "outputs": [
    {
     "data": {
      "text/plain": [
       "=================================================================\n",
       "Layer (type:depth-idx)                   Param #\n",
       "=================================================================\n",
       "IMDBRnn                                  --\n",
       "├─Embedding: 1-1                         8,000\n",
       "├─RNN: 1-2                               208\n",
       "├─Linear: 1-3                            9\n",
       "├─Sigmoid: 1-4                           --\n",
       "=================================================================\n",
       "Total params: 8,217\n",
       "Trainable params: 8,217\n",
       "Non-trainable params: 0\n",
       "================================================================="
      ]
     },
     "execution_count": 20,
     "metadata": {},
     "output_type": "execute_result"
    }
   ],
   "source": [
    "# 모델 요약 확인\n",
    "from torchinfo import summary\n",
    "model = IMDBRnn()\n",
    "\n",
    "summary(model)\n"
   ]
  },
  {
   "cell_type": "code",
   "execution_count": null,
   "id": "0f82216d",
   "metadata": {},
   "outputs": [
    {
     "data": {
      "text/plain": [
       "IMDBRnn(\n",
       "  (embedding): Embedding(500, 16)\n",
       "  (rnn): RNN(16, 8, batch_first=True)\n",
       "  (dense): Linear(in_features=8, out_features=1, bias=True)\n",
       "  (sigmoid): Sigmoid()\n",
       ")"
      ]
     },
     "execution_count": 21,
     "metadata": {},
     "output_type": "execute_result"
    }
   ],
   "source": [
    "# GPU 사용 가능 여부 확인 후 device 설정\n",
    "device = torch.device(\"cuda\" if torch.cuda.is_available() else \"cpu\")\n",
    "model.to(device)"
   ]
  },
  {
   "cell_type": "code",
   "execution_count": null,
   "id": "e0b977f8",
   "metadata": {},
   "outputs": [],
   "source": [
    "# 옵티마이저, 손실함수\n",
    "import torch.optim as optim\n",
    "\n",
    "criterion = nn.BCELoss()  # 이진 교차 엔트로피 손실\n",
    "optimizer = optim.Adam(model.parameters()) # Adam 최적화"
   ]
  },
  {
   "cell_type": "code",
   "execution_count": null,
   "id": "49b09b84",
   "metadata": {},
   "outputs": [
    {
     "name": "stdout",
     "output_type": "stream",
     "text": [
      "에포크:1, 훈련손실:  0.6932, 검증손실: 0.6868\n",
      "에포크:2, 훈련손실:  0.6810, 검증손실: 0.6758\n",
      "에포크:3, 훈련손실:  0.6599, 검증손실: 0.6458\n",
      "에포크:4, 훈련손실:  0.6508, 검증손실: 0.6736\n",
      "에포크:5, 훈련손실:  0.6461, 검증손실: 0.6368\n",
      "에포크:6, 훈련손실:  0.6272, 검증손실: 0.6245\n",
      "에포크:7, 훈련손실:  0.6206, 검증손실: 0.6232\n",
      "에포크:8, 훈련손실:  0.6105, 검증손실: 0.6237\n",
      "에포크:9, 훈련손실:  0.6006, 검증손실: 0.6174\n",
      "에포크:10, 훈련손실:  0.6083, 검증손실: 0.6137\n",
      "에포크:11, 훈련손실:  0.6133, 검증손실: 0.6214\n",
      "에포크:12, 훈련손실:  0.5961, 검증손실: 0.6062\n",
      "에포크:13, 훈련손실:  0.5911, 검증손실: 0.6015\n",
      "에포크:14, 훈련손실:  0.5814, 검증손실: 0.6043\n",
      "에포크:15, 훈련손실:  0.5733, 검증손실: 0.5972\n",
      "에포크:16, 훈련손실:  0.5749, 검증손실: 0.5961\n",
      "에포크:17, 훈련손실:  0.5685, 검증손실: 0.6024\n",
      "에포크:18, 훈련손실:  0.5713, 검증손실: 0.6006\n",
      "에포크:19, 훈련손실:  0.5652, 검증손실: 0.6090\n",
      "19에서 조기 종료..\n"
     ]
    }
   ],
   "source": [
    "# 학습 기록 저장용 리스트 및 EarlyStopping 변수 초기화\n",
    "train_hist = []\n",
    "val_hist = []\n",
    "patience = 3\n",
    "best_loss = -1\n",
    "early_stopping_counter = 0\n",
    "# 학습 루프\n",
    "epochs = 100\n",
    "for epoch in range(epochs):\n",
    "    model.train()\n",
    "    train_loss = 0\n",
    "    for inputs, targets in train_loader:\n",
    "        inputs, targets = inputs.to(device), targets.to(device)\n",
    "        optimizer.zero_grad()   # 기울기 초기화\n",
    "        outputs = model(inputs) # 순전파\n",
    "        loss = criterion(outputs.squeeze(), targets) # 손실 계산, outputs.squeeze(): 2차원 배열 -> 1차원 배열\n",
    "        loss.backward()\n",
    "        optimizer.step()\n",
    "\n",
    "        train_loss += loss.item()\n",
    "\n",
    "    model.eval()\n",
    "    val_loss = 0\n",
    "    with torch.no_grad():\n",
    "        for inputs, targets in val_loader:\n",
    "            inputs, targets = inputs.to(device), targets.to(device)\n",
    "            outputs = model(inputs)\n",
    "            loss = criterion(outputs.squeeze(), targets)\n",
    "            val_loss += loss.item()\n",
    "        \n",
    "    train_loss =  train_loss / len(train_loader) # 1에포크 평균 훈련 손실값\n",
    "    val_loss = val_loss / len(val_loader)\n",
    "    train_hist.append(train_loss)\n",
    "    val_hist.append(val_loss)\n",
    "    print(f\"에포크:{epoch+1}, 훈련손실: {train_loss: .4f}, 검증손실: {val_loss:.4f}\")\n",
    "    \n",
    "    # EarlyStopping 및 best 모델 저장\n",
    "    if best_loss == -1 or val_loss < best_loss:\n",
    "        best_loss = val_loss\n",
    "        early_stopping_counter = 0\n",
    "        torch.save(model.state_dict(), 'best_rnn_model.pt')\n",
    "    else:\n",
    "        early_stopping_counter += 1\n",
    "        if early_stopping_counter >= patience:\n",
    "            print(f\"{epoch+1}에서 조기 종료..\")\n",
    "            break"
   ]
  },
  {
   "cell_type": "code",
   "execution_count": null,
   "id": "aaa46588",
   "metadata": {},
   "outputs": [
    {
     "data": {
      "image/png": "[encoded data removed]",
      "text/plain": [
       "<Figure size 640x480 with 1 Axes>"
      ]
     },
     "metadata": {},
     "output_type": "display_data"
    }
   ],
   "source": [
    "import matplotlib.pyplot as plt # 학습/검증 손실 시각화\n",
    "\n",
    "plt.plot(train_hist, label='train')\n",
    "plt.plot(val_hist, label='val')\n",
    "plt.xlabel('epoch')\n",
    "plt.ylabel('loss')\n",
    "plt.legend()\n",
    "plt.show()"
   ]
  },
  {
   "cell_type": "code",
   "execution_count": null,
   "id": "4b7433d9",
   "metadata": {},
   "outputs": [
    {
     "data": {
      "text/plain": [
       "<All keys matched successfully>"
      ]
     },
     "execution_count": 28,
     "metadata": {},
     "output_type": "execute_result"
    }
   ],
   "source": [
    "# 가장 성능이 좋았던 모델 로드\n",
    "model.load_state_dict(torch.load('best_rnn_model.pt', weights_only=True))"
   ]
  },
  {
   "cell_type": "code",
   "execution_count": null,
   "id": "d7e1c53e",
   "metadata": {},
   "outputs": [
    {
     "name": "stdout",
     "output_type": "stream",
     "text": [
      "검증 정확도: 0.6946\n"
     ]
    }
   ],
   "source": [
    "# 검증 데이터셋 정확도 측정\n",
    "model.eval()\n",
    "corrects = 0\n",
    "with torch.no_grad():\n",
    "    for inputs, targets in val_loader:\n",
    "        inputs, taregts = inputs.to(device), targets.to(device)\n",
    "        outputs = model(inputs)\n",
    "        predicts = outputs.squeeze() > 0.5  # 0.5 이상 True, 이하 False\n",
    "        corrects += (predicts == targets).sum().item()\n",
    "\n",
    "accuracy = corrects / len(val_dataset)\n",
    "print(f\"검증 정확도: {accuracy:.4f}\")"
   ]
  },
  {
   "cell_type": "code",
   "execution_count": null,
   "id": "eb87f6a9",
   "metadata": {},
   "outputs": [],
   "source": [
    "# 메모리 흐름\n",
    "# IMDB 데이터셋 구조, maxlen, Embedding, RNN hidden 구조 시각 설명\n",
    "# 조기종료 시점 및 기준 해석\n",
    "# 추가적인 정확도, 정밀도, 재현율, F1-score 출력 코드\n",
    "# GPU 사용 상황별 속도 비교 시뮬레이션 설명"
   ]
  }
 ],
 "metadata": {
  "kernelspec": {
   "display_name": ".venv",
   "language": "python",
   "name": "python3"
  },
  "language_info": {
   "codemirror_mode": {
    "name": "ipython",
    "version": 3
   },
   "file_extension": ".py",
   "mimetype": "text/x-python",
   "name": "python",
   "nbconvert_exporter": "python",
   "pygments_lexer": "ipython3",
   "version": "3.12.10"
  }
 },
 "nbformat": 4,
 "nbformat_minor": 5
}
