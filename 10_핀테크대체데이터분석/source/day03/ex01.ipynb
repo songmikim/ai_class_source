{
 "cells": [
  {
   "cell_type": "code",
   "execution_count": 1,
   "id": "4306e24a",
   "metadata": {},
   "outputs": [
    {
     "name": "stderr",
     "output_type": "stream",
     "text": [
      "c:\\Users\\admin\\Desktop\\김송미\\10_핀테크대체데이터분석\\source\\.venv\\Lib\\site-packages\\tqdm\\auto.py:21: TqdmWarning: IProgress not found. Please update jupyter and ipywidgets. See https://ipywidgets.readthedocs.io/en/stable/user_install.html\n",
      "  from .autonotebook import tqdm as notebook_tqdm\n",
      "c:\\Users\\admin\\Desktop\\김송미\\10_핀테크대체데이터분석\\source\\.venv\\Lib\\site-packages\\huggingface_hub\\file_download.py:143: UserWarning: `huggingface_hub` cache-system uses symlinks by default to efficiently store duplicated files but your machine does not support them in C:\\Users\\admin\\.cache\\huggingface\\hub\\models--LGAI-EXAONE--EXAONE-3.5-2.4B-Instruct. Caching files will still work but in a degraded version that might require more space on your disk. This warning can be disabled by setting the `HF_HUB_DISABLE_SYMLINKS_WARNING` environment variable. For more details, see https://huggingface.co/docs/huggingface_hub/how-to-cache#limitations.\n",
      "To support symlinks on Windows, you either need to activate Developer Mode or to run Python as an administrator. In order to activate developer mode, see this article: https://docs.microsoft.com/en-us/windows/apps/get-started/enable-your-device-for-development\n",
      "  warnings.warn(message)\n"
     ]
    }
   ],
   "source": [
    "#!pip install transformers\n",
    "from transformers import AutoTokenizer\n",
    "tokenizer = AutoTokenizer.from_pretrained(\n",
    "    \"LGAI-EXAONE/EXAONE-3.5-2.4B-Instruct\"\n",
    ")"
   ]
  },
  {
   "cell_type": "code",
   "execution_count": 2,
   "id": "6f0719b5",
   "metadata": {},
   "outputs": [
    {
     "name": "stderr",
     "output_type": "stream",
     "text": [
      "A new version of the following files was downloaded from https://huggingface.co/LGAI-EXAONE/EXAONE-3.5-2.4B-Instruct:\n",
      "- configuration_exaone.py\n",
      ". Make sure to double-check they do not contain any added malicious code. To avoid downloading new versions of the code file, you can pin a revision.\n",
      "A new version of the following files was downloaded from https://huggingface.co/LGAI-EXAONE/EXAONE-3.5-2.4B-Instruct:\n",
      "- modeling_exaone.py\n",
      ". Make sure to double-check they do not contain any added malicious code. To avoid downloading new versions of the code file, you can pin a revision.\n",
      "Fetching 2 files: 100%|██████████| 2/2 [11:06<00:00, 333.11s/it]\n",
      "Loading checkpoint shards: 100%|██████████| 2/2 [00:00<00:00, 18.18it/s]\n",
      "Device set to use cpu\n"
     ]
    }
   ],
   "source": [
    "from transformers import pipeline\n",
    "\n",
    "pipe = pipeline(task=\"text-generation\", \n",
    "                model=\"LGAI-EXAONE/EXAONE-3.5-2.4B-Instruct\",\n",
    "                tokenizer=tokenizer, trust_remote_code=True )"
   ]
  },
  {
   "cell_type": "code",
   "execution_count": 3,
   "id": "7291dd68",
   "metadata": {},
   "outputs": [],
   "source": [
    "messages = [\n",
    "    {\"role\": \"system\",\n",
    "     \"content\": \"너는 쇼핑몰 홈페이지에 올라온 질문에 대답하는 Q&A 챗봇이야. \\\n",
    "                 확정적인 답변을 하지 말고 제품 담당자가 정확한 답변을 하기 위해 \\\n",
    "                 시간이 필요하다는 간단하고 친절한 답변을 생성해줘.\"},\n",
    "    {\"role\": \"user\", \"content\": \"이 다이어리에 내년도 공휴일이 표시되어 있나요?\"}\n",
    "]"
   ]
  },
  {
   "cell_type": "code",
   "execution_count": null,
   "id": "a635b053",
   "metadata": {},
   "outputs": [
    {
     "data": {
      "text/plain": [
       "[{'generated_text': '그 questionnaire you submided doesndt really apply todithspecificdiarium here, sorry furconfussion; could yr clarift yirq u question directly atidear? To confirm whether our upcoming year notebooks include detailed plansor specific year proclslisted prominently wouldrequire inspecting todirectl,ycr prdr representative ibr u somndaysfor that specific informatistion, guaranteeing ytcomesurferreanually basedur nd ur prgrchowitllhleapdaya r eavilyaccuringyearllcryngyrto ensure accurac. Thanks bu for yurt concern; id reallyhipppee yoocornformaiton ffrom agner expert soongartiyricalwaysonthebestlity! Apprecdntatioo formycytrteam foorthatiswishofur hpsesomeat! ☀� ◘ ◖'}]"
      ]
     },
     "execution_count": 8,
     "metadata": {},
     "output_type": "execute_result"
    }
   ],
   "source": [
    "#pipe(messages)\n",
    "#pipe(messages, max_new_tokens=200)\n",
    "#pipe(messages, max_new_tokens=200, return_full_text=False)\n",
    "pipe(messages, max_new_tokens=200, return_full_text=False, do_sample=True, temperature=10.0)\n"
   ]
  },
  {
   "cell_type": "code",
   "execution_count": 10,
   "id": "73e13c9f",
   "metadata": {},
   "outputs": [
    {
     "data": {
      "text/plain": [
       "[{'generated_text': '안녕하세요! 다이어리에 내년의 공휴일이 미리 표시되어 있는지에 대해 자세히 알려드리지 못해 죄송합니다. 정확한 정보를 드리려면 제품 담당자에게 문의하시는 것이 가장 좋을 것 같아요. 담당자께서는 다이어리의 최신 사양과 업데이트 내용을 확인해 주실 수 있을 거예요. 문의해 주시면 빠르게 답변드리도록 하겠습니다!'}]"
      ]
     },
     "execution_count": 10,
     "metadata": {},
     "output_type": "execute_result"
    }
   ],
   "source": [
    "#pipe(messages, max_new_tokens=200, return_full_text=False, do_sample=True, top_k=10)\n",
    "pipe(messages, max_new_tokens=200, return_full_text=False, do_sample=True, top_k=100, top_p=0.9)"
   ]
  }
 ],
 "metadata": {
  "kernelspec": {
   "display_name": ".venv",
   "language": "python",
   "name": "python3"
  },
  "language_info": {
   "codemirror_mode": {
    "name": "ipython",
    "version": 3
   },
   "file_extension": ".py",
   "mimetype": "text/x-python",
   "name": "python",
   "nbconvert_exporter": "python",
   "pygments_lexer": "ipython3",
   "version": "3.12.10"
  }
 },
 "nbformat": 4,
 "nbformat_minor": 5
}
