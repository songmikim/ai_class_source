{
 "cells": [
  {
   "cell_type": "code",
   "execution_count": 12,
   "id": "9b7198a7",
   "metadata": {},
   "outputs": [],
   "source": [
    "from selenium import webdriver\n",
    "from selenium.webdriver.common.by import By\n",
    "import time "
   ]
  },
  {
   "cell_type": "code",
   "execution_count": 13,
   "id": "72af0d61",
   "metadata": {},
   "outputs": [],
   "source": [
    "driver = webdriver.Chrome()\n",
    "driver.get(\"https://news.naver.com/section/105\")\n",
    "time.sleep(3)"
   ]
  },
  {
   "cell_type": "code",
   "execution_count": 14,
   "id": "bbfb7db8",
   "metadata": {},
   "outputs": [
    {
     "data": {
      "text/plain": [
       "<selenium.webdriver.remote.webelement.WebElement (session=\"f16386673f161d104f2a5a8291a567a3\", element=\"f.B59AA0A660D06D4DBA2075A707774FCC.d.0B17166426B3AE069F64AC00630066EE.e.79\")>"
      ]
     },
     "execution_count": 14,
     "metadata": {},
     "output_type": "execute_result"
    }
   ],
   "source": [
    "headline_section = driver.find_element(By.CLASS_NAME, 'as_headline')\n",
    "headline_section"
   ]
  },
  {
   "cell_type": "code",
   "execution_count": 15,
   "id": "bfe5e9a4",
   "metadata": {},
   "outputs": [
    {
     "data": {
      "text/plain": [
       "[<selenium.webdriver.remote.webelement.WebElement (session=\"f16386673f161d104f2a5a8291a567a3\", element=\"f.B59AA0A660D06D4DBA2075A707774FCC.d.0B17166426B3AE069F64AC00630066EE.e.80\")>,\n",
       " <selenium.webdriver.remote.webelement.WebElement (session=\"f16386673f161d104f2a5a8291a567a3\", element=\"f.B59AA0A660D06D4DBA2075A707774FCC.d.0B17166426B3AE069F64AC00630066EE.e.81\")>,\n",
       " <selenium.webdriver.remote.webelement.WebElement (session=\"f16386673f161d104f2a5a8291a567a3\", element=\"f.B59AA0A660D06D4DBA2075A707774FCC.d.0B17166426B3AE069F64AC00630066EE.e.82\")>,\n",
       " <selenium.webdriver.remote.webelement.WebElement (session=\"f16386673f161d104f2a5a8291a567a3\", element=\"f.B59AA0A660D06D4DBA2075A707774FCC.d.0B17166426B3AE069F64AC00630066EE.e.83\")>,\n",
       " <selenium.webdriver.remote.webelement.WebElement (session=\"f16386673f161d104f2a5a8291a567a3\", element=\"f.B59AA0A660D06D4DBA2075A707774FCC.d.0B17166426B3AE069F64AC00630066EE.e.84\")>,\n",
       " <selenium.webdriver.remote.webelement.WebElement (session=\"f16386673f161d104f2a5a8291a567a3\", element=\"f.B59AA0A660D06D4DBA2075A707774FCC.d.0B17166426B3AE069F64AC00630066EE.e.85\")>,\n",
       " <selenium.webdriver.remote.webelement.WebElement (session=\"f16386673f161d104f2a5a8291a567a3\", element=\"f.B59AA0A660D06D4DBA2075A707774FCC.d.0B17166426B3AE069F64AC00630066EE.e.86\")>,\n",
       " <selenium.webdriver.remote.webelement.WebElement (session=\"f16386673f161d104f2a5a8291a567a3\", element=\"f.B59AA0A660D06D4DBA2075A707774FCC.d.0B17166426B3AE069F64AC00630066EE.e.87\")>]"
      ]
     },
     "execution_count": 15,
     "metadata": {},
     "output_type": "execute_result"
    }
   ],
   "source": [
    "items = headline_section.find_elements(By.CLASS_NAME, 'sa_text_strong')\n",
    "items"
   ]
  },
  {
   "cell_type": "code",
   "execution_count": 16,
   "id": "5e6b069c",
   "metadata": {},
   "outputs": [
    {
     "name": "stdout",
     "output_type": "stream",
     "text": [
      "NHN클라우드, 올해 공공 클라우드 전환사업 7개 중 5개 맡아\n",
      "‘쇠구슬 굴려 이산화탄소를 천연가스로’ 기계화학 저온 공정 개발\n",
      "애플, 12년 만에 운영 체제 개편...반투명 디자인 도입했지만 새로운 제품 발표 없어\n",
      "프렌들리AI, 글로벌 시장 공략 가속… “세계가 주목한 AI 추론 가속화 기술”\n",
      "메가존클라우드, '래빗워크' 고성능 콘텐츠 제작 지원\n",
      "LGU+, 안전한 AI 개발·운용 글로벌 인증…AI 경쟁력 강화\n",
      "크래프톤 '인조이', 애플 맥 OS서도 즐긴다\n",
      "\"더 얇고 가볍고 강하다\" 삼성, 갤럭시 Z 폴드 7 2차 티저 공개\n"
     ]
    }
   ],
   "source": [
    "for items in items:\n",
    "    print(items.text)"
   ]
  },
  {
   "cell_type": "code",
   "execution_count": 17,
   "id": "8399d39a",
   "metadata": {},
   "outputs": [
    {
     "data": {
      "text/plain": [
       "[<selenium.webdriver.remote.webelement.WebElement (session=\"f16386673f161d104f2a5a8291a567a3\", element=\"f.B59AA0A660D06D4DBA2075A707774FCC.d.0B17166426B3AE069F64AC00630066EE.e.18\")>,\n",
       " <selenium.webdriver.remote.webelement.WebElement (session=\"f16386673f161d104f2a5a8291a567a3\", element=\"f.B59AA0A660D06D4DBA2075A707774FCC.d.0B17166426B3AE069F64AC00630066EE.e.19\")>,\n",
       " <selenium.webdriver.remote.webelement.WebElement (session=\"f16386673f161d104f2a5a8291a567a3\", element=\"f.B59AA0A660D06D4DBA2075A707774FCC.d.0B17166426B3AE069F64AC00630066EE.e.20\")>,\n",
       " <selenium.webdriver.remote.webelement.WebElement (session=\"f16386673f161d104f2a5a8291a567a3\", element=\"f.B59AA0A660D06D4DBA2075A707774FCC.d.0B17166426B3AE069F64AC00630066EE.e.21\")>,\n",
       " <selenium.webdriver.remote.webelement.WebElement (session=\"f16386673f161d104f2a5a8291a567a3\", element=\"f.B59AA0A660D06D4DBA2075A707774FCC.d.0B17166426B3AE069F64AC00630066EE.e.22\")>,\n",
       " <selenium.webdriver.remote.webelement.WebElement (session=\"f16386673f161d104f2a5a8291a567a3\", element=\"f.B59AA0A660D06D4DBA2075A707774FCC.d.0B17166426B3AE069F64AC00630066EE.e.23\")>,\n",
       " <selenium.webdriver.remote.webelement.WebElement (session=\"f16386673f161d104f2a5a8291a567a3\", element=\"f.B59AA0A660D06D4DBA2075A707774FCC.d.0B17166426B3AE069F64AC00630066EE.e.24\")>]"
      ]
     },
     "execution_count": 17,
     "metadata": {},
     "output_type": "execute_result"
    }
   ],
   "source": [
    "images = driver.find_elements(By.CSS_SELECTOR,'.as_headline .sa_thumb_link img')\n",
    "images"
   ]
  },
  {
   "cell_type": "code",
   "execution_count": 18,
   "id": "802df299",
   "metadata": {},
   "outputs": [],
   "source": [
    "from urllib.request import urlretrieve\n",
    "\n",
    "for i, image in enumerate(images):\n",
    "    image_url = image.get_attribute('src')\n",
    "    urlretrieve(image_url, f\"C:/uploads/{i}.jpg\")"
   ]
  },
  {
   "cell_type": "code",
   "execution_count": 19,
   "id": "1814eac8",
   "metadata": {},
   "outputs": [],
   "source": [
    "from bs4 import BeautifulSoup as bs\n",
    "\n",
    "html = driver.page_source\n",
    "soup = bs(html, 'html.parser')"
   ]
  },
  {
   "cell_type": "code",
   "execution_count": 20,
   "id": "f3b8839c",
   "metadata": {},
   "outputs": [],
   "source": [
    "# 자바스크립트 실행\n",
    "driver.execute_script(\"alert('자바스크립트 실행!');\")"
   ]
  }
 ],
 "metadata": {
  "kernelspec": {
   "display_name": ".venv",
   "language": "python",
   "name": "python3"
  },
  "language_info": {
   "codemirror_mode": {
    "name": "ipython",
    "version": 3
   },
   "file_extension": ".py",
   "mimetype": "text/x-python",
   "name": "python",
   "nbconvert_exporter": "python",
   "pygments_lexer": "ipython3",
   "version": "3.12.10"
  }
 },
 "nbformat": 4,
 "nbformat_minor": 5
}
