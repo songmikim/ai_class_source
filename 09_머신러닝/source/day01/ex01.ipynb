{
 "cells": [
  {
   "cell_type": "code",
   "execution_count": 16,
   "id": "3c84c485",
   "metadata": {},
   "outputs": [],
   "source": [
    "from selenium import webdriver\n",
    "from selenium.webdriver.common.by import By\n",
    "from selenium.webdriver.common.keys import Keys\n",
    "import time\n",
    "driver = webdriver.Chrome()\n",
    "\n",
    "# 브라우저의 주소창을 변경하고 이동\n",
    "driver.get('https://www.naver.com')\n",
    "\n",
    "time.sleep(3)"
   ]
  },
  {
   "cell_type": "code",
   "execution_count": 17,
   "id": "2a3b89cc",
   "metadata": {},
   "outputs": [
    {
     "data": {
      "text/plain": [
       "<selenium.webdriver.remote.webelement.WebElement (session=\"13d649a5065d66425a807df621007ae6\", element=\"f.8827FE8B4D7838F7A44CD573D8B27DC0.d.099B7270EF6B3076ADBDAE71E9F9C99B.e.5\")>"
      ]
     },
     "execution_count": 17,
     "metadata": {},
     "output_type": "execute_result"
    }
   ],
   "source": [
    "#search_box = driver.find_element(By.ID, \"query\")\n",
    "search_box = driver.find_element(By.XPATH, \"//form[@id='sform']/fieldset/div/input\")\n",
    "search_box"
   ]
  },
  {
   "cell_type": "code",
   "execution_count": 18,
   "id": "4f22365f",
   "metadata": {},
   "outputs": [],
   "source": [
    "search_box.send_keys(\"블로그\")\n",
    "search_box.send_keys(Keys.ENTER) #엔터키"
   ]
  },
  {
   "cell_type": "code",
   "execution_count": 19,
   "id": "c074ce7e",
   "metadata": {},
   "outputs": [],
   "source": [
    "#search_btn = driver.find_element(By.CLASS_NAME, 'btn_search')\n",
    "#search_btn.click()"
   ]
  },
  {
   "cell_type": "code",
   "execution_count": null,
   "id": "6e0273c1",
   "metadata": {},
   "outputs": [],
   "source": []
  }
 ],
 "metadata": {
  "kernelspec": {
   "display_name": ".venv",
   "language": "python",
   "name": "python3"
  },
  "language_info": {
   "codemirror_mode": {
    "name": "ipython",
    "version": 3
   },
   "file_extension": ".py",
   "mimetype": "text/x-python",
   "name": "python",
   "nbconvert_exporter": "python",
   "pygments_lexer": "ipython3",
   "version": "3.12.10"
  }
 },
 "nbformat": 4,
 "nbformat_minor": 5
}
