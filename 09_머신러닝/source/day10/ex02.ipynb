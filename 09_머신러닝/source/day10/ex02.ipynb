{
 "cells": [
  {
   "cell_type": "code",
   "execution_count": 1,
   "id": "84bd0624",
   "metadata": {},
   "outputs": [
    {
     "name": "stderr",
     "output_type": "stream",
     "text": [
      "100.0%\n",
      "100.0%\n",
      "100.0%\n",
      "100.0%\n"
     ]
    }
   ],
   "source": [
    "import torch\n",
    "from torchvision.datasets import FashionMNIST\n",
    "fm_train = FashionMNIST(root='.', train=True, download=True)\n",
    "fm_test = FashionMNIST(root='.', train=False, download=True)"
   ]
  },
  {
   "cell_type": "code",
   "execution_count": 3,
   "id": "ac71d566",
   "metadata": {},
   "outputs": [],
   "source": [
    "train_input = fm_train.data\n",
    "train_target = fm_train.targets"
   ]
  },
  {
   "cell_type": "code",
   "execution_count": 4,
   "id": "21714a6f",
   "metadata": {},
   "outputs": [],
   "source": [
    "# 정규화 0~1\n",
    "train_scaled = train_input / 255.0"
   ]
  },
  {
   "cell_type": "code",
   "execution_count": 5,
   "id": "9e8a413b",
   "metadata": {},
   "outputs": [],
   "source": [
    "# 훈련세트, 검증 세트\n",
    "from sklearn.model_selection import train_test_split\n",
    "train_scaled, val_scaled, train_target, val_target = train_test_split(\n",
    "    train_scaled, train_target, test_size=0.2, random_state=42\n",
    ")"
   ]
  },
  {
   "cell_type": "code",
   "execution_count": 6,
   "id": "aa6cf09f",
   "metadata": {},
   "outputs": [],
   "source": [
    "# 모델을 위한 층 구성\n",
    "import torch.nn as nn\n",
    "\n",
    "model = nn.Sequential(\n",
    "    nn.Flatten(),\n",
    "    nn.Linear(784, 100),\n",
    "    nn.ReLU(),\n",
    "    nn.Dropout(0.3),\n",
    "    nn.Linear(100, 10)\n",
    ")"
   ]
  },
  {
   "cell_type": "code",
   "execution_count": 7,
   "id": "0390fc09",
   "metadata": {},
   "outputs": [
    {
     "data": {
      "text/plain": [
       "Sequential(\n",
       "  (0): Flatten(start_dim=1, end_dim=-1)\n",
       "  (1): Linear(in_features=784, out_features=100, bias=True)\n",
       "  (2): ReLU()\n",
       "  (3): Dropout(p=0.3, inplace=False)\n",
       "  (4): Linear(in_features=100, out_features=10, bias=True)\n",
       ")"
      ]
     },
     "execution_count": 7,
     "metadata": {},
     "output_type": "execute_result"
    }
   ],
   "source": [
    "# GPU, CPU 결정, 모델에 연결\n",
    "device = torch.device(\"cuda\" if torch.cuda.is_available() else \"cpu\")\n",
    "\n",
    "# 맥 - device = torch.device(\"mps\" is torch.backends.mps.is_available() else \"cpu\")\n",
    "model.to(device)"
   ]
  },
  {
   "cell_type": "code",
   "execution_count": 8,
   "id": "fe9daaf0",
   "metadata": {},
   "outputs": [],
   "source": [
    "# 손실 함수, 옵티마이저\n",
    "import torch.optim as optim\n",
    "\n",
    "criterion = nn.CrossEntropyLoss() # 손실함수\n",
    "optimizer = optim.Adam(model.parameters(), lr=0.001)"
   ]
  },
  {
   "cell_type": "code",
   "execution_count": 10,
   "id": "05113000",
   "metadata": {},
   "outputs": [
    {
     "name": "stdout",
     "output_type": "stream",
     "text": [
      "에포크:1, 훈련손실:0.6059, 검증손실:0.4343\n",
      "에포크:2, 훈련손실:0.4441, 검증손실:0.3918\n",
      "에포크:3, 훈련손실:0.4063, 검증손실:0.3689\n",
      "에포크:4, 훈련손실:0.384, 검증손실:0.3587\n",
      "에포크:5, 훈련손실:0.3669, 검증손실:0.3495\n",
      "에포크:6, 훈련손실:0.3556, 검증손실:0.3387\n",
      "에포크:7, 훈련손실:0.3453, 검증손실:0.3471\n",
      "에포크:8, 훈련손실:0.3348, 검증손실:0.3325\n",
      "에포크:9, 훈련손실:0.3302, 검증손실:0.3257\n",
      "에포크:10, 훈련손실:0.3216, 검증손실:0.3319\n",
      "에포크:11, 훈련손실:0.3179, 검증손실:0.3281\n",
      "에포크:12, 훈련손실:0.3112, 검증손실:0.3258\n",
      "12번째 에포크에서 조기 종료되었습니다.\n"
     ]
    }
   ],
   "source": [
    "# 훈련 하기\n",
    "train_hist = [] # 훈련세트 에포크 마다의 loss 값\n",
    "val_hist = [] # 검증세트 에포크 마다의 loss값\n",
    "patience = 3\n",
    "best_loss = -1\n",
    "early_stopping_counter = 0\n",
    "epochs = 50\n",
    "batches = int(len(train_scaled) / 32)\n",
    "for epoch in range(epochs): # 50 에포크\n",
    "    model.train() # 훈련 시작\n",
    "    train_loss = 0 # 에포크당 훈련 세트 평균 로스\n",
    "    for i in range(batches): # 미니배치 경사 하강법(32개씩, 1500회)\n",
    "        inputs = train_scaled[i*32:(i+1)*32].to(device)\n",
    "        targets = train_target[i*32:(i+1)*32].to(device)\n",
    "\n",
    "        optimizer.zero_grad() # 그레디언트 연산 초기화\n",
    "        outputs = model(inputs) # 예측값 추론\n",
    "\n",
    "        loss = criterion(outputs, targets) # 손실값(loss)\n",
    "        loss.backward() # 역전파\n",
    "        optimizer.step() # 모델 파라미터 업데이트\n",
    "\n",
    "        train_loss += loss.item() # 미니 배치 마다의 손실값(loss)을 누적\n",
    "\n",
    "    model.eval() # 평가 진행\n",
    "    val_loss = 0\n",
    "    with torch.no_grad(): # 평가를 하는 것이므로 그레디언트 연산 x\n",
    "        val_scaled = val_scaled.to(device)\n",
    "        val_target = val_target.to(device)\n",
    "        outputs = model(val_scaled) # 검증 세트의 예측값\n",
    "        loss = criterion(outputs, val_target) # 검증 세트의 손실값(loss)\n",
    "        val_loss = loss.item()\n",
    "\n",
    "    # 1 에포크 종료시 훈련 손실, 검증 손을 기록\n",
    "    train_loss_avg = train_loss / batches\n",
    "    train_hist.append(train_loss_avg) # 1에포크 훈련세트 손실값 평균\n",
    "    val_hist.append(val_loss) # 1에포크 검증 손실값\n",
    "\n",
    "    print(f\"에포크:{epoch+1}, 훈련손실:{train_loss_avg:.4}, 검증손실:{val_loss:.4f}\")\n",
    "\n",
    "    if best_loss == -1 or val_loss < best_loss: # 1에포크 이거나, 현재 에포크의 검증 손실이 기존 검증 손실보다 작은 경우 -> 더 좋은 것! , 손실값을 업데이트\n",
    "        best_loss = val_loss\n",
    "        early_stopping_counter = 0  #조기종료 카운트를 초기화\n",
    "        \n",
    "        torch.save(model.state_dict(), \"best_model.pt\")\n",
    "\n",
    "    else:   # 기존 검증 손실이 더 좋다!, 현재 손실이 좋지 않음\n",
    "        early_stopping_counter += 1\n",
    "        if early_stopping_counter >= patience:\n",
    "            print(f\"{epoch+1}번째 에포크에서 조기 종료되었습니다.\")\n",
    "            break # 반복 종료"
   ]
  },
  {
   "cell_type": "code",
   "execution_count": 11,
   "id": "aef2d0b5",
   "metadata": {},
   "outputs": [
    {
     "data": {
      "image/png": "[encoded data removed]",
      "text/plain": [
       "<Figure size 640x480 with 1 Axes>"
      ]
     },
     "metadata": {},
     "output_type": "display_data"
    }
   ],
   "source": [
    "import matplotlib.pyplot as plt\n",
    "plt.plot(train_hist, label='train')\n",
    "plt.plot(val_hist, label='val')\n",
    "plt.xlabel('epoch')\n",
    "plt.ylabel('loss')\n",
    "plt.legend()\n",
    "plt.show()"
   ]
  },
  {
   "cell_type": "code",
   "execution_count": 12,
   "id": "27722ed3",
   "metadata": {},
   "outputs": [
    {
     "data": {
      "text/plain": [
       "<All keys matched successfully>"
      ]
     },
     "execution_count": 12,
     "metadata": {},
     "output_type": "execute_result"
    }
   ],
   "source": [
    "# 저장된 모델의 가중치를 로드\n",
    "model.load_state_dict(torch.load('best_model.pt', weights_only=True))"
   ]
  },
  {
   "cell_type": "code",
   "execution_count": 16,
   "id": "5096b3d8",
   "metadata": {},
   "outputs": [
    {
     "name": "stdout",
     "output_type": "stream",
     "text": [
      "검증세트 정확도:0.8817, 손실값:0.3257\n"
     ]
    }
   ],
   "source": [
    "model.eval()\n",
    "with torch.no_grad():\n",
    "    val_scaled = val_scaled.to(device)\n",
    "    val_target = val_target.to(device)\n",
    "    outputs = model(val_scaled)\n",
    "    loss = criterion(outputs, val_target)\n",
    "    predicts = torch.argmax(outputs, 1)\n",
    "    corrects = (predicts == val_target).sum().item()\n",
    "\n",
    "accuracy = corrects / len(val_target)\n",
    "\n",
    "print(f\"검증세트 정확도:{accuracy:.4f}, 손실값:{loss.item():.4f}\")"
   ]
  },
  {
   "cell_type": "code",
   "execution_count": null,
   "id": "9312cbbb",
   "metadata": {},
   "outputs": [],
   "source": []
  }
 ],
 "metadata": {
  "kernelspec": {
   "display_name": ".venv",
   "language": "python",
   "name": "python3"
  },
  "language_info": {
   "codemirror_mode": {
    "name": "ipython",
    "version": 3
   },
   "file_extension": ".py",
   "mimetype": "text/x-python",
   "name": "python",
   "nbconvert_exporter": "python",
   "pygments_lexer": "ipython3",
   "version": "3.12.10"
  }
 },
 "nbformat": 4,
 "nbformat_minor": 5
}
