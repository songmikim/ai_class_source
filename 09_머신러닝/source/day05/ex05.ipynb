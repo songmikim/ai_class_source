{
 "cells": [
  {
   "cell_type": "code",
   "execution_count": 1,
   "id": "23dce01a",
   "metadata": {},
   "outputs": [],
   "source": [
    "from scipy.stats import randint, uniform"
   ]
  },
  {
   "cell_type": "code",
   "execution_count": 2,
   "id": "eb245762",
   "metadata": {},
   "outputs": [
    {
     "data": {
      "text/plain": [
       "array([3, 4, 8, 0, 3, 7, 9, 3, 6, 5, 8])"
      ]
     },
     "execution_count": 2,
     "metadata": {},
     "output_type": "execute_result"
    }
   ],
   "source": [
    "ri = randint(0, 10) # 0~9 무작위 수\n",
    "ri.rvs(11) # 0~9사이 숫자 중 무작위 수를 11개 생성"
   ]
  },
  {
   "cell_type": "code",
   "execution_count": 4,
   "id": "7e5725cd",
   "metadata": {},
   "outputs": [
    {
     "data": {
      "text/plain": [
       "(array([0, 1, 2, 3, 4, 5, 6, 7, 8, 9]),\n",
       " array([ 89,  93,  95, 111,  96, 104, 111,  92, 103, 106]))"
      ]
     },
     "execution_count": 4,
     "metadata": {},
     "output_type": "execute_result"
    }
   ],
   "source": [
    "import numpy as np\n",
    "np.unique(ri.rvs(1000), return_counts=True) # 중복된 총 갯수를 함께 반환"
   ]
  },
  {
   "cell_type": "code",
   "execution_count": 5,
   "id": "fc8437e6",
   "metadata": {},
   "outputs": [
    {
     "data": {
      "text/plain": [
       "array([0.92647296, 0.88762704, 0.41183616, 0.77595825, 0.61412793])"
      ]
     },
     "execution_count": 5,
     "metadata": {},
     "output_type": "execute_result"
    }
   ],
   "source": [
    "ui = uniform(0,1) # 0~1 사이의 무작위 실수\n",
    "ui.rvs(5) # 0~1 사이 무작위 실수를 5개 생성"
   ]
  }
 ],
 "metadata": {
  "kernelspec": {
   "display_name": ".venv",
   "language": "python",
   "name": "python3"
  },
  "language_info": {
   "codemirror_mode": {
    "name": "ipython",
    "version": 3
   },
   "file_extension": ".py",
   "mimetype": "text/x-python",
   "name": "python",
   "nbconvert_exporter": "python",
   "pygments_lexer": "ipython3",
   "version": "3.12.10"
  }
 },
 "nbformat": 4,
 "nbformat_minor": 5
}
