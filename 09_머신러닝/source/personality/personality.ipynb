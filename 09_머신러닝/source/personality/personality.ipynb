{
 "cells": [
  {
   "cell_type": "code",
   "execution_count": 3,
   "id": "6fe224d5",
   "metadata": {},
   "outputs": [],
   "source": [
    "import pickle\n",
    "from sklearn.ensemble import GradientBoostingClassifier"
   ]
  },
  {
   "cell_type": "code",
   "execution_count": 4,
   "id": "75d27bcf",
   "metadata": {},
   "outputs": [],
   "source": [
    "with open(\"model.pkl\", \"rb\") as f:\n",
    "    model = pickle.load(f)"
   ]
  },
  {
   "cell_type": "code",
   "execution_count": null,
   "id": "ecf10ce5",
   "metadata": {},
   "outputs": [],
   "source": [
    "# 분류하기\n",
    "import numpy as np\n",
    "test_data = np.array([[ 4.,  0.,  4.,  6.,  0., 13.,  5.],\n",
    "       [ 9.,  1.,  0.,  0.,  1.,  0.,  3.],\n",
    "       [ 9.,  1.,  1.,  2.,  1.,  5.,  2.],\n",
    "       [ 0.,  0.,  6.,  7.,  0., 14.,  8.],\n",
    "       [ 3.,  0.,  9.,  4.,  0.,  8.,  5.],\n",
    "       [ 1.,  0.,  7.,  5.,  0.,  6.,  6.]])"
   ]
  },
  {
   "cell_type": "code",
   "execution_count": 6,
   "id": "9f86e286",
   "metadata": {},
   "outputs": [
    {
     "data": {
      "text/plain": [
       "array([1, 0, 0, 1, 1, 1])"
      ]
     },
     "execution_count": 6,
     "metadata": {},
     "output_type": "execute_result"
    }
   ],
   "source": [
    "model.predict(test_data)"
   ]
  }
 ],
 "metadata": {
  "kernelspec": {
   "display_name": ".venv",
   "language": "python",
   "name": "python3"
  },
  "language_info": {
   "codemirror_mode": {
    "name": "ipython",
    "version": 3
   },
   "file_extension": ".py",
   "mimetype": "text/x-python",
   "name": "python",
   "nbconvert_exporter": "python",
   "pygments_lexer": "ipython3",
   "version": "3.12.10"
  }
 },
 "nbformat": 4,
 "nbformat_minor": 5
}
