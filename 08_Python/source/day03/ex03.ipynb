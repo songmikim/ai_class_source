{
 "cells": [
  {
   "cell_type": "markdown",
   "id": "4557c503",
   "metadata": {},
   "source": []
  },
  {
   "cell_type": "code",
   "execution_count": 1,
   "id": "8a494f47",
   "metadata": {},
   "outputs": [],
   "source": [
    "def add(num1, num2):\n",
    "    return num1 + num2"
   ]
  },
  {
   "cell_type": "code",
   "execution_count": 2,
   "id": "86532e33",
   "metadata": {},
   "outputs": [
    {
     "data": {
      "text/plain": [
       "30"
      ]
     },
     "execution_count": 2,
     "metadata": {},
     "output_type": "execute_result"
    }
   ],
   "source": [
    "add(10, 20)"
   ]
  },
  {
   "cell_type": "code",
   "execution_count": 3,
   "id": "21b2d6d4",
   "metadata": {},
   "outputs": [
    {
     "data": {
      "text/plain": [
       "30"
      ]
     },
     "execution_count": 3,
     "metadata": {},
     "output_type": "execute_result"
    }
   ],
   "source": [
    "add(num2=10, num1=20)"
   ]
  },
  {
   "cell_type": "code",
   "execution_count": 7,
   "id": "ab1ae7d5",
   "metadata": {},
   "outputs": [],
   "source": [
    "def add(num1, num2 = 10):\n",
    "    return num1 + num2"
   ]
  },
  {
   "cell_type": "code",
   "execution_count": 5,
   "id": "fbe60dcd",
   "metadata": {},
   "outputs": [
    {
     "data": {
      "text/plain": [
       "30"
      ]
     },
     "execution_count": 5,
     "metadata": {},
     "output_type": "execute_result"
    }
   ],
   "source": [
    "add(20)"
   ]
  },
  {
   "cell_type": "markdown",
   "id": "e4c3ea65",
   "metadata": {},
   "source": [
    "## 가변 매개변수\n",
    "- 매개변수에 *를 붙인다."
   ]
  },
  {
   "cell_type": "code",
   "execution_count": 15,
   "id": "fab9ee46",
   "metadata": {},
   "outputs": [],
   "source": [
    "def calc(oper, *args):\n",
    "    result = 0\n",
    "    if oper == 'add':\n",
    "        for num in args: result += num\n",
    "    elif oper == 'mul':\n",
    "        result = 1\n",
    "        for num in args: result *= num\n",
    "\n",
    "    return result"
   ]
  },
  {
   "cell_type": "code",
   "execution_count": 13,
   "id": "36478ef4",
   "metadata": {},
   "outputs": [
    {
     "data": {
      "text/plain": [
       "100"
      ]
     },
     "execution_count": 13,
     "metadata": {},
     "output_type": "execute_result"
    }
   ],
   "source": [
    "calc(\"add\", 10, 20, 30, 40)\n"
   ]
  },
  {
   "cell_type": "code",
   "execution_count": 16,
   "id": "6958737c",
   "metadata": {},
   "outputs": [
    {
     "data": {
      "text/plain": [
       "240000"
      ]
     },
     "execution_count": 16,
     "metadata": {},
     "output_type": "execute_result"
    }
   ],
   "source": [
    "calc(\"mul\", 10, 20, 30, 40)"
   ]
  },
  {
   "cell_type": "code",
   "execution_count": 17,
   "id": "ba759c4b",
   "metadata": {},
   "outputs": [],
   "source": [
    "def print_value(**kwargs):\n",
    "    print(kwargs)"
   ]
  },
  {
   "cell_type": "code",
   "execution_count": 18,
   "id": "66f790b6",
   "metadata": {},
   "outputs": [
    {
     "name": "stdout",
     "output_type": "stream",
     "text": [
      "{'name': '이이름', 'age': 40}\n"
     ]
    }
   ],
   "source": [
    "print_value(name='이이름', age=40)"
   ]
  },
  {
   "cell_type": "code",
   "execution_count": 19,
   "id": "191bcfc0",
   "metadata": {},
   "outputs": [],
   "source": [
    "def print_value(*args, **kwargs):\n",
    "    print(\"args\", args)\n",
    "    print(\"kwargs\", kwargs)"
   ]
  },
  {
   "cell_type": "code",
   "execution_count": 20,
   "id": "423ceeae",
   "metadata": {},
   "outputs": [
    {
     "name": "stdout",
     "output_type": "stream",
     "text": [
      "args (10, 20, 30)\n",
      "kwargs {'name': '이이름', 'age': 40}\n"
     ]
    }
   ],
   "source": [
    "print_value(10, 20, 30, name='이이름', age=40)"
   ]
  },
  {
   "cell_type": "code",
   "execution_count": 21,
   "id": "88857f84",
   "metadata": {},
   "outputs": [],
   "source": [
    "def calc(num1, num2):\n",
    "    return num1 + num2, num1 - num2, num1 * num2, num1 / num2"
   ]
  },
  {
   "cell_type": "code",
   "execution_count": 22,
   "id": "a0a66bda",
   "metadata": {},
   "outputs": [
    {
     "data": {
      "text/plain": [
       "(30, 10, 200, 2.0)"
      ]
     },
     "execution_count": 22,
     "metadata": {},
     "output_type": "execute_result"
    }
   ],
   "source": [
    "result = calc(20, 10)\n",
    "result"
   ]
  },
  {
   "cell_type": "code",
   "execution_count": 23,
   "id": "da813d5f",
   "metadata": {},
   "outputs": [
    {
     "name": "stdout",
     "output_type": "stream",
     "text": [
      "30 10 200 2.0\n"
     ]
    }
   ],
   "source": [
    "add_result, sub_result, mul_result, div_result = calc(20, 10)\n",
    "print(add_result, sub_result, mul_result, div_result)"
   ]
  },
  {
   "cell_type": "code",
   "execution_count": null,
   "id": "c96efd17",
   "metadata": {},
   "outputs": [],
   "source": [
    "a = 100 # 전역변수\n",
    "def calc():\n",
    "    global a # 전역변수를 지역내에서 접근할때\n",
    "    \n",
    "    b = 200 # 지역변수\n",
    "    return a + b"
   ]
  },
  {
   "cell_type": "code",
   "execution_count": 25,
   "id": "9f59bd46",
   "metadata": {},
   "outputs": [
    {
     "data": {
      "text/plain": [
       "300"
      ]
     },
     "execution_count": 25,
     "metadata": {},
     "output_type": "execute_result"
    }
   ],
   "source": [
    "calc()"
   ]
  },
  {
   "cell_type": "code",
   "execution_count": 34,
   "id": "930835b9",
   "metadata": {},
   "outputs": [],
   "source": [
    "def calc(callback):\n",
    "    num1 = 10\n",
    "    num2 = 20\n",
    "    result = callback(num1, num2)\n",
    "\n",
    "    return result * result"
   ]
  },
  {
   "cell_type": "code",
   "execution_count": 35,
   "id": "bd68c9f9",
   "metadata": {},
   "outputs": [],
   "source": [
    "def add(num1, num2):\n",
    "    return num1 + num2"
   ]
  },
  {
   "cell_type": "code",
   "execution_count": 36,
   "id": "35768f47",
   "metadata": {},
   "outputs": [
    {
     "data": {
      "text/plain": [
       "900"
      ]
     },
     "execution_count": 36,
     "metadata": {},
     "output_type": "execute_result"
    }
   ],
   "source": [
    "calc(add)"
   ]
  },
  {
   "cell_type": "code",
   "execution_count": 38,
   "id": "cc8ea85a",
   "metadata": {},
   "outputs": [],
   "source": [
    "def sum(num1, num2):\n",
    "    return num1 - num2"
   ]
  },
  {
   "cell_type": "code",
   "execution_count": 39,
   "id": "c6f4d8f5",
   "metadata": {},
   "outputs": [],
   "source": [
    "add = lambda a, b: a + b"
   ]
  },
  {
   "cell_type": "code",
   "execution_count": 40,
   "id": "de1f4d95",
   "metadata": {},
   "outputs": [
    {
     "data": {
      "text/plain": [
       "30"
      ]
     },
     "execution_count": 40,
     "metadata": {},
     "output_type": "execute_result"
    }
   ],
   "source": [
    "add(10, 20)"
   ]
  },
  {
   "cell_type": "code",
   "execution_count": 41,
   "id": "22ee5793",
   "metadata": {},
   "outputs": [
    {
     "data": {
      "text/plain": [
       "40000"
      ]
     },
     "execution_count": 41,
     "metadata": {},
     "output_type": "execute_result"
    }
   ],
   "source": [
    "calc(lambda a, b: a * b)"
   ]
  },
  {
   "cell_type": "code",
   "execution_count": 42,
   "id": "0d3a838e",
   "metadata": {},
   "outputs": [],
   "source": [
    "def add(num1):\n",
    "    def add2(num2):\n",
    "        return num1 + num2\n",
    "    return add2"
   ]
  },
  {
   "cell_type": "code",
   "execution_count": 43,
   "id": "1e794723",
   "metadata": {},
   "outputs": [],
   "source": [
    "add10 = add(10)"
   ]
  },
  {
   "cell_type": "code",
   "execution_count": 44,
   "id": "8ff9c0df",
   "metadata": {},
   "outputs": [
    {
     "data": {
      "text/plain": [
       "30"
      ]
     },
     "execution_count": 44,
     "metadata": {},
     "output_type": "execute_result"
    }
   ],
   "source": [
    "add10(20)"
   ]
  },
  {
   "cell_type": "code",
   "execution_count": 45,
   "id": "c40bc438",
   "metadata": {},
   "outputs": [
    {
     "data": {
      "text/plain": [
       "30"
      ]
     },
     "execution_count": 45,
     "metadata": {},
     "output_type": "execute_result"
    }
   ],
   "source": [
    "add(10)(20)"
   ]
  },
  {
   "cell_type": "code",
   "execution_count": 60,
   "id": "79657306",
   "metadata": {},
   "outputs": [],
   "source": [
    "import time\n",
    "def time_lapse(func):\n",
    "    def wrapper(*args, **kwargs):\n",
    "        start = time.time()  \n",
    "        result = func(*args, **kwargs)\n",
    "\n",
    "        end = time.time()    \n",
    "\n",
    "        print(\"걸린시간 %d\" % (end - start))\n",
    "        return result\n",
    "    \n",
    "    return wrapper"
   ]
  },
  {
   "cell_type": "code",
   "execution_count": 61,
   "id": "aaa34068",
   "metadata": {},
   "outputs": [],
   "source": [
    "@time_lapse\n",
    "def somefunc():\n",
    "    print(\"어떤 기능 실행....\")"
   ]
  },
  {
   "cell_type": "code",
   "execution_count": 62,
   "id": "adf666bc",
   "metadata": {},
   "outputs": [
    {
     "name": "stdout",
     "output_type": "stream",
     "text": [
      "어떤 기능 실행....\n",
      "걸린시간 0\n"
     ]
    }
   ],
   "source": [
    "somefunc()"
   ]
  },
  {
   "cell_type": "code",
   "execution_count": 65,
   "id": "e74b8620",
   "metadata": {},
   "outputs": [],
   "source": [
    "@time_lapse\n",
    "def factorial(num):\n",
    "    if num <= 1:\n",
    "        return 1\n",
    "    return num * factorial(num - 1)"
   ]
  },
  {
   "cell_type": "code",
   "execution_count": 64,
   "id": "8c78f718",
   "metadata": {},
   "outputs": [
    {
     "name": "stdout",
     "output_type": "stream",
     "text": [
      "걸린시간 0\n",
      "걸린시간 0\n",
      "걸린시간 0\n",
      "걸린시간 0\n",
      "걸린시간 0\n",
      "걸린시간 0\n",
      "걸린시간 0\n",
      "걸린시간 0\n",
      "걸린시간 0\n",
      "걸린시간 0\n"
     ]
    },
    {
     "data": {
      "text/plain": [
       "3628800"
      ]
     },
     "execution_count": 64,
     "metadata": {},
     "output_type": "execute_result"
    }
   ],
   "source": [
    "factorial(10)"
   ]
  },
  {
   "cell_type": "code",
   "execution_count": 67,
   "id": "62389d66",
   "metadata": {},
   "outputs": [],
   "source": [
    "fact = time_lapse(factorial)"
   ]
  },
  {
   "cell_type": "code",
   "execution_count": 68,
   "id": "202827bb",
   "metadata": {},
   "outputs": [
    {
     "name": "stdout",
     "output_type": "stream",
     "text": [
      "걸린시간 0\n",
      "걸린시간 0\n",
      "걸린시간 0\n",
      "걸린시간 0\n",
      "걸린시간 0\n",
      "걸린시간 0\n",
      "걸린시간 0\n",
      "걸린시간 0\n",
      "걸린시간 0\n",
      "걸린시간 0\n",
      "걸린시간 0\n"
     ]
    },
    {
     "data": {
      "text/plain": [
       "3628800"
      ]
     },
     "execution_count": 68,
     "metadata": {},
     "output_type": "execute_result"
    }
   ],
   "source": [
    "fact(10)"
   ]
  },
  {
   "cell_type": "code",
   "execution_count": null,
   "id": "bbecdf41",
   "metadata": {},
   "outputs": [],
   "source": []
  }
 ],
 "metadata": {
  "kernelspec": {
   "display_name": "basic",
   "language": "python",
   "name": "python3"
  },
  "language_info": {
   "codemirror_mode": {
    "name": "ipython",
    "version": 3
   },
   "file_extension": ".py",
   "mimetype": "text/x-python",
   "name": "python",
   "nbconvert_exporter": "python",
   "pygments_lexer": "ipython3",
   "version": "3.12.10"
  }
 },
 "nbformat": 4,
 "nbformat_minor": 5
}
