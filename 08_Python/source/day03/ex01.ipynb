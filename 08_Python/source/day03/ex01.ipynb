{
 "cells": [
  {
   "cell_type": "markdown",
   "id": "8088f80b",
   "metadata": {},
   "source": [
    "## if 문의 기본 구조\n",
    "    if 조건식1:\n",
    "        참일때 실행될 코드\n",
    "    elif 조건식2:\n",
    "        조건식1이 거짓, 조건식2가 참    \n",
    "    else\n",
    "        거짓일때 실행될 코드    \n",
    "\n",
    "    if 조건식: 실행코드   <-한줄로 사용 가능"
   ]
  },
  {
   "cell_type": "code",
   "execution_count": null,
   "id": "763c6e11",
   "metadata": {},
   "outputs": [
    {
     "name": "stdout",
     "output_type": "stream",
     "text": [
      "가입 불가\n"
     ]
    }
   ],
   "source": [
    "age = 15\n",
    "if age >= 14:\n",
    "    print(\"가입 가능\")\n",
    "else:\n",
    "    print(\"가입 불가\")    "
   ]
  },
  {
   "cell_type": "code",
   "execution_count": 4,
   "id": "f7defb82",
   "metadata": {},
   "outputs": [
    {
     "name": "stdout",
     "output_type": "stream",
     "text": [
      "가입 불가\n"
     ]
    }
   ],
   "source": [
    "if age >= 14: pass\n",
    "else: print(\"가입 불가\") "
   ]
  },
  {
   "cell_type": "code",
   "execution_count": 5,
   "id": "849c2920",
   "metadata": {},
   "outputs": [
    {
     "data": {
      "text/plain": [
       "False"
      ]
     },
     "execution_count": 5,
     "metadata": {},
     "output_type": "execute_result"
    }
   ],
   "source": [
    "age >= 14 and age < 20"
   ]
  },
  {
   "cell_type": "code",
   "execution_count": 6,
   "id": "e89a215e",
   "metadata": {},
   "outputs": [
    {
     "data": {
      "text/plain": [
       "True"
      ]
     },
     "execution_count": 6,
     "metadata": {},
     "output_type": "execute_result"
    }
   ],
   "source": [
    "'A' in 'ABC'"
   ]
  },
  {
   "cell_type": "code",
   "execution_count": 7,
   "id": "2b475005",
   "metadata": {},
   "outputs": [],
   "source": [
    "fruits = ['사과','오렌지','멜론']"
   ]
  },
  {
   "cell_type": "code",
   "execution_count": 8,
   "id": "5e91abbe",
   "metadata": {},
   "outputs": [
    {
     "data": {
      "text/plain": [
       "True"
      ]
     },
     "execution_count": 8,
     "metadata": {},
     "output_type": "execute_result"
    }
   ],
   "source": [
    "'멜론' in fruits"
   ]
  },
  {
   "cell_type": "code",
   "execution_count": 9,
   "id": "cde3602b",
   "metadata": {},
   "outputs": [
    {
     "data": {
      "text/plain": [
       "True"
      ]
     },
     "execution_count": 9,
     "metadata": {},
     "output_type": "execute_result"
    }
   ],
   "source": [
    "'망고' not in fruits"
   ]
  },
  {
   "cell_type": "code",
   "execution_count": null,
   "id": "528eed61",
   "metadata": {},
   "outputs": [
    {
     "name": "stdout",
     "output_type": "stream",
     "text": [
      "5050\n"
     ]
    }
   ],
   "source": [
    "result = 0\n",
    "a = 0\n",
    "while a<=100:\n",
    "    result += a\n",
    "    a += 1\n",
    "print(result)"
   ]
  },
  {
   "cell_type": "code",
   "execution_count": 13,
   "id": "57b7b8a5",
   "metadata": {},
   "outputs": [
    {
     "name": "stdout",
     "output_type": "stream",
     "text": [
      "2500\n"
     ]
    }
   ],
   "source": [
    "result = 0\n",
    "a = 0\n",
    "while a<=100:\n",
    "    if a % 2 == 0 : \n",
    "        a += 1\n",
    "        continue\n",
    "    \n",
    "    result += a\n",
    "    a += 1\n",
    "print(result)"
   ]
  },
  {
   "cell_type": "code",
   "execution_count": 14,
   "id": "22c2a75c",
   "metadata": {},
   "outputs": [],
   "source": [
    "fruits = ['Apple', 'Orange','Melon','Mango']"
   ]
  },
  {
   "cell_type": "code",
   "execution_count": 15,
   "id": "41fe0a11",
   "metadata": {},
   "outputs": [
    {
     "name": "stdout",
     "output_type": "stream",
     "text": [
      "Apple\n",
      "Orange\n",
      "Melon\n",
      "Mango\n"
     ]
    }
   ],
   "source": [
    "for fruit in fruits:\n",
    "    print(fruit)"
   ]
  },
  {
   "cell_type": "code",
   "execution_count": 18,
   "id": "c92d1e55",
   "metadata": {},
   "outputs": [],
   "source": [
    "person = {\"name\": \"이이름\", \"age\": 40, \"address\":\"주소\"}"
   ]
  },
  {
   "cell_type": "code",
   "execution_count": 19,
   "id": "45465a6b",
   "metadata": {},
   "outputs": [
    {
     "data": {
      "text/plain": [
       "dict_items([('name', '이이름'), ('age', 40), ('address', '주소')])"
      ]
     },
     "execution_count": 19,
     "metadata": {},
     "output_type": "execute_result"
    }
   ],
   "source": [
    "person.items()"
   ]
  },
  {
   "cell_type": "code",
   "execution_count": 22,
   "id": "e950df63",
   "metadata": {},
   "outputs": [
    {
     "name": "stdout",
     "output_type": "stream",
     "text": [
      "name 이이름\n",
      "age 40\n",
      "address 주소\n"
     ]
    }
   ],
   "source": [
    "for item in person.items():\n",
    "    print(item[0], item[1])"
   ]
  },
  {
   "cell_type": "code",
   "execution_count": 23,
   "id": "3bb5a547",
   "metadata": {},
   "outputs": [
    {
     "name": "stdout",
     "output_type": "stream",
     "text": [
      "name 이이름\n",
      "age 40\n",
      "address 주소\n"
     ]
    }
   ],
   "source": [
    "for key, value in person.items():\n",
    "    print(key, value)"
   ]
  },
  {
   "cell_type": "code",
   "execution_count": 24,
   "id": "3d72527f",
   "metadata": {},
   "outputs": [
    {
     "name": "stdout",
     "output_type": "stream",
     "text": [
      "1\n",
      "3\n",
      "5\n",
      "7\n",
      "9\n"
     ]
    }
   ],
   "source": [
    "for i in range(1, 11, 2):\n",
    "    print(i)"
   ]
  },
  {
   "cell_type": "code",
   "execution_count": 27,
   "id": "09623b32",
   "metadata": {},
   "outputs": [
    {
     "name": "stdout",
     "output_type": "stream",
     "text": [
      "---------- 2 단 ----------\n",
      "2 X 1 = 2\n",
      "2 X 2 = 4\n",
      "2 X 3 = 6\n",
      "2 X 4 = 8\n",
      "2 X 5 = 10\n",
      "2 X 6 = 12\n",
      "2 X 7 = 14\n",
      "2 X 8 = 16\n",
      "2 X 9 = 18\n",
      "---------- 3 단 ----------\n",
      "3 X 1 = 3\n",
      "3 X 2 = 6\n",
      "3 X 3 = 9\n",
      "3 X 4 = 12\n",
      "3 X 5 = 15\n",
      "3 X 6 = 18\n",
      "3 X 7 = 21\n",
      "3 X 8 = 24\n",
      "3 X 9 = 27\n",
      "---------- 4 단 ----------\n",
      "4 X 1 = 4\n",
      "4 X 2 = 8\n",
      "4 X 3 = 12\n",
      "4 X 4 = 16\n",
      "4 X 5 = 20\n",
      "4 X 6 = 24\n",
      "4 X 7 = 28\n",
      "4 X 8 = 32\n",
      "4 X 9 = 36\n",
      "---------- 5 단 ----------\n",
      "5 X 1 = 5\n",
      "5 X 2 = 10\n",
      "5 X 3 = 15\n",
      "5 X 4 = 20\n",
      "5 X 5 = 25\n",
      "5 X 6 = 30\n",
      "5 X 7 = 35\n",
      "5 X 8 = 40\n",
      "5 X 9 = 45\n",
      "---------- 6 단 ----------\n",
      "6 X 1 = 6\n",
      "6 X 2 = 12\n",
      "6 X 3 = 18\n",
      "6 X 4 = 24\n",
      "6 X 5 = 30\n",
      "6 X 6 = 36\n",
      "6 X 7 = 42\n",
      "6 X 8 = 48\n",
      "6 X 9 = 54\n",
      "---------- 7 단 ----------\n",
      "7 X 1 = 7\n",
      "7 X 2 = 14\n",
      "7 X 3 = 21\n",
      "7 X 4 = 28\n",
      "7 X 5 = 35\n",
      "7 X 6 = 42\n",
      "7 X 7 = 49\n",
      "7 X 8 = 56\n",
      "7 X 9 = 63\n",
      "---------- 8 단 ----------\n",
      "8 X 1 = 8\n",
      "8 X 2 = 16\n",
      "8 X 3 = 24\n",
      "8 X 4 = 32\n",
      "8 X 5 = 40\n",
      "8 X 6 = 48\n",
      "8 X 7 = 56\n",
      "8 X 8 = 64\n",
      "8 X 9 = 72\n",
      "---------- 9 단 ----------\n",
      "9 X 1 = 9\n",
      "9 X 2 = 18\n",
      "9 X 3 = 27\n",
      "9 X 4 = 36\n",
      "9 X 5 = 45\n",
      "9 X 6 = 54\n",
      "9 X 7 = 63\n",
      "9 X 8 = 72\n",
      "9 X 9 = 81\n"
     ]
    }
   ],
   "source": [
    "for i in range (2, 10): # 2~9\n",
    "    print(\"-\"*10, i, '단', \"-\"*10)\n",
    "    for j in range(1, 10): # 1~9\n",
    "        print(f\"{i} X {j} = {i*j}\")"
   ]
  },
  {
   "cell_type": "code",
   "execution_count": 28,
   "id": "93985f84",
   "metadata": {},
   "outputs": [],
   "source": [
    "nums = [1,2,3,4,5,6,7,8,9,10]\n",
    "nums2 = []"
   ]
  },
  {
   "cell_type": "code",
   "execution_count": 29,
   "id": "3fb8cec1",
   "metadata": {},
   "outputs": [
    {
     "data": {
      "text/plain": [
       "[1, 4, 9, 16, 25, 36, 49, 64, 81, 100]"
      ]
     },
     "execution_count": 29,
     "metadata": {},
     "output_type": "execute_result"
    }
   ],
   "source": [
    "for num in nums:\n",
    "    nums2.append(num * num)\n",
    "\n",
    "nums2    "
   ]
  },
  {
   "cell_type": "code",
   "execution_count": 31,
   "id": "fef174e5",
   "metadata": {},
   "outputs": [
    {
     "data": {
      "text/plain": [
       "[1, 4, 9, 16, 25, 36, 49, 64, 81, 100]"
      ]
     },
     "execution_count": 31,
     "metadata": {},
     "output_type": "execute_result"
    }
   ],
   "source": [
    "nums3 = [num * num for num in nums]\n",
    "nums3"
   ]
  },
  {
   "cell_type": "code",
   "execution_count": 32,
   "id": "446246e0",
   "metadata": {},
   "outputs": [
    {
     "data": {
      "text/plain": [
       "[4, 16, 36, 64, 100]"
      ]
     },
     "execution_count": 32,
     "metadata": {},
     "output_type": "execute_result"
    }
   ],
   "source": [
    "nums4 = [num * num for num in nums if num %2 == 0]\n",
    "nums4"
   ]
  },
  {
   "cell_type": "code",
   "execution_count": null,
   "id": "6aad3fa8",
   "metadata": {},
   "outputs": [],
   "source": []
  }
 ],
 "metadata": {
  "kernelspec": {
   "display_name": "basic",
   "language": "python",
   "name": "python3"
  },
  "language_info": {
   "codemirror_mode": {
    "name": "ipython",
    "version": 3
   },
   "file_extension": ".py",
   "mimetype": "text/x-python",
   "name": "python",
   "nbconvert_exporter": "python",
   "pygments_lexer": "ipython3",
   "version": "3.12.10"
  }
 },
 "nbformat": 4,
 "nbformat_minor": 5
}
