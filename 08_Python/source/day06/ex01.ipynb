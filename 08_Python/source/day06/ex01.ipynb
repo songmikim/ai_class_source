{
 "cells": [
  {
   "cell_type": "markdown",
   "id": "68eb6830",
   "metadata": {},
   "source": [
    "## time 모듈"
   ]
  },
  {
   "cell_type": "code",
   "execution_count": 1,
   "id": "a4b3f299",
   "metadata": {},
   "outputs": [],
   "source": [
    "import time"
   ]
  },
  {
   "cell_type": "code",
   "execution_count": 2,
   "id": "1faa0623",
   "metadata": {},
   "outputs": [
    {
     "data": {
      "text/plain": [
       "1748567737.2702208"
      ]
     },
     "execution_count": 2,
     "metadata": {},
     "output_type": "execute_result"
    }
   ],
   "source": [
    "time.time()"
   ]
  },
  {
   "cell_type": "code",
   "execution_count": 4,
   "id": "cdad093c",
   "metadata": {},
   "outputs": [
    {
     "data": {
      "text/plain": [
       "time.struct_time(tm_year=2025, tm_mon=5, tm_mday=30, tm_hour=10, tm_min=17, tm_sec=52, tm_wday=4, tm_yday=150, tm_isdst=0)"
      ]
     },
     "execution_count": 4,
     "metadata": {},
     "output_type": "execute_result"
    }
   ],
   "source": [
    "lt = time.localtime(time.time())\n",
    "lt"
   ]
  },
  {
   "cell_type": "code",
   "execution_count": 9,
   "id": "4f148892",
   "metadata": {},
   "outputs": [
    {
     "data": {
      "text/plain": [
       "time.struct_time(tm_year=2025, tm_mon=5, tm_mday=30, tm_hour=10, tm_min=38, tm_sec=42, tm_wday=4, tm_yday=150, tm_isdst=0)"
      ]
     },
     "execution_count": 9,
     "metadata": {},
     "output_type": "execute_result"
    }
   ],
   "source": [
    "time.localtime()"
   ]
  },
  {
   "cell_type": "code",
   "execution_count": 5,
   "id": "5fa39e92",
   "metadata": {},
   "outputs": [
    {
     "data": {
      "text/plain": [
       "'Fri May 30 10:17:52 2025'"
      ]
     },
     "execution_count": 5,
     "metadata": {},
     "output_type": "execute_result"
    }
   ],
   "source": [
    "time.asctime(lt)"
   ]
  },
  {
   "cell_type": "code",
   "execution_count": 6,
   "id": "247e248e",
   "metadata": {},
   "outputs": [
    {
     "data": {
      "text/plain": [
       "'Fri May 30 10:35:54 2025'"
      ]
     },
     "execution_count": 6,
     "metadata": {},
     "output_type": "execute_result"
    }
   ],
   "source": [
    "time.ctime()"
   ]
  },
  {
   "cell_type": "code",
   "execution_count": 8,
   "id": "b2e105d2",
   "metadata": {},
   "outputs": [
    {
     "data": {
      "text/plain": [
       "'2025.05.30 10:36'"
      ]
     },
     "execution_count": 8,
     "metadata": {},
     "output_type": "execute_result"
    }
   ],
   "source": [
    "strdate = time.strftime('%Y.%m.%d %H:%M')\n",
    "strdate"
   ]
  },
  {
   "cell_type": "code",
   "execution_count": null,
   "id": "cd7c94be",
   "metadata": {},
   "outputs": [
    {
     "data": {
      "text/plain": [
       "<function time.sleep>"
      ]
     },
     "execution_count": 11,
     "metadata": {},
     "output_type": "execute_result"
    }
   ],
   "source": [
    "time.sleep\n"
   ]
  },
  {
   "cell_type": "code",
   "execution_count": 12,
   "id": "3f3c4aee",
   "metadata": {},
   "outputs": [
    {
     "data": {
      "text/plain": [
       "'2025.05.30 10:43'"
      ]
     },
     "execution_count": 12,
     "metadata": {},
     "output_type": "execute_result"
    }
   ],
   "source": [
    "time.strftime('%Y.%m.%d %H:%M')"
   ]
  },
  {
   "cell_type": "code",
   "execution_count": null,
   "id": "2de75529",
   "metadata": {},
   "outputs": [
    {
     "name": "stdout",
     "output_type": "stream",
     "text": [
      "1\n",
      "2\n",
      "3\n",
      "4\n",
      "5\n",
      "6\n",
      "7\n",
      "8\n",
      "9\n",
      "10\n"
     ]
    }
   ],
   "source": [
    "for i in range(1, 11):\n",
    "    print(i)\n",
    "    time.sleep(1) #1초 지연"
   ]
  },
  {
   "cell_type": "code",
   "execution_count": 16,
   "id": "fb2db9f1",
   "metadata": {},
   "outputs": [],
   "source": [
    "#사탕 60, 초콜릿 100, 젤리 80개 있는데, 똑같은 묶음으로 최대 몇 묶음 나눌 수 있는지 구하시오.\n",
    "import math"
   ]
  },
  {
   "cell_type": "code",
   "execution_count": 17,
   "id": "19947da1",
   "metadata": {},
   "outputs": [
    {
     "data": {
      "text/plain": [
       "20"
      ]
     },
     "execution_count": 17,
     "metadata": {},
     "output_type": "execute_result"
    }
   ],
   "source": [
    "math.gcd(60, 100, 80)"
   ]
  },
  {
   "cell_type": "code",
   "execution_count": 18,
   "id": "71c6d7a4",
   "metadata": {},
   "outputs": [
    {
     "data": {
      "text/plain": [
       "75"
      ]
     },
     "execution_count": 18,
     "metadata": {},
     "output_type": "execute_result"
    }
   ],
   "source": [
    "# 시내버스가 15분마다 도착, 마을 버스는 25분마다 도착, 서로 만나는 빠른 시간?\n",
    "math.lcm(15, 25)"
   ]
  },
  {
   "cell_type": "code",
   "execution_count": 19,
   "id": "f3c5c35a",
   "metadata": {},
   "outputs": [],
   "source": [
    "import random"
   ]
  },
  {
   "cell_type": "code",
   "execution_count": 22,
   "id": "82d5b208",
   "metadata": {},
   "outputs": [
    {
     "data": {
      "text/plain": [
       "1.2383926697798318"
      ]
     },
     "execution_count": 22,
     "metadata": {},
     "output_type": "execute_result"
    }
   ],
   "source": [
    "random.random() * 3"
   ]
  },
  {
   "cell_type": "code",
   "execution_count": 23,
   "id": "9c755bc8",
   "metadata": {},
   "outputs": [
    {
     "data": {
      "text/plain": [
       "2"
      ]
     },
     "execution_count": 23,
     "metadata": {},
     "output_type": "execute_result"
    }
   ],
   "source": [
    "random.randint(1, 10)\n"
   ]
  },
  {
   "cell_type": "code",
   "execution_count": 24,
   "id": "88c2bab1",
   "metadata": {},
   "outputs": [],
   "source": [
    "fruits = ['Apple', 'Melon', 'Pear', 'Banana', 'Mango']"
   ]
  },
  {
   "cell_type": "code",
   "execution_count": 29,
   "id": "10a4718b",
   "metadata": {},
   "outputs": [
    {
     "data": {
      "text/plain": [
       "'Melon'"
      ]
     },
     "execution_count": 29,
     "metadata": {},
     "output_type": "execute_result"
    }
   ],
   "source": [
    "random.choice(fruits)"
   ]
  },
  {
   "cell_type": "code",
   "execution_count": 30,
   "id": "2dda0ecb",
   "metadata": {},
   "outputs": [],
   "source": [
    "students = ['주용현', '안슬기', '김용준', '오다은', '최상준', '오경석', '송근호', '주예성', '정호찬', '이소민', '김송미', '김문수']"
   ]
  },
  {
   "cell_type": "code",
   "execution_count": 34,
   "id": "29a11e6a",
   "metadata": {},
   "outputs": [
    {
     "data": {
      "text/plain": [
       "[('송근호', 'RTX5090ti'),\n",
       " ('오다은', '맥북pro'),\n",
       " ('이소민', 'love'),\n",
       " ('주예성', '사탕'),\n",
       " ('김송미', '사탕'),\n",
       " ('주용현', '사탕'),\n",
       " ('안슬기', '사탕'),\n",
       " ('김용준', '사탕'),\n",
       " ('최상준', '사탕'),\n",
       " ('오경석', '사탕'),\n",
       " ('정호찬', '사탕'),\n",
       " ('김문수', '사탕')]"
      ]
     },
     "execution_count": 34,
     "metadata": {},
     "output_type": "execute_result"
    }
   ],
   "source": [
    "import itertools\n",
    "students2 = random.sample(students, len(students))\n",
    "# random.shuffle(students)  # 원본 데이터가 변경\n",
    "gifts = ['RTX5090ti', '맥북pro', 'love']\n",
    "#data = list(zip(students, gifts))\n",
    "data = list(itertools.zip_longest(students2, gifts, fillvalue='사탕'))\n",
    "data"
   ]
  },
  {
   "cell_type": "code",
   "execution_count": 35,
   "id": "0d24cd47",
   "metadata": {},
   "outputs": [],
   "source": [
    "nums = [1, 2, 3, 4]"
   ]
  },
  {
   "cell_type": "code",
   "execution_count": 36,
   "id": "f5ab4808",
   "metadata": {},
   "outputs": [],
   "source": [
    "import itertools"
   ]
  },
  {
   "cell_type": "code",
   "execution_count": 37,
   "id": "c7b012cb",
   "metadata": {},
   "outputs": [
    {
     "data": {
      "text/plain": [
       "[(1, 2),\n",
       " (1, 3),\n",
       " (1, 4),\n",
       " (2, 1),\n",
       " (2, 3),\n",
       " (2, 4),\n",
       " (3, 1),\n",
       " (3, 2),\n",
       " (3, 4),\n",
       " (4, 1),\n",
       " (4, 2),\n",
       " (4, 3)]"
      ]
     },
     "execution_count": 37,
     "metadata": {},
     "output_type": "execute_result"
    }
   ],
   "source": [
    "a = list(itertools.permutations(nums, 2))\n",
    "a"
   ]
  },
  {
   "cell_type": "code",
   "execution_count": 38,
   "id": "37d9bfa2",
   "metadata": {},
   "outputs": [
    {
     "data": {
      "text/plain": [
       "[(1, 2), (1, 3), (1, 4), (2, 3), (2, 4), (3, 4)]"
      ]
     },
     "execution_count": 38,
     "metadata": {},
     "output_type": "execute_result"
    }
   ],
   "source": [
    "b = list(itertools.combinations(nums, 2))\n",
    "b"
   ]
  },
  {
   "cell_type": "code",
   "execution_count": 40,
   "id": "29b0f1b1",
   "metadata": {},
   "outputs": [
    {
     "data": {
      "text/plain": [
       "[(1, 1, 1),\n",
       " (1, 1, 2),\n",
       " (1, 1, 3),\n",
       " (1, 1, 4),\n",
       " (1, 2, 2),\n",
       " (1, 2, 3),\n",
       " (1, 2, 4),\n",
       " (1, 3, 3),\n",
       " (1, 3, 4),\n",
       " (1, 4, 4),\n",
       " (2, 2, 2),\n",
       " (2, 2, 3),\n",
       " (2, 2, 4),\n",
       " (2, 3, 3),\n",
       " (2, 3, 4),\n",
       " (2, 4, 4),\n",
       " (3, 3, 3),\n",
       " (3, 3, 4),\n",
       " (3, 4, 4),\n",
       " (4, 4, 4)]"
      ]
     },
     "execution_count": 40,
     "metadata": {},
     "output_type": "execute_result"
    }
   ],
   "source": [
    "c = list(itertools.combinations_with_replacement(nums, 3))\n",
    "c"
   ]
  },
  {
   "cell_type": "code",
   "execution_count": 41,
   "id": "74b01bf6",
   "metadata": {},
   "outputs": [],
   "source": [
    "import functools"
   ]
  },
  {
   "cell_type": "code",
   "execution_count": 42,
   "id": "f72d12ad",
   "metadata": {},
   "outputs": [
    {
     "data": {
      "text/plain": [
       "[1, 2, 3, 4, 5, 6, 7, 8, 9, 10]"
      ]
     },
     "execution_count": 42,
     "metadata": {},
     "output_type": "execute_result"
    }
   ],
   "source": [
    "nums = list(range(1, 101))\n",
    "nums[:10]"
   ]
  },
  {
   "cell_type": "code",
   "execution_count": 43,
   "id": "34a3bb9c",
   "metadata": {},
   "outputs": [],
   "source": [
    "def acc_sum(acc, num):\n",
    "    print(f\"acc:{acc}, num:{num}\")\n",
    "    acc += num\n",
    "    return acc"
   ]
  },
  {
   "cell_type": "code",
   "execution_count": 44,
   "id": "9a680151",
   "metadata": {},
   "outputs": [
    {
     "name": "stdout",
     "output_type": "stream",
     "text": [
      "acc:1, num:2\n",
      "acc:3, num:3\n",
      "acc:6, num:4\n",
      "acc:10, num:5\n",
      "acc:15, num:6\n",
      "acc:21, num:7\n",
      "acc:28, num:8\n",
      "acc:36, num:9\n",
      "acc:45, num:10\n",
      "acc:55, num:11\n",
      "acc:66, num:12\n",
      "acc:78, num:13\n",
      "acc:91, num:14\n",
      "acc:105, num:15\n",
      "acc:120, num:16\n",
      "acc:136, num:17\n",
      "acc:153, num:18\n",
      "acc:171, num:19\n",
      "acc:190, num:20\n",
      "acc:210, num:21\n",
      "acc:231, num:22\n",
      "acc:253, num:23\n",
      "acc:276, num:24\n",
      "acc:300, num:25\n",
      "acc:325, num:26\n",
      "acc:351, num:27\n",
      "acc:378, num:28\n",
      "acc:406, num:29\n",
      "acc:435, num:30\n",
      "acc:465, num:31\n",
      "acc:496, num:32\n",
      "acc:528, num:33\n",
      "acc:561, num:34\n",
      "acc:595, num:35\n",
      "acc:630, num:36\n",
      "acc:666, num:37\n",
      "acc:703, num:38\n",
      "acc:741, num:39\n",
      "acc:780, num:40\n",
      "acc:820, num:41\n",
      "acc:861, num:42\n",
      "acc:903, num:43\n",
      "acc:946, num:44\n",
      "acc:990, num:45\n",
      "acc:1035, num:46\n",
      "acc:1081, num:47\n",
      "acc:1128, num:48\n",
      "acc:1176, num:49\n",
      "acc:1225, num:50\n",
      "acc:1275, num:51\n",
      "acc:1326, num:52\n",
      "acc:1378, num:53\n",
      "acc:1431, num:54\n",
      "acc:1485, num:55\n",
      "acc:1540, num:56\n",
      "acc:1596, num:57\n",
      "acc:1653, num:58\n",
      "acc:1711, num:59\n",
      "acc:1770, num:60\n",
      "acc:1830, num:61\n",
      "acc:1891, num:62\n",
      "acc:1953, num:63\n",
      "acc:2016, num:64\n",
      "acc:2080, num:65\n",
      "acc:2145, num:66\n",
      "acc:2211, num:67\n",
      "acc:2278, num:68\n",
      "acc:2346, num:69\n",
      "acc:2415, num:70\n",
      "acc:2485, num:71\n",
      "acc:2556, num:72\n",
      "acc:2628, num:73\n",
      "acc:2701, num:74\n",
      "acc:2775, num:75\n",
      "acc:2850, num:76\n",
      "acc:2926, num:77\n",
      "acc:3003, num:78\n",
      "acc:3081, num:79\n",
      "acc:3160, num:80\n",
      "acc:3240, num:81\n",
      "acc:3321, num:82\n",
      "acc:3403, num:83\n",
      "acc:3486, num:84\n",
      "acc:3570, num:85\n",
      "acc:3655, num:86\n",
      "acc:3741, num:87\n",
      "acc:3828, num:88\n",
      "acc:3916, num:89\n",
      "acc:4005, num:90\n",
      "acc:4095, num:91\n",
      "acc:4186, num:92\n",
      "acc:4278, num:93\n",
      "acc:4371, num:94\n",
      "acc:4465, num:95\n",
      "acc:4560, num:96\n",
      "acc:4656, num:97\n",
      "acc:4753, num:98\n",
      "acc:4851, num:99\n",
      "acc:4950, num:100\n"
     ]
    },
    {
     "data": {
      "text/plain": [
       "5050"
      ]
     },
     "execution_count": 44,
     "metadata": {},
     "output_type": "execute_result"
    }
   ],
   "source": [
    "result = functools.reduce(acc_sum, nums)\n",
    "result"
   ]
  },
  {
   "cell_type": "code",
   "execution_count": 48,
   "id": "4cefe1e4",
   "metadata": {},
   "outputs": [
    {
     "data": {
      "text/plain": [
       "[98, 77, 64, 58, 71, 96, 98, 85, 89, 81]"
      ]
     },
     "execution_count": 48,
     "metadata": {},
     "output_type": "execute_result"
    }
   ],
   "source": [
    "scores = [ random.randint(50, 100) for _ in range(10)]\n",
    "scores"
   ]
  },
  {
   "cell_type": "code",
   "execution_count": 50,
   "id": "f36a5604",
   "metadata": {},
   "outputs": [
    {
     "name": "stdout",
     "output_type": "stream",
     "text": [
      "a:98, b:77\n",
      "a:77, b:64\n",
      "a:64, b:58\n",
      "a:58, b:71\n",
      "a:58, b:96\n",
      "a:58, b:98\n",
      "a:58, b:85\n",
      "a:58, b:89\n",
      "a:58, b:81\n"
     ]
    },
    {
     "data": {
      "text/plain": [
       "58"
      ]
     },
     "execution_count": 50,
     "metadata": {},
     "output_type": "execute_result"
    }
   ],
   "source": [
    "def min_score(a, b):\n",
    "    print(f\"a:{a}, b:{b}\")\n",
    "    score = a if a < b else b\n",
    "    return score\n",
    "\n",
    "min = functools.reduce(min_score, scores)\n",
    "min"
   ]
  },
  {
   "cell_type": "code",
   "execution_count": 51,
   "id": "af131cb2",
   "metadata": {},
   "outputs": [
    {
     "data": {
      "text/plain": [
       "98"
      ]
     },
     "execution_count": 51,
     "metadata": {},
     "output_type": "execute_result"
    }
   ],
   "source": [
    "max = functools.reduce(lambda a, b: a if a >= b else b, scores)\n",
    "max"
   ]
  },
  {
   "cell_type": "code",
   "execution_count": 56,
   "id": "b02a2190",
   "metadata": {},
   "outputs": [],
   "source": [
    "students = [\n",
    "    ('이이름', 40, '컴퓨터과학'),\n",
    "    ('김이름', 20, '영어영문학'),\n",
    "    ('박이름', 24, '독어독문학')\n",
    "]\n",
    "import operator"
   ]
  },
  {
   "cell_type": "code",
   "execution_count": null,
   "id": "fd971a10",
   "metadata": {},
   "outputs": [
    {
     "data": {
      "text/plain": [
       "[('박이름', 24, '독어독문학'), ('김이름', 20, '영어영문학'), ('이이름', 40, '컴퓨터과학')]"
      ]
     },
     "execution_count": 54,
     "metadata": {},
     "output_type": "execute_result"
    }
   ],
   "source": [
    "students2 = sorted(students, key=operator.itemgetter(2))\n",
    "students2"
   ]
  },
  {
   "cell_type": "code",
   "execution_count": null,
   "id": "f39f6ee2",
   "metadata": {},
   "outputs": [],
   "source": [
    "students2 = [\n",
    "    {\"name\":\"이이름\", \"age\": 40, \"major\":\"컴퓨터과학\"},\n",
    "    {\"name\":\"김이름\", \"age\": 20, \"major\":\"영어영문학\"},\n",
    "    {\"name\":\"박이름\", \"age\": 24, \"major\":\"독어독문학\"}\n",
    "]"
   ]
  },
  {
   "cell_type": "code",
   "execution_count": 57,
   "id": "19d49e82",
   "metadata": {},
   "outputs": [
    {
     "ename": "TypeError",
     "evalue": "tuple indices must be integers or slices, not str",
     "output_type": "error",
     "traceback": [
      "\u001b[31m---------------------------------------------------------------------------\u001b[39m",
      "\u001b[31mTypeError\u001b[39m                                 Traceback (most recent call last)",
      "\u001b[36mCell\u001b[39m\u001b[36m \u001b[39m\u001b[32mIn[57]\u001b[39m\u001b[32m, line 1\u001b[39m\n\u001b[32m----> \u001b[39m\u001b[32m1\u001b[39m students2 = \u001b[38;5;28;43msorted\u001b[39;49m\u001b[43m(\u001b[49m\u001b[43mstudents2\u001b[49m\u001b[43m,\u001b[49m\u001b[43m \u001b[49m\u001b[43mkey\u001b[49m\u001b[43m=\u001b[49m\u001b[43moperator\u001b[49m\u001b[43m.\u001b[49m\u001b[43mitemgetter\u001b[49m\u001b[43m(\u001b[49m\u001b[33;43m'\u001b[39;49m\u001b[33;43mname\u001b[39;49m\u001b[33;43m'\u001b[39;49m\u001b[43m)\u001b[49m\u001b[43m)\u001b[49m\n\u001b[32m      2\u001b[39m students2\n",
      "\u001b[31mTypeError\u001b[39m: tuple indices must be integers or slices, not str"
     ]
    }
   ],
   "source": [
    "students2 = sorted(students2, key=operator.itemgetter('name'))\n",
    "students2"
   ]
  },
  {
   "cell_type": "code",
   "execution_count": 58,
   "id": "0c9c0b8c",
   "metadata": {},
   "outputs": [],
   "source": [
    "class Student:\n",
    "    def __init__(self, name, age, major):\n",
    "        self.name = name\n",
    "        self.age = age\n",
    "        self.major = major\n",
    "\n",
    "    def __str__(self):\n",
    "        return f\"name:{self.name}, age: {self.age}, major:{self.major}\""
   ]
  },
  {
   "cell_type": "code",
   "execution_count": 60,
   "id": "57c15bb5",
   "metadata": {},
   "outputs": [],
   "source": [
    "students = [\n",
    "    Student('이이름', 40, '컴퓨터과학'),\n",
    "    Student('김이름', 20, '영어영문학'),\n",
    "    Student('박이름', 24, '독어독문학')\n",
    "]"
   ]
  },
  {
   "cell_type": "code",
   "execution_count": 62,
   "id": "34a7d714",
   "metadata": {},
   "outputs": [
    {
     "name": "stdout",
     "output_type": "stream",
     "text": [
      "name:박이름, age: 24, major:독어독문학\n",
      "name:김이름, age: 20, major:영어영문학\n",
      "name:이이름, age: 40, major:컴퓨터과학\n"
     ]
    }
   ],
   "source": [
    "students2 = sorted(students, key=operator.attrgetter('major'))\n",
    "for item in students2:\n",
    "    print(item)"
   ]
  },
  {
   "cell_type": "code",
   "execution_count": 64,
   "id": "8aa91eda",
   "metadata": {},
   "outputs": [
    {
     "name": "stdout",
     "output_type": "stream",
     "text": [
      "C:/Program Files\n",
      "C:/Program Files (x86)\n",
      "C:/ProgramData\n"
     ]
    }
   ],
   "source": [
    "from glob import glob\n",
    "files = glob(\"C:/Program*\")\n",
    "for file in files:\n",
    "    print(file)"
   ]
  },
  {
   "cell_type": "code",
   "execution_count": 65,
   "id": "563cd8d4",
   "metadata": {},
   "outputs": [],
   "source": [
    "import pickle"
   ]
  },
  {
   "cell_type": "code",
   "execution_count": 66,
   "id": "55375afc",
   "metadata": {},
   "outputs": [],
   "source": [
    "with open(\"C:/test/students.txt\", \"wb\") as f:\n",
    "    pickle.dump(students2,f)"
   ]
  },
  {
   "cell_type": "code",
   "execution_count": 67,
   "id": "f767892c",
   "metadata": {},
   "outputs": [
    {
     "name": "stdout",
     "output_type": "stream",
     "text": [
      "name:박이름, age: 24, major:독어독문학\n",
      "name:김이름, age: 20, major:영어영문학\n",
      "name:이이름, age: 40, major:컴퓨터과학\n"
     ]
    }
   ],
   "source": [
    "with open(\"C:/test/students.txt\", \"rb\") as f:\n",
    "    students3 = pickle.load(f)\n",
    "    for item in students3:\n",
    "        print(item)"
   ]
  },
  {
   "cell_type": "code",
   "execution_count": 68,
   "id": "386e5358",
   "metadata": {},
   "outputs": [],
   "source": [
    "import os"
   ]
  },
  {
   "cell_type": "code",
   "execution_count": 69,
   "id": "04a2e6e9",
   "metadata": {},
   "outputs": [
    {
     "data": {
      "text/plain": [
       "0"
      ]
     },
     "execution_count": 69,
     "metadata": {},
     "output_type": "execute_result"
    }
   ],
   "source": [
    "os.system(\"dir\")"
   ]
  },
  {
   "cell_type": "code",
   "execution_count": 72,
   "id": "af2c72b5",
   "metadata": {},
   "outputs": [],
   "source": [
    "import json\n",
    "students2 = [\n",
    "    {\"name\":\"이이름\", \"age\": 40, \"major\":\"컴퓨터과학\"},\n",
    "    {\"name\":\"김이름\", \"age\": 20, \"major\":\"영어영문학\"},\n",
    "    {\"name\":\"박이름\", \"age\": 24, \"major\":\"독어독문학\"}\n",
    "]\n",
    "with open(\"C:/test/students.json\" ,\"w\") as f:\n",
    "    json.dump(students2, f, ensure_ascii=False)"
   ]
  },
  {
   "cell_type": "code",
   "execution_count": 73,
   "id": "e3a99a2a",
   "metadata": {},
   "outputs": [
    {
     "name": "stdout",
     "output_type": "stream",
     "text": [
      "[{'name': '이이름', 'age': 40, 'major': '컴퓨터과학'}, {'name': '김이름', 'age': 20, 'major': '영어영문학'}, {'name': '박이름', 'age': 24, 'major': '독어독문학'}]\n"
     ]
    }
   ],
   "source": [
    "with open(\"C:/test/students.json\" , \"r\") as f:\n",
    "    students2 = json.load(f)\n",
    "    print(students2)"
   ]
  },
  {
   "cell_type": "code",
   "execution_count": null,
   "id": "d5bc8c3b",
   "metadata": {},
   "outputs": [],
   "source": []
  }
 ],
 "metadata": {
  "kernelspec": {
   "display_name": "basic",
   "language": "python",
   "name": "python3"
  },
  "language_info": {
   "codemirror_mode": {
    "name": "ipython",
    "version": 3
   },
   "file_extension": ".py",
   "mimetype": "text/x-python",
   "name": "python",
   "nbconvert_exporter": "python",
   "pygments_lexer": "ipython3",
   "version": "3.12.10"
  }
 },
 "nbformat": 4,
 "nbformat_minor": 5
}
