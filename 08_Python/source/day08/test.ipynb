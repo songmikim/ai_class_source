{
 "cells": [
  {
   "cell_type": "code",
   "execution_count": 10,
   "id": "4cb603bc",
   "metadata": {},
   "outputs": [],
   "source": [
    "import requests"
   ]
  },
  {
   "cell_type": "code",
   "execution_count": 23,
   "id": "b1cd5297",
   "metadata": {},
   "outputs": [],
   "source": [
    "html = requests.get(\"https://finance.naver.com/marketindex/exchangeList.naver\")"
   ]
  },
  {
   "cell_type": "code",
   "execution_count": 36,
   "id": "ecd403cb",
   "metadata": {},
   "outputs": [
    {
     "name": "stdout",
     "output_type": "stream",
     "text": [
      "</a></td>\n",
      "\t\t\t\t<td class=\"sale\">1,374.00</td>\n",
      "\t\t\t\t<td>\n",
      "\t\t\t\t\t\n",
      "\t\t\t\t\t\t\n",
      "\t\t\t\t\t\t1,398.04\n",
      "\t\t\t\t\t\n",
      "\t\t\t\t</td>\n",
      "\t\t\t\t<td>\n",
      "\t\t\t\t\t\n",
      "\t\t\t\t\t\t\n",
      "\t\t\t\t\t\t1,349.96\n",
      "\t\t\t\t\t\n",
      "\t\t\t\t</td>\n",
      "\t\t\t\t<td>\n",
      "\t\t\t\t\t\n",
      "\t\t\t\t\t\t\n",
      "\t\t\t\t\t\t1,387.40\n",
      "\t\t\t\t\t\n",
      "\t\t\t\t</td>\n",
      "\t\t\t\t<td>\n",
      "\t\t\t\t\t\n",
      "\t\t\t\t\t\t\n",
      "\t\t\t\t\t\t1,360.60\n",
      "\t\t\t\t\t\n",
      "\t\t\t\t</td>\n",
      "\t\t\t\t<td>1.000</td>\n",
      "\t\t\t\t</tr>\n",
      "\t\t\t\t\n",
      "\t\t\t\t<tr>\n",
      "\t\t\t\t<td class=\"tit\"><a href=\"/marketindex/exchangeDetail.naver?marketindexCd=FX_EURKRW\" target=\"_parent\" onclick=\"parent.clickcr(this, 'exl.exlist', 'FX_EURKRW', '2', event);\">\n"
     ]
    }
   ],
   "source": [
    "data = html.text.split(\"미국 USD\")[1].strip()\n",
    "data = data.split('유럽연합 EUR')[0].strip()\n",
    "print(data)"
   ]
  },
  {
   "cell_type": "code",
   "execution_count": 39,
   "id": "82604ab8",
   "metadata": {},
   "outputs": [],
   "source": [
    "import re\n",
    "p = re.compile(r\"<td.*?>(.*?)</td>\", re.M | re.S)\n"
   ]
  },
  {
   "cell_type": "code",
   "execution_count": 40,
   "id": "87752627",
   "metadata": {},
   "outputs": [
    {
     "data": {
      "text/plain": [
       "['1,374.00',\n",
       " '\\n\\t\\t\\t\\t\\t\\n\\t\\t\\t\\t\\t\\t\\n\\t\\t\\t\\t\\t\\t1,398.04\\n\\t\\t\\t\\t\\t\\n\\t\\t\\t\\t',\n",
       " '\\n\\t\\t\\t\\t\\t\\n\\t\\t\\t\\t\\t\\t\\n\\t\\t\\t\\t\\t\\t1,349.96\\n\\t\\t\\t\\t\\t\\n\\t\\t\\t\\t',\n",
       " '\\n\\t\\t\\t\\t\\t\\n\\t\\t\\t\\t\\t\\t\\n\\t\\t\\t\\t\\t\\t1,387.40\\n\\t\\t\\t\\t\\t\\n\\t\\t\\t\\t',\n",
       " '\\n\\t\\t\\t\\t\\t\\n\\t\\t\\t\\t\\t\\t\\n\\t\\t\\t\\t\\t\\t1,360.60\\n\\t\\t\\t\\t\\t\\n\\t\\t\\t\\t',\n",
       " '1.000']"
      ]
     },
     "execution_count": 40,
     "metadata": {},
     "output_type": "execute_result"
    }
   ],
   "source": [
    "items = p.findall(data)\n",
    "items"
   ]
  },
  {
   "cell_type": "code",
   "execution_count": 43,
   "id": "0dd29bed",
   "metadata": {},
   "outputs": [
    {
     "data": {
      "text/plain": [
       "[1374.0, 1398.04, 1349.96]"
      ]
     },
     "execution_count": 43,
     "metadata": {},
     "output_type": "execute_result"
    }
   ],
   "source": [
    "items = p.findall(data)\n",
    "exchange_rates = [float(rate.strip().replace(\",\", \"\")) for i , rate in enumerate(items) if i < 3]\n",
    "exchange_rates"
   ]
  },
  {
   "cell_type": "code",
   "execution_count": null,
   "id": "9b10bec1",
   "metadata": {},
   "outputs": [],
   "source": []
  }
 ],
 "metadata": {
  "kernelspec": {
   "display_name": "basic",
   "language": "python",
   "name": "python3"
  },
  "language_info": {
   "codemirror_mode": {
    "name": "ipython",
    "version": 3
   },
   "file_extension": ".py",
   "mimetype": "text/x-python",
   "name": "python",
   "nbconvert_exporter": "python",
   "pygments_lexer": "ipython3",
   "version": "3.12.10"
  }
 },
 "nbformat": 4,
 "nbformat_minor": 5
}
