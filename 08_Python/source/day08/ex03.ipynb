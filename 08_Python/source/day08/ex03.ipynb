{
 "cells": [
  {
   "cell_type": "code",
   "execution_count": 1,
   "id": "1a88e34f",
   "metadata": {},
   "outputs": [],
   "source": [
    "str = \"ABCABCABC\""
   ]
  },
  {
   "cell_type": "code",
   "execution_count": 2,
   "id": "c2e387c9",
   "metadata": {},
   "outputs": [],
   "source": [
    "import re"
   ]
  },
  {
   "cell_type": "code",
   "execution_count": 12,
   "id": "e0d0fc46",
   "metadata": {},
   "outputs": [],
   "source": [
    "p = re.compile(r\"(ABC){1,3}\")\n",
    "m = p.search(str)\n",
    "m"
   ]
  },
  {
   "cell_type": "code",
   "execution_count": 25,
   "id": "8fcdeb56",
   "metadata": {},
   "outputs": [],
   "source": [
    "str = \"\"\"이이름 010-1000-1000\n",
    "김이름 010-2000-2000\n",
    "Rachel 010-3000-3000\"\"\""
   ]
  },
  {
   "cell_type": "code",
   "execution_count": 19,
   "id": "d8705132",
   "metadata": {},
   "outputs": [
    {
     "data": {
      "text/plain": [
       "['이이름 010-1000-1000', '김이름 010-2000-2000', 'Rachel 010-3000-3000']"
      ]
     },
     "execution_count": 19,
     "metadata": {},
     "output_type": "execute_result"
    }
   ],
   "source": [
    "p = re.compile(r\"[a-zㄱ-ㅎ가-힣]+\\s+010\\D*\\d{4}\\D*\\d{4}$\", re.M | re.I)\n",
    "items = p.findall(str)\n",
    "items"
   ]
  },
  {
   "cell_type": "code",
   "execution_count": 31,
   "id": "3bad29fa",
   "metadata": {},
   "outputs": [],
   "source": [
    "p = re.compile(r\"(^[a-zㄱ-ㅎ가-힣]+)\\s+(010\\D*\\d{4}\\D*\\d{4}$)\", re.M | re.I)\n"
   ]
  },
  {
   "cell_type": "code",
   "execution_count": 28,
   "id": "0a4199f0",
   "metadata": {},
   "outputs": [
    {
     "data": {
      "text/plain": [
       "['이이름', '김이름', 'Rachel']"
      ]
     },
     "execution_count": 28,
     "metadata": {},
     "output_type": "execute_result"
    }
   ],
   "source": [
    "items = p.findall(str)\n",
    "items"
   ]
  },
  {
   "cell_type": "code",
   "execution_count": 32,
   "id": "40dcb88a",
   "metadata": {},
   "outputs": [
    {
     "name": "stdout",
     "output_type": "stream",
     "text": [
      "m.group():이이름 010-1000-1000\n",
      "m.group(1):이이름\n",
      "m.group(2):010-1000-1000\n",
      "m.group():김이름 010-2000-2000\n",
      "m.group(1):김이름\n",
      "m.group(2):010-2000-2000\n",
      "m.group():Rachel 010-3000-3000\n",
      "m.group(1):Rachel\n",
      "m.group(2):010-3000-3000\n"
     ]
    }
   ],
   "source": [
    "for m in p.finditer(str):\n",
    "    print(f\"m.group():{m.group()}\")\n",
    "    print(f\"m.group(1):{m.group(1)}\")\n",
    "    print(f\"m.group(2):{m.group(2)}\")"
   ]
  },
  {
   "cell_type": "markdown",
   "id": "a4205f05",
   "metadata": {},
   "source": [
    "## 문자열 바꾸기\n",
    "1. sub\n",
    "2. subn"
   ]
  },
  {
   "cell_type": "code",
   "execution_count": 33,
   "id": "46fa6cf3",
   "metadata": {},
   "outputs": [],
   "source": [
    "str = \"\"\"이이름 010-1000-1000\n",
    "김이름 010-2000-2000\n",
    "Rachel 010-3000-3000\"\"\""
   ]
  },
  {
   "cell_type": "code",
   "execution_count": 34,
   "id": "728105b4",
   "metadata": {},
   "outputs": [],
   "source": [
    "p = re.compile(r\"(^[a-zㄱ-ㅎ가-힣]+)\\s+(010\\D*\\d{4}\\D*\\d{4}$)\", re.M | re.I)"
   ]
  },
  {
   "cell_type": "code",
   "execution_count": 35,
   "id": "095a86d6",
   "metadata": {},
   "outputs": [
    {
     "name": "stdout",
     "output_type": "stream",
     "text": [
      "010-1000-1000 이이름\n",
      "010-2000-2000 김이름\n",
      "010-3000-3000 Rachel\n"
     ]
    }
   ],
   "source": [
    "str2 = p.sub(r\"\\g<2> \\g<1>\", str)\n",
    "print(str2)"
   ]
  },
  {
   "cell_type": "markdown",
   "id": "75feff43",
   "metadata": {},
   "source": [
    "- 그룹핑의 이름을 설정\n",
    "```\n",
    "(?P<이름>)\n",
    "```"
   ]
  },
  {
   "cell_type": "code",
   "execution_count": 36,
   "id": "9c203b66",
   "metadata": {},
   "outputs": [],
   "source": [
    "p = re.compile(r\"(?P<name>^[a-zㄱ-ㅎ가-힣]+)\\s+(?P<mobile>010\\D*\\d{4}\\D*\\d{4}$)\", re.M | re.I)"
   ]
  },
  {
   "cell_type": "code",
   "execution_count": 37,
   "id": "3fb350d1",
   "metadata": {},
   "outputs": [
    {
     "name": "stdout",
     "output_type": "stream",
     "text": [
      "010-1000-1000 이이름\n",
      "010-2000-2000 김이름\n",
      "010-3000-3000 Rachel\n"
     ]
    }
   ],
   "source": [
    "str2 = p.sub(r\"\\g<mobile> \\g<name>\", str)\n",
    "print(str2)"
   ]
  },
  {
   "cell_type": "markdown",
   "id": "b58ac4c9",
   "metadata": {},
   "source": [
    "- 그룹화된 패턴 재활용"
   ]
  },
  {
   "cell_type": "code",
   "execution_count": 38,
   "id": "3572e8a0",
   "metadata": {},
   "outputs": [],
   "source": [
    "str = \"Paris in the the spring\""
   ]
  },
  {
   "cell_type": "code",
   "execution_count": 43,
   "id": "a5d6779e",
   "metadata": {},
   "outputs": [],
   "source": [
    "#p = re.compile(r\"(\\w+)\\s+\\1\")\n",
    "p = re.compile(r\"(?P<word>\\w+)\\s+(?P=word)\")"
   ]
  },
  {
   "cell_type": "code",
   "execution_count": 44,
   "id": "2fe28054",
   "metadata": {},
   "outputs": [
    {
     "data": {
      "text/plain": [
       "<re.Match object; span=(9, 16), match='the the'>"
      ]
     },
     "execution_count": 44,
     "metadata": {},
     "output_type": "execute_result"
    }
   ],
   "source": [
    "m = p.search(str)\n",
    "m"
   ]
  },
  {
   "cell_type": "code",
   "execution_count": 49,
   "id": "8d863c5f",
   "metadata": {},
   "outputs": [],
   "source": [
    "str = \"one little, two little, three little indians\""
   ]
  },
  {
   "cell_type": "code",
   "execution_count": 50,
   "id": "f693bc45",
   "metadata": {},
   "outputs": [],
   "source": [
    "p = re.compile(\"little\")"
   ]
  },
  {
   "cell_type": "code",
   "execution_count": 52,
   "id": "3dc29781",
   "metadata": {},
   "outputs": [
    {
     "data": {
      "text/plain": [
       "'one big, two big, three little indians'"
      ]
     },
     "execution_count": 52,
     "metadata": {},
     "output_type": "execute_result"
    }
   ],
   "source": [
    "#str2 = p.sub(\"big\", str)\n",
    "str2 = p.sub(\"big\", str, count=2) #왼쪽부터 매칭되는 패턴 2개만 치환\n",
    "str2"
   ]
  },
  {
   "cell_type": "code",
   "execution_count": 54,
   "id": "2f9008af",
   "metadata": {},
   "outputs": [
    {
     "data": {
      "text/plain": [
       "('one big, two big, three little indians', 2)"
      ]
     },
     "execution_count": 54,
     "metadata": {},
     "output_type": "execute_result"
    }
   ],
   "source": [
    "result = p.subn(\"big\", str, 2)\n",
    "result"
   ]
  },
  {
   "cell_type": "code",
   "execution_count": 55,
   "id": "b1d5c304",
   "metadata": {},
   "outputs": [
    {
     "data": {
      "text/plain": [
       "'one LITTLE, two LITTLE, three LITTLE indians'"
      ]
     },
     "execution_count": 55,
     "metadata": {},
     "output_type": "execute_result"
    }
   ],
   "source": [
    "str2 = p.sub(lambda m: m.group().upper(), str)\n",
    "str2"
   ]
  },
  {
   "cell_type": "markdown",
   "id": "97cee62e",
   "metadata": {},
   "source": [
    "### 전방 탐색\n",
    "1. 긍정형 전방 탐색\n",
    "    - 특정 패턴의 앞쪽 패턴으로 한정\n",
    "    앞쪽패턴(?=특정패턴)\n",
    "    \n",
    "2. 부정형 전방 탐색\n",
    "    - 특정 패턴이 아닌 앞쪽 패턴"
   ]
  },
  {
   "cell_type": "code",
   "execution_count": 76,
   "id": "7547fe83",
   "metadata": {},
   "outputs": [],
   "source": [
    "str = \"\"\"https://www.naver.com\n",
    "https://www.daum.net\n",
    "http://www.webnmobile.net\"\"\""
   ]
  },
  {
   "cell_type": "code",
   "execution_count": 59,
   "id": "b69f61e8",
   "metadata": {},
   "outputs": [],
   "source": [
    "#p = re.compile(r\"http[s]?://\", re.M)\n",
    "p = re.compile(r\"http[s]?(?=://)\")"
   ]
  },
  {
   "cell_type": "code",
   "execution_count": 77,
   "id": "f1742a0b",
   "metadata": {},
   "outputs": [
    {
     "data": {
      "text/plain": [
       "[('www.', 'daum'), ('www.', 'webnmobile')]"
      ]
     },
     "execution_count": 77,
     "metadata": {},
     "output_type": "execute_result"
    }
   ],
   "source": [
    "items = p.findall(str)\n",
    "items"
   ]
  },
  {
   "cell_type": "code",
   "execution_count": 78,
   "id": "54a5f7cb",
   "metadata": {},
   "outputs": [],
   "source": [
    " p = re.compile(r\"http[s]?://(www\\.)?([^.]+(?=\\.net$))\", re.M) # 전방 탐색"
   ]
  },
  {
   "cell_type": "code",
   "execution_count": 80,
   "id": "4706f8a7",
   "metadata": {},
   "outputs": [
    {
     "name": "stdout",
     "output_type": "stream",
     "text": [
      "daum\n",
      "webnmobile\n"
     ]
    }
   ],
   "source": [
    "for item in p.finditer(str):\n",
    "    print(item.group(2))"
   ]
  },
  {
   "cell_type": "code",
   "execution_count": 81,
   "id": "1ab791d2",
   "metadata": {},
   "outputs": [],
   "source": [
    "p = re.compile(r\"http[s]?://(www\\.)?(.+(?!\\.net$))\", re.M) # 전방 탐색, .net으로 끝나지 않는"
   ]
  },
  {
   "cell_type": "code",
   "execution_count": 82,
   "id": "c615bed5",
   "metadata": {},
   "outputs": [
    {
     "name": "stdout",
     "output_type": "stream",
     "text": [
      "naver.com\n",
      "daum.net\n",
      "webnmobile.net\n"
     ]
    }
   ],
   "source": [
    "for item in p.finditer(str):\n",
    "    print(item.group(2))"
   ]
  },
  {
   "cell_type": "code",
   "execution_count": 83,
   "id": "7f25d1f7",
   "metadata": {},
   "outputs": [],
   "source": [
    "str =\"<html><head><title>사이트 제목</title></head><body></body></html>\""
   ]
  },
  {
   "cell_type": "code",
   "execution_count": 86,
   "id": "29f065c5",
   "metadata": {},
   "outputs": [],
   "source": [
    "p = re.compile(r\"<.+>\")"
   ]
  },
  {
   "cell_type": "code",
   "execution_count": 87,
   "id": "1a0cb0b0",
   "metadata": {},
   "outputs": [
    {
     "data": {
      "text/plain": [
       "'<html><head><title>사이트 제목</title></head><body></body></html>'"
      ]
     },
     "execution_count": 87,
     "metadata": {},
     "output_type": "execute_result"
    }
   ],
   "source": [
    "m = p.search(str)\n",
    "m.group()"
   ]
  },
  {
   "cell_type": "code",
   "execution_count": 88,
   "id": "64f4c814",
   "metadata": {},
   "outputs": [
    {
     "data": {
      "text/plain": [
       "'<html>'"
      ]
     },
     "execution_count": 88,
     "metadata": {},
     "output_type": "execute_result"
    }
   ],
   "source": [
    "p = re.compile(r\"<.*?>\")\n",
    "m = p.search(str)\n",
    "m.group()"
   ]
  },
  {
   "cell_type": "code",
   "execution_count": null,
   "id": "a5a28af6",
   "metadata": {},
   "outputs": [],
   "source": []
  }
 ],
 "metadata": {
  "kernelspec": {
   "display_name": "basic",
   "language": "python",
   "name": "python3"
  },
  "language_info": {
   "codemirror_mode": {
    "name": "ipython",
    "version": 3
   },
   "file_extension": ".py",
   "mimetype": "text/x-python",
   "name": "python",
   "nbconvert_exporter": "python",
   "pygments_lexer": "ipython3",
   "version": "3.12.10"
  }
 },
 "nbformat": 4,
 "nbformat_minor": 5
}
