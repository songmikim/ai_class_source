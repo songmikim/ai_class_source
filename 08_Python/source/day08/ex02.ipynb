{
 "cells": [
  {
   "cell_type": "markdown",
   "id": "76a1c392",
   "metadata": {},
   "source": [
    "문자열 소비가 없는 메타 문자\n",
    "1. | : or 연산자와 비슷\n",
    "    one|two|three ->  one 또는 two, three\n",
    "    \n",
    "2. ^ : 패턴으로 시작 ***\n",
    "3. $ : 패턴으로 종료 ***\n",
    "4. \\A : 멀티라인 문장에서 패턴으로 시작\n",
    "5. \\Z : 멀티라인 문장에서 피턴으로 종료\n",
    "6. \\b :\n",
    "7. \\B : "
   ]
  },
  {
   "cell_type": "code",
   "execution_count": 5,
   "id": "fe875300",
   "metadata": {},
   "outputs": [],
   "source": [
    "import re"
   ]
  },
  {
   "cell_type": "code",
   "execution_count": 6,
   "id": "13373296",
   "metadata": {},
   "outputs": [],
   "source": [
    "str = \"\"\"I like an apple\n",
    "I like an orange\n",
    "I like a pear\n",
    "\"\"\""
   ]
  },
  {
   "cell_type": "code",
   "execution_count": 7,
   "id": "80350aa8",
   "metadata": {},
   "outputs": [
    {
     "data": {
      "text/plain": [
       "['apple', 'orange', 'pear']"
      ]
     },
     "execution_count": 7,
     "metadata": {},
     "output_type": "execute_result"
    }
   ],
   "source": [
    "p = re.compile(r\"apple|orange|pear\", re.M)\n",
    "items = p.findall(str)\n",
    "items"
   ]
  },
  {
   "cell_type": "code",
   "execution_count": 18,
   "id": "eb05cea6",
   "metadata": {},
   "outputs": [],
   "source": [
    "#str = \"our class is over at 6:30\"\n",
    "str = \"class is over at 6:30\"\n",
    "str2 = \"our class and subclass\""
   ]
  },
  {
   "cell_type": "code",
   "execution_count": 15,
   "id": "db0bc02d",
   "metadata": {},
   "outputs": [],
   "source": [
    "p = re.compile(r\"\\bclass\\b\")"
   ]
  },
  {
   "cell_type": "code",
   "execution_count": 17,
   "id": "34af0b31",
   "metadata": {},
   "outputs": [
    {
     "data": {
      "text/plain": [
       "<re.Match object; span=(0, 5), match='class'>"
      ]
     },
     "execution_count": 17,
     "metadata": {},
     "output_type": "execute_result"
    }
   ],
   "source": [
    "m = p.search(str)\n",
    "m"
   ]
  },
  {
   "cell_type": "code",
   "execution_count": 16,
   "id": "e08b778c",
   "metadata": {},
   "outputs": [
    {
     "data": {
      "text/plain": [
       "<re.Match object; span=(4, 9), match='class'>"
      ]
     },
     "execution_count": 16,
     "metadata": {},
     "output_type": "execute_result"
    }
   ],
   "source": [
    "m = p.search(str2)\n",
    "m"
   ]
  },
  {
   "cell_type": "code",
   "execution_count": 19,
   "id": "7bca4970",
   "metadata": {},
   "outputs": [
    {
     "data": {
      "text/plain": [
       "['class']"
      ]
     },
     "execution_count": 19,
     "metadata": {},
     "output_type": "execute_result"
    }
   ],
   "source": [
    "items = p.findall(str2)\n",
    "items"
   ]
  },
  {
   "cell_type": "code",
   "execution_count": 20,
   "id": "4871dce2",
   "metadata": {},
   "outputs": [],
   "source": [
    "p = re.compile(r\"\\Bclass\\b\")"
   ]
  },
  {
   "cell_type": "code",
   "execution_count": 21,
   "id": "0da5a791",
   "metadata": {},
   "outputs": [
    {
     "data": {
      "text/plain": [
       "['class']"
      ]
     },
     "execution_count": 21,
     "metadata": {},
     "output_type": "execute_result"
    }
   ],
   "source": [
    "items = p.findall(str2)\n",
    "items"
   ]
  },
  {
   "cell_type": "code",
   "execution_count": null,
   "id": "06da45b2",
   "metadata": {},
   "outputs": [],
   "source": []
  }
 ],
 "metadata": {
  "kernelspec": {
   "display_name": "basic",
   "language": "python",
   "name": "python3"
  },
  "language_info": {
   "codemirror_mode": {
    "name": "ipython",
    "version": 3
   },
   "file_extension": ".py",
   "mimetype": "text/x-python",
   "name": "python",
   "nbconvert_exporter": "python",
   "pygments_lexer": "ipython3",
   "version": "3.12.10"
  }
 },
 "nbformat": 4,
 "nbformat_minor": 5
}
