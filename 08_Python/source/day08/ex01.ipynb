{
 "cells": [
  {
   "cell_type": "markdown",
   "id": "a296e82f",
   "metadata": {},
   "source": [
    "4. 컴파일 옵션\n",
    "re.compile(\"패턴\", re.옵션상수)\n",
    "\n",
    "1) DOTALL, S\n",
    "   - re.DOTALL\n",
    "   - .는 기본동작으로 \\n을 제외한 모든 문자이지만, re.DOTALL 컴파일 옵션을 추가 하면 \\n도 포함한 모든 문자 1개로 인식"
   ]
  },
  {
   "cell_type": "code",
   "execution_count": 6,
   "id": "15f58405",
   "metadata": {},
   "outputs": [],
   "source": [
    "import re\n",
    "words = [\"a11234b\", \"a    b\", \"a!b\", \"a\\nb\"]"
   ]
  },
  {
   "cell_type": "code",
   "execution_count": null,
   "id": "eeb5aba9",
   "metadata": {},
   "outputs": [
    {
     "name": "stdout",
     "output_type": "stream",
     "text": [
      "<re.Match object; span=(0, 7), match='a11234b'>\n",
      "<re.Match object; span=(0, 6), match='a    b'>\n",
      "<re.Match object; span=(0, 3), match='a!b'>\n",
      "<re.Match object; span=(0, 3), match='a\\nb'>\n"
     ]
    }
   ],
   "source": [
    "#p = re.compile(\"a.*b\")\n",
    "#p = re.compile(\"a.*b\", re.DOTALL) # . - 줄개행 문자(\\n)을 포함한 모든 문자로 1개 인식\n",
    "p = re.compile(\"a.*b\", re.S)\n",
    "for word in words:\n",
    "    m = p.match(word)\n",
    "    print(m)"
   ]
  },
  {
   "cell_type": "code",
   "execution_count": 15,
   "id": "722ed455",
   "metadata": {},
   "outputs": [],
   "source": [
    "#p = re.compile(\"python\", re.IGNORECASE)\n",
    "p = re.compile(\"python\", re.I)"
   ]
  },
  {
   "cell_type": "code",
   "execution_count": 16,
   "id": "745bb392",
   "metadata": {},
   "outputs": [],
   "source": [
    "str = \"I love python, you love Python too\""
   ]
  },
  {
   "cell_type": "code",
   "execution_count": 17,
   "id": "654695e3",
   "metadata": {},
   "outputs": [
    {
     "data": {
      "text/plain": [
       "['python', 'Python']"
      ]
     },
     "execution_count": 17,
     "metadata": {},
     "output_type": "execute_result"
    }
   ],
   "source": [
    "search = p.findall(str)\n",
    "search"
   ]
  },
  {
   "cell_type": "code",
   "execution_count": 18,
   "id": "a769929d",
   "metadata": {},
   "outputs": [],
   "source": [
    "str = \"\"\"python one\n",
    "123\n",
    "python two\n",
    "456\n",
    "python three\n",
    "789\n",
    "\"\"\""
   ]
  },
  {
   "cell_type": "code",
   "execution_count": 21,
   "id": "e60fc5f8",
   "metadata": {},
   "outputs": [],
   "source": [
    "#p = re.compile(r\"^python\\s\\w+\")\n",
    "p = re.compile(r\"^python\\s\\w+\", re.M)"
   ]
  },
  {
   "cell_type": "code",
   "execution_count": 22,
   "id": "560bf746",
   "metadata": {},
   "outputs": [
    {
     "data": {
      "text/plain": [
       "['python one', 'python two', 'python three']"
      ]
     },
     "execution_count": 22,
     "metadata": {},
     "output_type": "execute_result"
    }
   ],
   "source": [
    "items = p.findall(str)\n",
    "items"
   ]
  },
  {
   "cell_type": "code",
   "execution_count": 23,
   "id": "04d399c7",
   "metadata": {},
   "outputs": [
    {
     "name": "stderr",
     "output_type": "stream",
     "text": [
      "<>:1: SyntaxWarning: invalid escape sequence '\\d'\n",
      "<>:1: SyntaxWarning: invalid escape sequence '\\d'\n",
      "C:\\Users\\admin\\AppData\\Local\\Temp\\ipykernel_15920\\2772796461.py:1: SyntaxWarning: invalid escape sequence '\\d'\n",
      "  p = re.compile(\"^python.+\\d$\")\n"
     ]
    }
   ],
   "source": [
    "p = re.compile(\"^python.+\\d$\")\n",
    "m = p.match(str)"
   ]
  },
  {
   "cell_type": "code",
   "execution_count": null,
   "id": "59ff2476",
   "metadata": {},
   "outputs": [],
   "source": [
    "p = re.compile(r\"\\Apython.+\\d\\Z\", re.M)\n",
    "m = p.match(str)"
   ]
  },
  {
   "cell_type": "code",
   "execution_count": null,
   "id": "75b7967d",
   "metadata": {},
   "outputs": [],
   "source": []
  }
 ],
 "metadata": {
  "kernelspec": {
   "display_name": "basic",
   "language": "python",
   "name": "python3"
  },
  "language_info": {
   "codemirror_mode": {
    "name": "ipython",
    "version": 3
   },
   "file_extension": ".py",
   "mimetype": "text/x-python",
   "name": "python",
   "nbconvert_exporter": "python",
   "pygments_lexer": "ipython3",
   "version": "3.12.10"
  }
 },
 "nbformat": 4,
 "nbformat_minor": 5
}
