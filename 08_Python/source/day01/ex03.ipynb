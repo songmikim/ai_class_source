{
 "cells": [
  {
   "cell_type": "markdown",
   "id": "efd44c6a",
   "metadata": {},
   "source": [
    "## 문자형\n",
    "- \", '로 감싼 값\n",
    "- \\+ 연산자로 문자열 결합\n",
    "- \"\"\" 또는 '''로 문자열을 감싸면 자유롭게 줄개행을 통해서 작성 가능\n",
    "    ㄴ 여러줄 주석을 대체"
   ]
  },
  {
   "cell_type": "code",
   "execution_count": 7,
   "id": "fc721416",
   "metadata": {},
   "outputs": [
    {
     "data": {
      "text/plain": [
       "str"
      ]
     },
     "execution_count": 7,
     "metadata": {},
     "output_type": "execute_result"
    }
   ],
   "source": [
    "a = '안녕하세요,'\n",
    "type(a)"
   ]
  },
  {
   "cell_type": "code",
   "execution_count": 3,
   "id": "60d34890",
   "metadata": {},
   "outputs": [
    {
     "data": {
      "text/plain": [
       "str"
      ]
     },
     "execution_count": 3,
     "metadata": {},
     "output_type": "execute_result"
    }
   ],
   "source": [
    "b = \"반갑습니다.\"\n",
    "type(b)"
   ]
  },
  {
   "cell_type": "code",
   "execution_count": 4,
   "id": "137644e5",
   "metadata": {},
   "outputs": [
    {
     "name": "stdout",
     "output_type": "stream",
     "text": [
      "안녕하세요,반갑습니다.\n"
     ]
    }
   ],
   "source": [
    "c = a + b\n",
    "print(c)"
   ]
  },
  {
   "cell_type": "code",
   "execution_count": 5,
   "id": "f747f0aa",
   "metadata": {},
   "outputs": [
    {
     "name": "stdout",
     "output_type": "stream",
     "text": [
      "안녕하세요,\n",
      "반갑습니다.\n"
     ]
    }
   ],
   "source": [
    "d = \"안녕하세요,\\n반갑습니다.\"\n",
    "print(d)"
   ]
  },
  {
   "cell_type": "code",
   "execution_count": 8,
   "id": "032deb0c",
   "metadata": {},
   "outputs": [
    {
     "name": "stdout",
     "output_type": "stream",
     "text": [
      "안녕하세요,\n",
      "반갑습니다.\n",
      "오늘 점심은 뭘 먹을까요?\n"
     ]
    }
   ],
   "source": [
    "e = \"\"\"안녕하세요,\n",
    "반갑습니다.\n",
    "오늘 점심은 뭘 먹을까요?\"\"\"\n",
    "print(e)"
   ]
  },
  {
   "cell_type": "code",
   "execution_count": 10,
   "id": "86701bec",
   "metadata": {},
   "outputs": [
    {
     "name": "stdout",
     "output_type": "stream",
     "text": [
      "I love \"Python\" and \"Java\"\n"
     ]
    }
   ],
   "source": [
    "a = \"I love \\\"Python\\\" and \\\"Java\\\"\"\n",
    "print(a) "
   ]
  },
  {
   "cell_type": "markdown",
   "id": "596b460a",
   "metadata": {},
   "source": [
    "### 문자열 연산\n",
    "* \\+ 문자열 결합\n",
    "* \\* 문자열 반복"
   ]
  },
  {
   "cell_type": "code",
   "execution_count": 11,
   "id": "c7f6ab32",
   "metadata": {},
   "outputs": [
    {
     "data": {
      "text/plain": [
       "'ABCABCABC'"
      ]
     },
     "execution_count": 11,
     "metadata": {},
     "output_type": "execute_result"
    }
   ],
   "source": [
    "\"ABC\" *3"
   ]
  },
  {
   "cell_type": "code",
   "execution_count": 12,
   "id": "da80545b",
   "metadata": {},
   "outputs": [
    {
     "name": "stdout",
     "output_type": "stream",
     "text": [
      "------------------------------\n",
      "메뉴 선택:\n",
      "------------------------------\n"
     ]
    }
   ],
   "source": [
    "print('-' * 30)\n",
    "print('메뉴 선택:')\n",
    "print('-' * 30)"
   ]
  },
  {
   "cell_type": "markdown",
   "id": "2260ea3a",
   "metadata": {},
   "source": [
    "## 문자열 인덱싱\n",
    "    - 각 문자 접근은 인덱싱 연산자 []를 통해서 접근\n",
    "### 문자열 슬라이싱\n",
    "    - a[시작번호:종료번호] -> 시작번호 <= a < 종료 \n",
    "    - a[시작번호:] -> 시작번호 부터 끝까지\n",
    "    - a[:종료번호] -> 종료번호 미만 문자열을 모두 출력\n",
    "    - 인덱스 번호가 음수, 오른쪽 부터 위치를 계산\n",
    "        - -1 오른쪽 첫번째 문자\n",
    "\n",
    "    > id(..) : 자원의 주소값을 확인        "
   ]
  },
  {
   "cell_type": "code",
   "execution_count": 13,
   "id": "bcbca45c",
   "metadata": {},
   "outputs": [],
   "source": [
    "a = \"One Little, Two Little, Three Little Indians\""
   ]
  },
  {
   "cell_type": "code",
   "execution_count": 16,
   "id": "f1fd4ea4",
   "metadata": {},
   "outputs": [
    {
     "data": {
      "text/plain": [
       "'One'"
      ]
     },
     "execution_count": 16,
     "metadata": {},
     "output_type": "execute_result"
    }
   ],
   "source": [
    "a[0] + a[1] + a[2]"
   ]
  },
  {
   "cell_type": "code",
   "execution_count": 17,
   "id": "71f99c23",
   "metadata": {},
   "outputs": [
    {
     "data": {
      "text/plain": [
       "'One'"
      ]
     },
     "execution_count": 17,
     "metadata": {},
     "output_type": "execute_result"
    }
   ],
   "source": [
    "a[0:3] # 0,1,2"
   ]
  },
  {
   "cell_type": "code",
   "execution_count": 18,
   "id": "4742efae",
   "metadata": {},
   "outputs": [
    {
     "data": {
      "text/plain": [
       "'Little, Two Little, Three Little Indians'"
      ]
     },
     "execution_count": 18,
     "metadata": {},
     "output_type": "execute_result"
    }
   ],
   "source": [
    "a[4:]"
   ]
  },
  {
   "cell_type": "code",
   "execution_count": 19,
   "id": "7c9843a4",
   "metadata": {},
   "outputs": [
    {
     "data": {
      "text/plain": [
       "44"
      ]
     },
     "execution_count": 19,
     "metadata": {},
     "output_type": "execute_result"
    }
   ],
   "source": [
    "len(a)"
   ]
  },
  {
   "cell_type": "code",
   "execution_count": 21,
   "id": "bf5c7547",
   "metadata": {},
   "outputs": [
    {
     "data": {
      "text/plain": [
       "'Indians'"
      ]
     },
     "execution_count": 21,
     "metadata": {},
     "output_type": "execute_result"
    }
   ],
   "source": [
    "a[37:]"
   ]
  },
  {
   "cell_type": "code",
   "execution_count": 22,
   "id": "1837fb7b",
   "metadata": {},
   "outputs": [
    {
     "data": {
      "text/plain": [
       "'Indians'"
      ]
     },
     "execution_count": 22,
     "metadata": {},
     "output_type": "execute_result"
    }
   ],
   "source": [
    "a[-7:]"
   ]
  },
  {
   "cell_type": "code",
   "execution_count": 25,
   "id": "3dbf2c2a",
   "metadata": {},
   "outputs": [
    {
     "name": "stdout",
     "output_type": "stream",
     "text": [
      "a의 주소: 1546962500944\n",
      "b의 주소: 1546963022464\n"
     ]
    }
   ],
   "source": [
    "b = a[:-8]\n",
    "print(\"a의 주소:\", id(a))\n",
    "print(\"b의 주소:\", id(b))"
   ]
  },
  {
   "cell_type": "code",
   "execution_count": 26,
   "id": "5bd6b8be",
   "metadata": {},
   "outputs": [
    {
     "name": "stdout",
     "output_type": "stream",
     "text": [
      "주소: 140735612408624\n",
      "주소: 1546981266736\n"
     ]
    }
   ],
   "source": [
    "b = \"ABC\"\n",
    "print(\"주소:\", id(b))\n",
    "b += \"DEF\"\n",
    "print(\"주소:\", id(b))"
   ]
  },
  {
   "cell_type": "code",
   "execution_count": null,
   "id": "6263bec8",
   "metadata": {},
   "outputs": [
    {
     "ename": "TypeError",
     "evalue": "'str' object does not support item assignment",
     "output_type": "error",
     "traceback": [
      "\u001b[31m---------------------------------------------------------------------------\u001b[39m",
      "\u001b[31mTypeError\u001b[39m                                 Traceback (most recent call last)",
      "\u001b[36mCell\u001b[39m\u001b[36m \u001b[39m\u001b[32mIn[27]\u001b[39m\u001b[32m, line 1\u001b[39m\n\u001b[32m----> \u001b[39m\u001b[32m1\u001b[39m \u001b[43ma\u001b[49m\u001b[43m[\u001b[49m\u001b[32;43m0\u001b[39;49m\u001b[43m]\u001b[49m = \u001b[33m'\u001b[39m\u001b[33mb\u001b[39m\u001b[33m'\u001b[39m \u001b[38;5;66;03m# 문자열은 불변하기 때문에 변경 불가\u001b[39;00m\n",
      "\u001b[31mTypeError\u001b[39m: 'str' object does not support item assignment"
     ]
    }
   ],
   "source": [
    "##a[0] = 'b' # 문자열은 불변하기 때문에 변경 불가"
   ]
  },
  {
   "cell_type": "code",
   "execution_count": 63,
   "id": "ce4b831f",
   "metadata": {},
   "outputs": [
    {
     "ename": "TypeError",
     "evalue": "'float' object is not subscriptable",
     "output_type": "error",
     "traceback": [
      "\u001b[31m---------------------------------------------------------------------------\u001b[39m",
      "\u001b[31mTypeError\u001b[39m                                 Traceback (most recent call last)",
      "\u001b[36mCell\u001b[39m\u001b[36m \u001b[39m\u001b[32mIn[63]\u001b[39m\u001b[32m, line 1\u001b[39m\n\u001b[32m----> \u001b[39m\u001b[32m1\u001b[39m b = \u001b[43ma\u001b[49m\u001b[43m[\u001b[49m\u001b[43m:\u001b[49m\u001b[43m]\u001b[49m \u001b[38;5;66;03m# b에 a의 문자열 객체의 주소 복사\u001b[39;00m\n\u001b[32m      2\u001b[39m c = a \u001b[38;5;66;03m# c에 a의 문자열 객체의 주소 복사\u001b[39;00m\n\u001b[32m      3\u001b[39m \u001b[38;5;28mprint\u001b[39m(a, \u001b[33m\"\u001b[39m\u001b[33ma의 주소:\u001b[39m\u001b[33m\"\u001b[39m, \u001b[38;5;28mid\u001b[39m(a))\n",
      "\u001b[31mTypeError\u001b[39m: 'float' object is not subscriptable"
     ]
    }
   ],
   "source": [
    "b = a[:] # b에 a의 문자열 객체의 주소 복사\n",
    "c = a # c에 a의 문자열 객체의 주소 복사\n",
    "print(a, \"a의 주소:\", id(a))\n",
    "print(b, \"b의 주소:\", id(b))\n",
    "print(c, \"c의 주소:\", id(c))"
   ]
  },
  {
   "cell_type": "markdown",
   "id": "deb0576b",
   "metadata": {},
   "source": [
    "## 문자열 형식화\n",
    "- %d : 정수\n",
    "- %f : 실수\n",
    "    - %10.4f -> 전체 자리수는 10자(정수 부분 + 소수점자리)에서 소수점은 4자리까지만 출력\n",
    "    - %.4f -> 소수점 자리수만 4자리로 한정(자바 %0.4f)\n",
    "- %s : 문자\n",
    "    - %10s -> 왼쪽부터 최소 10자, 10가 안되는 경우 왼쪽부터 공백으로 채워준다.\n",
    "    - %-10s -> 오른쪽부터 최소 10자, 10가 안되는 경우 오른쪽부터 공백으로 채워준다.\n",
    "\n",
    "## 적용방법\n",
    "- \"형식화된 문자열\" % 대체될 값\n",
    "- \"형식화된 문자열(대체될 부분이 여러개 인경우)\" % (값1, 값2, ...)\n",
    "- 형식화 할때 %를 문자열로 사용하는 경우 %%로 대체\n",
    "- 문자열 객체의 함수 중에서 format 함수 사용\n",
    "    - 형식화할때 치환될 부분을 {0},{1}로 순서 번호 형태로 지정\n",
    "    - 형식화할때 치환될 부분을 직접 이름형태로 지정할 수도 있음 {mumber}, {day}\n",
    "    - 숫자와 이름을 혼용해서 형식화 문자열을 작성\n",
    "    - {0:\\<10} : 최소 10자리, 남는 자리수를 오른쪽 부터 공백\n",
    "        - {0:_<10>} : 최소 10자리, 남는 자리수를 오른쪽 부터 _로 채워 넣는다.\n",
    "\n",
    "    - {0:\\<10} : 최소 10자리, 남는 자리수를 왼쪽 부터 공백\n",
    "        - {0:!>10>} : 최소 10자리, 남는 자리수를 왼쪽 부터 !로 채워 넣는다.\n",
    "\n",
    "    - {0:^10} : 최소 10자리, 남는 자리수를 좌우 균등하게 공백\n",
    "        - {0:0^10>} : 최소 10자리, 남는 자리수를 좌우 균등하게 0으로 채워 넣는다.\n",
    "        \n",
    "    - 문자열 앞에 \"f\", 파이썬 3.6부터 추가, 변수 그 자체를 문자열에 추가"
   ]
  },
  {
   "cell_type": "code",
   "execution_count": 33,
   "id": "08dac1c1",
   "metadata": {},
   "outputs": [
    {
     "data": {
      "text/plain": [
       "'I drink 10 cup of coffee and 3 piece of cake'"
      ]
     },
     "execution_count": 33,
     "metadata": {},
     "output_type": "execute_result"
    }
   ],
   "source": [
    "\"I drink %d cup of coffee and %d piece of cake\" % (10, 3)"
   ]
  },
  {
   "cell_type": "code",
   "execution_count": 34,
   "id": "9bb31665",
   "metadata": {},
   "outputs": [
    {
     "data": {
      "text/plain": [
       "'I drink ten cup of coffee and three piece of cake'"
      ]
     },
     "execution_count": 34,
     "metadata": {},
     "output_type": "execute_result"
    }
   ],
   "source": [
    "\"I drink %s cup of coffee and %s piece of cake\" % ('ten', 'three')"
   ]
  },
  {
   "cell_type": "code",
   "execution_count": 38,
   "id": "d11b1341",
   "metadata": {},
   "outputs": [
    {
     "data": {
      "text/plain": [
       "'     Apple, '"
      ]
     },
     "execution_count": 38,
     "metadata": {},
     "output_type": "execute_result"
    }
   ],
   "source": [
    "\"%10s, \" % \"Apple\""
   ]
  },
  {
   "cell_type": "code",
   "execution_count": 39,
   "id": "9d5869ac",
   "metadata": {},
   "outputs": [
    {
     "data": {
      "text/plain": [
       "'Apple     , '"
      ]
     },
     "execution_count": 39,
     "metadata": {},
     "output_type": "execute_result"
    }
   ],
   "source": [
    "\"%-10s, \" % \"Apple\""
   ]
  },
  {
   "cell_type": "code",
   "execution_count": 40,
   "id": "03e7b74e",
   "metadata": {},
   "outputs": [
    {
     "name": "stdout",
     "output_type": "stream",
     "text": [
      "숫자: 100.123457\n",
      "숫자:   100.1235\n",
      "숫자: 100.1235\n"
     ]
    }
   ],
   "source": [
    "a = 100.12345678\n",
    "print(\"숫자: %f\" % a )\n",
    "print(\"숫자: %10.4f\" % a)\n",
    "print(\"숫자: %.4f\" % a)"
   ]
  },
  {
   "cell_type": "code",
   "execution_count": 41,
   "id": "5df47f70",
   "metadata": {},
   "outputs": [
    {
     "data": {
      "text/plain": [
       "'완료까지 85% 입니다.'"
      ]
     },
     "execution_count": 41,
     "metadata": {},
     "output_type": "execute_result"
    }
   ],
   "source": [
    "\"완료까지 %d%% 입니다.\" % 85"
   ]
  },
  {
   "cell_type": "code",
   "execution_count": 43,
   "id": "b3b403bb",
   "metadata": {},
   "outputs": [
    {
     "data": {
      "text/plain": [
       "'I drink 5 cup of coffee and 3 piece of cake'"
      ]
     },
     "execution_count": 43,
     "metadata": {},
     "output_type": "execute_result"
    }
   ],
   "source": [
    "\"I drink {0} cup of coffee and {1} piece of cake\".format(5, 3)"
   ]
  },
  {
   "cell_type": "code",
   "execution_count": 44,
   "id": "f46b82a9",
   "metadata": {},
   "outputs": [
    {
     "data": {
      "text/plain": [
       "'I drink 10 cup of coffee and 3 piece of cake'"
      ]
     },
     "execution_count": 44,
     "metadata": {},
     "output_type": "execute_result"
    }
   ],
   "source": [
    "\"I drink {number1} cup of coffee and {number2} piece of cake\".format(number1=10, number2=3)"
   ]
  },
  {
   "cell_type": "code",
   "execution_count": null,
   "id": "36a0a70a",
   "metadata": {},
   "outputs": [
    {
     "data": {
      "text/plain": [
       "'I drink 5 cup of coffee and 3 piece of cake'"
      ]
     },
     "execution_count": 45,
     "metadata": {},
     "output_type": "execute_result"
    }
   ],
   "source": [
    "coffee = 5\n",
    "cake = 3\n",
    "f\"I drink {coffee} cup of coffee and {cake} piece of cake\""
   ]
  },
  {
   "cell_type": "code",
   "execution_count": 47,
   "id": "ab15d031",
   "metadata": {},
   "outputs": [
    {
     "data": {
      "text/plain": [
       "'***Apple     ,      Apple,   Apple   ***'"
      ]
     },
     "execution_count": 47,
     "metadata": {},
     "output_type": "execute_result"
    }
   ],
   "source": [
    "\"***{0:<10}, {1:>10}, {1:^10}***\".format(\"Apple\",\"Apple\",\"Apple\")"
   ]
  },
  {
   "cell_type": "code",
   "execution_count": 48,
   "id": "29d696f2",
   "metadata": {},
   "outputs": [
    {
     "data": {
      "text/plain": [
       "'***Apple_____, *****Apple, 00Apple000***'"
      ]
     },
     "execution_count": 48,
     "metadata": {},
     "output_type": "execute_result"
    }
   ],
   "source": [
    "\"***{0:_<10}, {1:*>10}, {1:0^10}***\".format(\"Apple\",\"Apple\",\"Apple\")"
   ]
  },
  {
   "cell_type": "code",
   "execution_count": 50,
   "id": "c55cc670",
   "metadata": {},
   "outputs": [
    {
     "name": "stdout",
     "output_type": "stream",
     "text": [
      "  100.1235\n",
      "100.1235\n"
     ]
    }
   ],
   "source": [
    "print(\"{0:10.4f}\".format(100.12345678))\n",
    "print(\"{0:.4f}\".format(100.12345678))"
   ]
  },
  {
   "cell_type": "markdown",
   "id": "d9aa7079",
   "metadata": {},
   "source": [
    "### f 문자열 형식화\n",
    "- 문자열 앞에 f를 붙이면 된다.\n",
    "- 변수를 직접 형식화 문자열에 출력\n",
    "- 간단한 연산, 함수 호출도 가능\n",
    "- {값:\\<10} -> 최소 10자리, 남은 자리수는 오른쪽 공백\n",
    "    - {값:!\\<10} -> 최소 10자리, 남은 자리수는 오른쪽 !로 채워 넣는다.\n",
    "    \n",
    "- {값:\\>10} -> 최소 10자리, 남은 자리수는 왼쪽 공백\n",
    "- {값:^10} -> 최소 10자리, 남은 자리수는 좌우 균등하게 공백\n",
    "- {실수: 10.4f} -> 정수 + 소수점 자리가 최소 10자리, 소수점은 4자리로 한정\n",
    "- {실수:.4f} -> 소수점은 4자리로 한정\n",
    "- {}를 문자 그대로 사용하는 경우{{...}}"
   ]
  },
  {
   "cell_type": "code",
   "execution_count": 52,
   "id": "3b6657a1",
   "metadata": {},
   "outputs": [],
   "source": [
    "name= \"이이름\"\n",
    "age = 40\n",
    "num = 10"
   ]
  },
  {
   "cell_type": "code",
   "execution_count": 53,
   "id": "226e19e3",
   "metadata": {},
   "outputs": [
    {
     "data": {
      "text/plain": [
       "'이름: 이이름, 나이:40, 숫자:10'"
      ]
     },
     "execution_count": 53,
     "metadata": {},
     "output_type": "execute_result"
    }
   ],
   "source": [
    "f'이름: {name}, 나이:{age}, 숫자:{num}'"
   ]
  },
  {
   "cell_type": "code",
   "execution_count": 55,
   "id": "ea6396d6",
   "metadata": {},
   "outputs": [
    {
     "data": {
      "text/plain": [
       "'이름: 이이름       , 나이:        40, 숫자:    10    '"
      ]
     },
     "execution_count": 55,
     "metadata": {},
     "output_type": "execute_result"
    }
   ],
   "source": [
    "f'이름: {name:<10}, 나이:{age:>10}, 숫자:{num:^10}'"
   ]
  },
  {
   "cell_type": "code",
   "execution_count": 56,
   "id": "d3dfb9fe",
   "metadata": {},
   "outputs": [
    {
     "data": {
      "text/plain": [
       "'이름: 이이름!!!!!!!, 나이:********40, 숫자:====10===='"
      ]
     },
     "execution_count": 56,
     "metadata": {},
     "output_type": "execute_result"
    }
   ],
   "source": [
    "f'이름: {name:!<10}, 나이:{age:*>10}, 숫자:{num:=^10}'"
   ]
  },
  {
   "cell_type": "code",
   "execution_count": 57,
   "id": "d247bdf9",
   "metadata": {},
   "outputs": [
    {
     "data": {
      "text/plain": [
       "' 1000.1235'"
      ]
     },
     "execution_count": 57,
     "metadata": {},
     "output_type": "execute_result"
    }
   ],
   "source": [
    "num = 1000.12345678;\n",
    "f'{num:10.4f}'"
   ]
  },
  {
   "cell_type": "code",
   "execution_count": 59,
   "id": "1ff84381",
   "metadata": {},
   "outputs": [
    {
     "data": {
      "text/plain": [
       "'{num + 100:.4f}'"
      ]
     },
     "execution_count": 59,
     "metadata": {},
     "output_type": "execute_result"
    }
   ],
   "source": [
    "f'{{num + 100:.4f}}'"
   ]
  },
  {
   "cell_type": "markdown",
   "id": "2f492780",
   "metadata": {},
   "source": [
    "## 문자열 관련 함수들\n",
    "- 문자 개수 세기 - count\n",
    "    - 문장에서 특정 문자가 몇번 등장하는지\n",
    "    \n",
    "- 위치 알려 주기 1 - find\n",
    "    - 지정된 문자를 못찾은 경우 -1 값을 반환\n",
    "\n",
    "- 위치 알려 주기 2 - index\n",
    "    - 지정된 문자를 못찾은 경우 예외가 발생\n",
    "- 특정 문자열로 결합하여 문자열 생성 - join\n",
    "    - 문자열 외에 list, tuple 사용 가능\n",
    "- 소문자 -> 대문자 - upper\n",
    "- 대문자 -> 소문자 - lower\n",
    "- 공백제거 - strip / 좌,우 공백 제거\n",
    "    - lstrip - 왼쪽 여백 제거\n",
    "    - rstrip - 오른쪽 여백 제거\n",
    "- 문자열 "
   ]
  },
  {
   "cell_type": "code",
   "execution_count": 66,
   "id": "05acb9ef",
   "metadata": {},
   "outputs": [],
   "source": [
    "a = \"One Little, Two Little, Three Little Indians\""
   ]
  },
  {
   "cell_type": "code",
   "execution_count": 67,
   "id": "245f5002",
   "metadata": {},
   "outputs": [
    {
     "data": {
      "text/plain": [
       "3"
      ]
     },
     "execution_count": 67,
     "metadata": {},
     "output_type": "execute_result"
    }
   ],
   "source": [
    "a.count('Little')"
   ]
  },
  {
   "cell_type": "code",
   "execution_count": 69,
   "id": "c8834dda",
   "metadata": {},
   "outputs": [
    {
     "name": "stdout",
     "output_type": "stream",
     "text": [
      "4\n",
      "-1\n"
     ]
    }
   ],
   "source": [
    "print(a.find('Little'))\n",
    "print(a.find('Big'))"
   ]
  },
  {
   "cell_type": "code",
   "execution_count": 70,
   "id": "f624ce30",
   "metadata": {},
   "outputs": [
    {
     "name": "stdout",
     "output_type": "stream",
     "text": [
      "4\n"
     ]
    },
    {
     "ename": "ValueError",
     "evalue": "substring not found",
     "output_type": "error",
     "traceback": [
      "\u001b[31m---------------------------------------------------------------------------\u001b[39m",
      "\u001b[31mValueError\u001b[39m                                Traceback (most recent call last)",
      "\u001b[36mCell\u001b[39m\u001b[36m \u001b[39m\u001b[32mIn[70]\u001b[39m\u001b[32m, line 2\u001b[39m\n\u001b[32m      1\u001b[39m \u001b[38;5;28mprint\u001b[39m(a.index(\u001b[33m'\u001b[39m\u001b[33mLittle\u001b[39m\u001b[33m'\u001b[39m))\n\u001b[32m----> \u001b[39m\u001b[32m2\u001b[39m \u001b[38;5;28mprint\u001b[39m(\u001b[43ma\u001b[49m\u001b[43m.\u001b[49m\u001b[43mindex\u001b[49m\u001b[43m(\u001b[49m\u001b[33;43m'\u001b[39;49m\u001b[33;43mBig\u001b[39;49m\u001b[33;43m'\u001b[39;49m\u001b[43m)\u001b[49m)\n",
      "\u001b[31mValueError\u001b[39m: substring not found"
     ]
    }
   ],
   "source": [
    "print(a.index('Little'))\n",
    "print(a.index('Big'))"
   ]
  },
  {
   "cell_type": "code",
   "execution_count": 71,
   "id": "5103b509",
   "metadata": {},
   "outputs": [
    {
     "data": {
      "text/plain": [
       "'a#b#c#d'"
      ]
     },
     "execution_count": 71,
     "metadata": {},
     "output_type": "execute_result"
    }
   ],
   "source": [
    "a = 'abcd'\n",
    "'#'.join(a)"
   ]
  },
  {
   "cell_type": "code",
   "execution_count": 73,
   "id": "c2255300",
   "metadata": {},
   "outputs": [
    {
     "data": {
      "text/plain": [
       "'apple,orange,banana,melon,mango'"
      ]
     },
     "execution_count": 73,
     "metadata": {},
     "output_type": "execute_result"
    }
   ],
   "source": [
    "fruits = ['apple','orange','banana','melon','mango']\n",
    "','.join(fruits)"
   ]
  },
  {
   "cell_type": "code",
   "execution_count": 74,
   "id": "46020230",
   "metadata": {},
   "outputs": [],
   "source": [
    "a = \"             ABC              \""
   ]
  },
  {
   "cell_type": "code",
   "execution_count": 75,
   "id": "8934fc68",
   "metadata": {},
   "outputs": [
    {
     "data": {
      "text/plain": [
       "'             ABC              DEF'"
      ]
     },
     "execution_count": 75,
     "metadata": {},
     "output_type": "execute_result"
    }
   ],
   "source": [
    "a + \"DEF\""
   ]
  },
  {
   "cell_type": "code",
   "execution_count": 76,
   "id": "4dd3c15a",
   "metadata": {},
   "outputs": [
    {
     "data": {
      "text/plain": [
       "'ABCDEF'"
      ]
     },
     "execution_count": 76,
     "metadata": {},
     "output_type": "execute_result"
    }
   ],
   "source": [
    "a.strip() + \"DEF\""
   ]
  },
  {
   "cell_type": "code",
   "execution_count": 77,
   "id": "42b86332",
   "metadata": {},
   "outputs": [
    {
     "data": {
      "text/plain": [
       "'ABCDEF'"
      ]
     },
     "execution_count": 77,
     "metadata": {},
     "output_type": "execute_result"
    }
   ],
   "source": [
    "a.strip() + \"DEF\""
   ]
  },
  {
   "cell_type": "code",
   "execution_count": 78,
   "id": "35e748d9",
   "metadata": {},
   "outputs": [
    {
     "data": {
      "text/plain": [
       "['Apple', 'Orange', 'Melon', 'Mango']"
      ]
     },
     "execution_count": 78,
     "metadata": {},
     "output_type": "execute_result"
    }
   ],
   "source": [
    "a = \"Apple Orange Melon Mango\"\n",
    "a.split()   # 공백을 기준으로 문자열을 분리"
   ]
  },
  {
   "cell_type": "code",
   "execution_count": 79,
   "id": "a629562f",
   "metadata": {},
   "outputs": [
    {
     "data": {
      "text/plain": [
       "['Apple', 'Orange', 'Melon', 'Mango']"
      ]
     },
     "execution_count": 79,
     "metadata": {},
     "output_type": "execute_result"
    }
   ],
   "source": [
    "a = \"Apple,Orange,Melon,Mango\"\n",
    "a.split(',')  "
   ]
  },
  {
   "cell_type": "code",
   "execution_count": null,
   "id": "518c0c1c",
   "metadata": {},
   "outputs": [],
   "source": []
  }
 ],
 "metadata": {
  "kernelspec": {
   "display_name": "basic",
   "language": "python",
   "name": "python3"
  },
  "language_info": {
   "codemirror_mode": {
    "name": "ipython",
    "version": 3
   },
   "file_extension": ".py",
   "mimetype": "text/x-python",
   "name": "python",
   "nbconvert_exporter": "python",
   "pygments_lexer": "ipython3",
   "version": "3.12.10"
  }
 },
 "nbformat": 4,
 "nbformat_minor": 5
}
