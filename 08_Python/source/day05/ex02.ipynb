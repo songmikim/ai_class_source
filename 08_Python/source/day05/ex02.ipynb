{
 "cells": [
  {
   "cell_type": "code",
   "execution_count": 3,
   "id": "f8ec1a40",
   "metadata": {},
   "outputs": [
    {
     "name": "stdout",
     "output_type": "stream",
     "text": [
      "division by zero\n"
     ]
    }
   ],
   "source": [
    "try:\n",
    "    num1 = 10\n",
    "    num2 = 0\n",
    "\n",
    "    result = num1 / num2\n",
    "    print(result)\n",
    "except Exception as e:\n",
    "    print(e) #__str__     "
   ]
  },
  {
   "cell_type": "code",
   "execution_count": 5,
   "id": "318c3d30",
   "metadata": {},
   "outputs": [
    {
     "name": "stdout",
     "output_type": "stream",
     "text": [
      "list index out of range\n",
      "Traceback (most recent call last):\n",
      "  File \"C:\\Users\\admin\\AppData\\Local\\Temp\\ipykernel_13444\\4222463099.py\", line 5, in <module>\n",
      "    print(a[2]) # 없는 인덱스 접근 - IndexError\n",
      "          ~^^^\n",
      "IndexError: list index out of range\n",
      "\n"
     ]
    }
   ],
   "source": [
    "import traceback\n",
    "\n",
    "try:\n",
    "    a = [1, 2]\n",
    "    print(a[2]) # 없는 인덱스 접근 - IndexError\n",
    "\n",
    "    num1 = 10\n",
    "    num2 = 0\n",
    "\n",
    "    result = num1 / num2\n",
    "    print(result)\n",
    "except (ZeroDivisionError , IndexError) as e:\n",
    "    print(e)\n",
    "    print(traceback.format_exc())"
   ]
  },
  {
   "cell_type": "code",
   "execution_count": 8,
   "id": "92fb1bc1",
   "metadata": {},
   "outputs": [
    {
     "name": "stdout",
     "output_type": "stream",
     "text": [
      "예외발생\n",
      "무조건실행\n"
     ]
    }
   ],
   "source": [
    "try:\n",
    "    10 / 0\n",
    "except:\n",
    "    print(\"예외발생\")\n",
    "else:\n",
    "    print(\"정상실행\")\n",
    "finally:\n",
    "    print(\"무조건실행\")    "
   ]
  },
  {
   "cell_type": "code",
   "execution_count": null,
   "id": "4c3f1f6b",
   "metadata": {},
   "outputs": [
    {
     "ename": "Exception",
     "evalue": "",
     "output_type": "error",
     "traceback": [
      "\u001b[31m---------------------------------------------------------------------------\u001b[39m",
      "\u001b[31mException\u001b[39m                                 Traceback (most recent call last)",
      "\u001b[36mCell\u001b[39m\u001b[36m \u001b[39m\u001b[32mIn[10]\u001b[39m\u001b[32m, line 3\u001b[39m\n\u001b[32m      1\u001b[39m result = \u001b[38;5;28;01mFalse\u001b[39;00m\n\u001b[32m      2\u001b[39m \u001b[38;5;28;01mif\u001b[39;00m \u001b[38;5;129;01mnot\u001b[39;00m result:\n\u001b[32m----> \u001b[39m\u001b[32m3\u001b[39m     \u001b[38;5;28;01mraise\u001b[39;00m \u001b[38;5;167;01mException\u001b[39;00m\n",
      "\u001b[31mException\u001b[39m: "
     ]
    }
   ],
   "source": [
    "result = False\n",
    "if not result:\n",
    "    raise Exception(\"예외발생...\")"
   ]
  },
  {
   "cell_type": "code",
   "execution_count": null,
   "id": "798c0fe6",
   "metadata": {},
   "outputs": [],
   "source": []
  }
 ],
 "metadata": {
  "kernelspec": {
   "display_name": "basic",
   "language": "python",
   "name": "python3"
  },
  "language_info": {
   "codemirror_mode": {
    "name": "ipython",
    "version": 3
   },
   "file_extension": ".py",
   "mimetype": "text/x-python",
   "name": "python",
   "nbconvert_exporter": "python",
   "pygments_lexer": "ipython3",
   "version": "3.12.10"
  }
 },
 "nbformat": 4,
 "nbformat_minor": 5
}
