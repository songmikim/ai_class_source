{
 "cells": [
  {
   "cell_type": "code",
   "execution_count": 15,
   "id": "70d0c6cd",
   "metadata": {},
   "outputs": [],
   "source": [
    "class UserIdError(Exception):\n",
    "    def __str__(self):\n",
    "        return \"아이디가 일치하지 않습니다.\"\n",
    "    \n",
    "class UserPwError(Exception):\n",
    "    pass"
   ]
  },
  {
   "cell_type": "code",
   "execution_count": 16,
   "id": "42a9602e",
   "metadata": {},
   "outputs": [],
   "source": [
    "def login(user_id, user_pw):\n",
    "    if user_id !='user01':\n",
    "        raise UserIdError\n",
    "    if user_pw != '123456':\n",
    "        raise UserPwError        "
   ]
  },
  {
   "cell_type": "code",
   "execution_count": 17,
   "id": "afc97684",
   "metadata": {},
   "outputs": [
    {
     "ename": "NameError",
     "evalue": "name 'UseridError' is not defined",
     "output_type": "error",
     "traceback": [
      "\u001b[31m---------------------------------------------------------------------------\u001b[39m",
      "\u001b[31mUserIdError\u001b[39m                               Traceback (most recent call last)",
      "\u001b[36mCell\u001b[39m\u001b[36m \u001b[39m\u001b[32mIn[17]\u001b[39m\u001b[32m, line 2\u001b[39m\n\u001b[32m      1\u001b[39m \u001b[38;5;28;01mtry\u001b[39;00m:\n\u001b[32m----> \u001b[39m\u001b[32m2\u001b[39m     \u001b[43mlogin\u001b[49m\u001b[43m(\u001b[49m\u001b[33;43m'\u001b[39;49m\u001b[33;43muser02\u001b[39;49m\u001b[33;43m'\u001b[39;49m\u001b[43m,\u001b[49m\u001b[43m \u001b[49m\u001b[33;43m'\u001b[39;49m\u001b[33;43m123456\u001b[39;49m\u001b[33;43m'\u001b[39;49m\u001b[43m)\u001b[49m\n\u001b[32m      3\u001b[39m \u001b[38;5;28;01mexcept\u001b[39;00m (UseridError, UserPwerror) \u001b[38;5;28;01mas\u001b[39;00m e:\n",
      "\u001b[36mCell\u001b[39m\u001b[36m \u001b[39m\u001b[32mIn[16]\u001b[39m\u001b[32m, line 3\u001b[39m, in \u001b[36mlogin\u001b[39m\u001b[34m(user_id, user_pw)\u001b[39m\n\u001b[32m      2\u001b[39m \u001b[38;5;28;01mif\u001b[39;00m user_id !=\u001b[33m'\u001b[39m\u001b[33muser01\u001b[39m\u001b[33m'\u001b[39m:\n\u001b[32m----> \u001b[39m\u001b[32m3\u001b[39m     \u001b[38;5;28;01mraise\u001b[39;00m UserIdError\n\u001b[32m      4\u001b[39m \u001b[38;5;28;01mif\u001b[39;00m user_pw != \u001b[33m'\u001b[39m\u001b[33m123456\u001b[39m\u001b[33m'\u001b[39m:\n",
      "\u001b[31mUserIdError\u001b[39m: 아이디가 일치하지 않습니다.",
      "\nDuring handling of the above exception, another exception occurred:\n",
      "\u001b[31mNameError\u001b[39m                                 Traceback (most recent call last)",
      "\u001b[36mCell\u001b[39m\u001b[36m \u001b[39m\u001b[32mIn[17]\u001b[39m\u001b[32m, line 3\u001b[39m\n\u001b[32m      1\u001b[39m \u001b[38;5;28;01mtry\u001b[39;00m:\n\u001b[32m      2\u001b[39m     login(\u001b[33m'\u001b[39m\u001b[33muser02\u001b[39m\u001b[33m'\u001b[39m, \u001b[33m'\u001b[39m\u001b[33m123456\u001b[39m\u001b[33m'\u001b[39m)\n\u001b[32m----> \u001b[39m\u001b[32m3\u001b[39m \u001b[38;5;28;01mexcept\u001b[39;00m (\u001b[43mUseridError\u001b[49m, UserPwerror) \u001b[38;5;28;01mas\u001b[39;00m e:\n\u001b[32m      4\u001b[39m     \u001b[38;5;28mprint\u001b[39m(e)\n",
      "\u001b[31mNameError\u001b[39m: name 'UseridError' is not defined"
     ]
    }
   ],
   "source": [
    "try:\n",
    "    login('user02', '123456')\n",
    "except (UseridError, UserPwerror) as e:\n",
    "    print(e)"
   ]
  },
  {
   "cell_type": "code",
   "execution_count": null,
   "id": "a4e64703",
   "metadata": {},
   "outputs": [],
   "source": []
  }
 ],
 "metadata": {
  "kernelspec": {
   "display_name": "basic",
   "language": "python",
   "name": "python3"
  },
  "language_info": {
   "codemirror_mode": {
    "name": "ipython",
    "version": 3
   },
   "file_extension": ".py",
   "mimetype": "text/x-python",
   "name": "python",
   "nbconvert_exporter": "python",
   "pygments_lexer": "ipython3",
   "version": "3.12.10"
  }
 },
 "nbformat": 4,
 "nbformat_minor": 5
}
