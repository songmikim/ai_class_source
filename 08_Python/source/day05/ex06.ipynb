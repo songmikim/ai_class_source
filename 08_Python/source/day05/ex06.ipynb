{
 "cells": [
  {
   "cell_type": "code",
   "execution_count": 1,
   "id": "2b01a775",
   "metadata": {},
   "outputs": [],
   "source": [
    "class Calculator:\n",
    "    def add(self):\n",
    "        return self.a + self.b"
   ]
  },
  {
   "cell_type": "code",
   "execution_count": 2,
   "id": "484a5da3",
   "metadata": {},
   "outputs": [
    {
     "name": "stdout",
     "output_type": "stream",
     "text": [
      "1969724154096 1969724178112\n"
     ]
    }
   ],
   "source": [
    "cal1 = Calculator()\n",
    "cal2 = Calculator()\n",
    "print(id(cal1), id(cal2))"
   ]
  },
  {
   "cell_type": "code",
   "execution_count": 6,
   "id": "f422f415",
   "metadata": {},
   "outputs": [],
   "source": [
    "class Calculator:\n",
    "    def setData(self, a, b):\n",
    "        self.a = a\n",
    "        self.b = b\n",
    "    def add(self): return self.a + self.b\n",
    "    def sub(self): return self.a - self.b\n",
    "    def mul(self): return self.a * self.b\n",
    "    def div(self): return self.a / self.b"
   ]
  },
  {
   "cell_type": "code",
   "execution_count": 8,
   "id": "1f4cf263",
   "metadata": {},
   "outputs": [
    {
     "data": {
      "text/plain": [
       "20000"
      ]
     },
     "execution_count": 8,
     "metadata": {},
     "output_type": "execute_result"
    }
   ],
   "source": [
    "cal1 = Calculator()\n",
    "cal1.setData(100, 200)\n",
    "cal1.mul()  # 300"
   ]
  },
  {
   "cell_type": "code",
   "execution_count": 9,
   "id": "eacf6dcf",
   "metadata": {},
   "outputs": [],
   "source": [
    "class Person:\n",
    "    def aboutMe(self):\n",
    "        print(\"사람입니다.\")\n",
    "\n",
    "class Employee(Person):\n",
    "    def aboutMe(self):\n",
    "        print(\"직원입니다.\")"
   ]
  },
  {
   "cell_type": "code",
   "execution_count": 10,
   "id": "0b75fbe3",
   "metadata": {},
   "outputs": [
    {
     "name": "stdout",
     "output_type": "stream",
     "text": [
      "사람입니다.\n",
      "직원입니다.\n"
     ]
    }
   ],
   "source": [
    "p = Person()\n",
    "p.aboutMe()  # 사람입니다.\n",
    "e = Employee()\n",
    "e.aboutMe()"
   ]
  },
  {
   "cell_type": "code",
   "execution_count": 11,
   "id": "b5abd9bb",
   "metadata": {},
   "outputs": [],
   "source": [
    "class Person:\n",
    "    first_name = '이름'\n",
    "    last_name = '김'\n",
    "\n",
    "p1 = Person()\n",
    "p2 = Person()\n",
    "p1.first_name = '박'"
   ]
  },
  {
   "cell_type": "code",
   "execution_count": 12,
   "id": "05c77f63",
   "metadata": {},
   "outputs": [
    {
     "name": "stdout",
     "output_type": "stream",
     "text": [
      "이름\n",
      "박\n",
      "이름\n"
     ]
    }
   ],
   "source": [
    "print(Person.first_name)  # 이름\n",
    "print(p1.first_name)      # 박\n",
    "print(p2.first_name)      # 이름"
   ]
  },
  {
   "cell_type": "code",
   "execution_count": 13,
   "id": "af377ce3",
   "metadata": {},
   "outputs": [],
   "source": [
    "class Greeter:\n",
    "    def __init__(self, name):\n",
    "        self.name = name\n",
    "\n",
    "    def __str__(self):\n",
    "        return f\"Greeter for {self.name}\"\n",
    "\n",
    "    def __call__(self, greeting):\n",
    "        return f\"{greeting}, {self.name}!\""
   ]
  },
  {
   "cell_type": "code",
   "execution_count": null,
   "id": "6c7480b3",
   "metadata": {},
   "outputs": [
    {
     "ename": "",
     "evalue": "",
     "output_type": "error",
     "traceback": [
      "\u001b[1;31mRunning cells with 'basic (Python 3.12.10)' requires the ipykernel package.\n",
      "\u001b[1;31mInstall 'ipykernel' into the Python environment. \n",
      "\u001b[1;31mCommand: 'c:/Users/rlath/Desktop/김송미/08_Python/source/basic/Scripts/python.exe -m pip install ipykernel -U --force-reinstall'"
     ]
    }
   ],
   "source": [
    "greeter = Greeter(\"Alice\")\n",
    "print(greeter)            # Greeter for Alice\n",
    "print(greeter(\"안녕하세요\"))  # 안녕하세요, Alice!"
   ]
  },
  {
   "cell_type": "code",
   "execution_count": null,
   "id": "01fc5d88",
   "metadata": {},
   "outputs": [],
   "source": []
  }
 ],
 "metadata": {
  "kernelspec": {
   "display_name": "basic",
   "language": "python",
   "name": "python3"
  },
  "language_info": {
   "codemirror_mode": {
    "name": "ipython",
    "version": 3
   },
   "file_extension": ".py",
   "mimetype": "text/x-python",
   "name": "python",
   "nbconvert_exporter": "python",
   "pygments_lexer": "ipython3",
   "version": "3.12.10"
  }
 },
 "nbformat": 4,
 "nbformat_minor": 5
}
