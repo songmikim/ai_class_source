{
 "cells": [
  {
   "cell_type": "markdown",
   "id": "ae4fc569",
   "metadata": {},
   "source": [
    "## 딕셔너리 자료형\n",
    "- 딕셔너리란?\n",
    "    키, 값의 쌍\n",
    "\n",
    "- 딕셔너리는 어떻게 만들까?\n",
    "```\n",
    "    변수 = {키:값, 키:값,...}\n",
    "    변수['키']\n",
    "```"
   ]
  },
  {
   "cell_type": "code",
   "execution_count": 1,
   "id": "e8ddf701",
   "metadata": {},
   "outputs": [],
   "source": [
    "person = {'name':'이이름', 'age':40}"
   ]
  },
  {
   "cell_type": "code",
   "execution_count": 3,
   "id": "e13668bb",
   "metadata": {},
   "outputs": [
    {
     "name": "stdout",
     "output_type": "stream",
     "text": [
      "이이름 40\n"
     ]
    }
   ],
   "source": [
    "print(person['name'], person['age'])"
   ]
  },
  {
   "cell_type": "markdown",
   "id": "38feb709",
   "metadata": {},
   "source": [
    "## 추가, 수정, 삭제\n",
    "- 추가 : 없는 키에 값을 추가하면 추가\n",
    "- 수정 : 동일한 키 값에 추가하면 수정\n",
    "- 삭제 : del 연산자 "
   ]
  },
  {
   "cell_type": "code",
   "execution_count": 4,
   "id": "9fe00700",
   "metadata": {},
   "outputs": [
    {
     "data": {
      "text/plain": [
       "{'name': '이이름', 'age': 40, 'address': '주소'}"
      ]
     },
     "execution_count": 4,
     "metadata": {},
     "output_type": "execute_result"
    }
   ],
   "source": [
    "person['address'] = '주소'\n",
    "person"
   ]
  },
  {
   "cell_type": "code",
   "execution_count": 5,
   "id": "c5a5f2f6",
   "metadata": {},
   "outputs": [
    {
     "data": {
      "text/plain": [
       "{'name': '이이름', 'age': 40, 'address': '(수정)주소'}"
      ]
     },
     "execution_count": 5,
     "metadata": {},
     "output_type": "execute_result"
    }
   ],
   "source": [
    "person['address'] = '(수정)주소'\n",
    "person"
   ]
  },
  {
   "cell_type": "code",
   "execution_count": 7,
   "id": "3076f820",
   "metadata": {},
   "outputs": [
    {
     "data": {
      "text/plain": [
       "{'name': '이이름', 'age': 40}"
      ]
     },
     "execution_count": 7,
     "metadata": {},
     "output_type": "execute_result"
    }
   ],
   "source": [
    "del person['address']\n",
    "person"
   ]
  },
  {
   "cell_type": "markdown",
   "id": "9ec1b668",
   "metadata": {},
   "source": [
    "### 조회\n",
    "    - 변수명['키']\n",
    "    "
   ]
  },
  {
   "cell_type": "code",
   "execution_count": 8,
   "id": "eab6d890",
   "metadata": {},
   "outputs": [
    {
     "ename": "KeyError",
     "evalue": "'address'",
     "output_type": "error",
     "traceback": [
      "\u001b[31m---------------------------------------------------------------------------\u001b[39m",
      "\u001b[31mKeyError\u001b[39m                                  Traceback (most recent call last)",
      "\u001b[36mCell\u001b[39m\u001b[36m \u001b[39m\u001b[32mIn[8]\u001b[39m\u001b[32m, line 1\u001b[39m\n\u001b[32m----> \u001b[39m\u001b[32m1\u001b[39m \u001b[43mperson\u001b[49m\u001b[43m[\u001b[49m\u001b[33;43m'\u001b[39;49m\u001b[33;43maddress\u001b[39;49m\u001b[33;43m'\u001b[39;49m\u001b[43m]\u001b[49m\n",
      "\u001b[31mKeyError\u001b[39m: 'address'"
     ]
    }
   ],
   "source": [
    "person['address']"
   ]
  },
  {
   "cell_type": "code",
   "execution_count": 9,
   "id": "6fd3e7ee",
   "metadata": {},
   "outputs": [
    {
     "data": {
      "text/plain": [
       "'기본주소'"
      ]
     },
     "execution_count": 9,
     "metadata": {},
     "output_type": "execute_result"
    }
   ],
   "source": [
    "value = person.get('address','기본주소')\n",
    "value"
   ]
  },
  {
   "cell_type": "code",
   "execution_count": 10,
   "id": "fe94c067",
   "metadata": {},
   "outputs": [
    {
     "data": {
      "text/plain": [
       "dict_keys(['name', 'age'])"
      ]
     },
     "execution_count": 10,
     "metadata": {},
     "output_type": "execute_result"
    }
   ],
   "source": [
    "person.keys()"
   ]
  },
  {
   "cell_type": "code",
   "execution_count": 12,
   "id": "c0df9df7",
   "metadata": {},
   "outputs": [
    {
     "name": "stdout",
     "output_type": "stream",
     "text": [
      "['name', 'age']\n"
     ]
    }
   ],
   "source": [
    "keys = list(person.keys())\n",
    "print(keys)"
   ]
  },
  {
   "cell_type": "code",
   "execution_count": 15,
   "id": "2953df08",
   "metadata": {},
   "outputs": [
    {
     "name": "stdout",
     "output_type": "stream",
     "text": [
      "dict_values(['이이름', 40])\n",
      "('이이름', 40)\n"
     ]
    }
   ],
   "source": [
    "print(person.values())\n",
    "print(tuple(person.values()))"
   ]
  },
  {
   "cell_type": "code",
   "execution_count": 16,
   "id": "96f33143",
   "metadata": {},
   "outputs": [
    {
     "data": {
      "text/plain": [
       "dict_items([('name', '이이름'), ('age', 40)])"
      ]
     },
     "execution_count": 16,
     "metadata": {},
     "output_type": "execute_result"
    }
   ],
   "source": [
    "person.items()"
   ]
  },
  {
   "cell_type": "code",
   "execution_count": 18,
   "id": "e8406bf0",
   "metadata": {},
   "outputs": [
    {
     "name": "stdout",
     "output_type": "stream",
     "text": [
      "('name', '이이름') <class 'tuple'>\n",
      "('age', 40) <class 'tuple'>\n"
     ]
    }
   ],
   "source": [
    "for item in person.items():\n",
    "    print(item, type(item))"
   ]
  },
  {
   "cell_type": "code",
   "execution_count": 20,
   "id": "93f5c11f",
   "metadata": {},
   "outputs": [
    {
     "name": "stdout",
     "output_type": "stream",
     "text": [
      "key name value 이이름\n",
      "key age value 40\n"
     ]
    }
   ],
   "source": [
    "for(key, value) in person.items():\n",
    "    print(\"key\", key, \"value\", value)"
   ]
  },
  {
   "cell_type": "code",
   "execution_count": 21,
   "id": "1708aa1e",
   "metadata": {},
   "outputs": [
    {
     "name": "stdout",
     "output_type": "stream",
     "text": [
      "key name value 이이름\n",
      "key age value 40\n"
     ]
    }
   ],
   "source": [
    "for key, value in person.items():\n",
    "    print(\"key\", key, \"value\", value)"
   ]
  }
 ],
 "metadata": {
  "kernelspec": {
   "display_name": "basic",
   "language": "python",
   "name": "python3"
  },
  "language_info": {
   "codemirror_mode": {
    "name": "ipython",
    "version": 3
   },
   "file_extension": ".py",
   "mimetype": "text/x-python",
   "name": "python",
   "nbconvert_exporter": "python",
   "pygments_lexer": "ipython3",
   "version": "3.12.10"
  }
 },
 "nbformat": 4,
 "nbformat_minor": 5
}
