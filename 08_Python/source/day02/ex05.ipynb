{
 "cells": [
  {
   "cell_type": "code",
   "execution_count": 6,
   "id": "aed59525",
   "metadata": {},
   "outputs": [],
   "source": [
    "#result = True\n",
    "#result = None\n",
    "result = []"
   ]
  },
  {
   "cell_type": "code",
   "execution_count": 5,
   "id": "11d21342",
   "metadata": {},
   "outputs": [
    {
     "name": "stdout",
     "output_type": "stream",
     "text": [
      "거짓\n"
     ]
    }
   ],
   "source": [
    "if result:\n",
    "    print(\"참\")\n",
    "else:\n",
    "    print(\"거짓\")"
   ]
  },
  {
   "cell_type": "code",
   "execution_count": 8,
   "id": "82e26d7f",
   "metadata": {},
   "outputs": [
    {
     "name": "stdout",
     "output_type": "stream",
     "text": [
      "<class 'list'>\n",
      "False <class 'bool'>\n"
     ]
    }
   ],
   "source": [
    "print(type(result))\n",
    "result2 = bool(result)\n",
    "print(result2, type(result2))"
   ]
  },
  {
   "cell_type": "code",
   "execution_count": null,
   "id": "5762116b",
   "metadata": {},
   "outputs": [],
   "source": []
  }
 ],
 "metadata": {
  "kernelspec": {
   "display_name": "basic",
   "language": "python",
   "name": "python3"
  },
  "language_info": {
   "codemirror_mode": {
    "name": "ipython",
    "version": 3
   },
   "file_extension": ".py",
   "mimetype": "text/x-python",
   "name": "python",
   "nbconvert_exporter": "python",
   "pygments_lexer": "ipython3",
   "version": "3.12.10"
  }
 },
 "nbformat": 4,
 "nbformat_minor": 5
}
