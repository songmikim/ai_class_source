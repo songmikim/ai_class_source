{
 "cells": [
  {
   "cell_type": "markdown",
   "id": "c917a505",
   "metadata": {},
   "source": [
    "# 리스트\n",
    "- 순차 자료구조\n",
    "- 모든 값을 담을 수 있음"
   ]
  },
  {
   "cell_type": "code",
   "execution_count": 2,
   "id": "0474c034",
   "metadata": {},
   "outputs": [],
   "source": [
    "fruits = ['사과','오렌지', '바나나','배', '멜론','망고',['a','b','c']]"
   ]
  },
  {
   "cell_type": "code",
   "execution_count": 3,
   "id": "d84716e0",
   "metadata": {},
   "outputs": [
    {
     "data": {
      "text/plain": [
       "['사과', '오렌지', '바나나', '배', '멜론', '망고', ['a', 'b', 'c']]"
      ]
     },
     "execution_count": 3,
     "metadata": {},
     "output_type": "execute_result"
    }
   ],
   "source": [
    "fruits"
   ]
  },
  {
   "cell_type": "markdown",
   "id": "a0a680a2",
   "metadata": {},
   "source": [
    "## 리스트 인덱싱\n",
    "- [순서번호] : 순서번호는 0번 부터 시작\n",
    "- [음수] : 오른쪽 부터 시작, -1, - 오른쪽 끝"
   ]
  },
  {
   "cell_type": "markdown",
   "id": "dc0ab553",
   "metadata": {},
   "source": []
  },
  {
   "cell_type": "code",
   "execution_count": 5,
   "id": "4deced29",
   "metadata": {},
   "outputs": [
    {
     "name": "stdout",
     "output_type": "stream",
     "text": [
      "사과 오렌지 바나나\n"
     ]
    }
   ],
   "source": [
    "print(fruits[0], fruits[1], fruits[2])"
   ]
  },
  {
   "cell_type": "code",
   "execution_count": 6,
   "id": "384f396d",
   "metadata": {},
   "outputs": [
    {
     "data": {
      "text/plain": [
       "['a', 'b', 'c']"
      ]
     },
     "execution_count": 6,
     "metadata": {},
     "output_type": "execute_result"
    }
   ],
   "source": [
    "fruits[-1]"
   ]
  },
  {
   "cell_type": "markdown",
   "id": "52e898e9",
   "metadata": {},
   "source": [
    "## 인덱스 슬라이싱\n",
    "- a [시작번호: 종료번호] 시작번호 <=a 종료번호, 종료번호 요소는 포함되지 않는다.\n",
    "- a [시작번호:] 시작번호부터 끝까지\n",
    "- a [:종료번호] 종료 번호 미만 모두"
   ]
  },
  {
   "cell_type": "code",
   "execution_count": null,
   "id": "1dc01c99",
   "metadata": {},
   "outputs": [
    {
     "data": {
      "text/plain": [
       "['사과', '오렌지', '바나나']"
      ]
     },
     "execution_count": 7,
     "metadata": {},
     "output_type": "execute_result"
    }
   ],
   "source": [
    "fruits[0:3] # 0, 1, 2"
   ]
  },
  {
   "cell_type": "code",
   "execution_count": null,
   "id": "8d1e6288",
   "metadata": {},
   "outputs": [
    {
     "data": {
      "text/plain": [
       "['사과', '오렌지', '바나나']"
      ]
     },
     "execution_count": 8,
     "metadata": {},
     "output_type": "execute_result"
    }
   ],
   "source": [
    "fruits[:3] # 0, 1, 2"
   ]
  },
  {
   "cell_type": "code",
   "execution_count": 9,
   "id": "10135bc5",
   "metadata": {},
   "outputs": [
    {
     "data": {
      "text/plain": [
       "['배', '멜론', '망고', ['a', 'b', 'c']]"
      ]
     },
     "execution_count": 9,
     "metadata": {},
     "output_type": "execute_result"
    }
   ],
   "source": [
    "fruits[3:]"
   ]
  },
  {
   "cell_type": "code",
   "execution_count": 10,
   "id": "632dc3c2",
   "metadata": {},
   "outputs": [
    {
     "data": {
      "text/plain": [
       "['배', '멜론', '망고']"
      ]
     },
     "execution_count": 10,
     "metadata": {},
     "output_type": "execute_result"
    }
   ],
   "source": [
    "fruits[3:6]"
   ]
  },
  {
   "cell_type": "code",
   "execution_count": 11,
   "id": "3376647e",
   "metadata": {},
   "outputs": [
    {
     "data": {
      "text/plain": [
       "['배', '멜론', '망고']"
      ]
     },
     "execution_count": 11,
     "metadata": {},
     "output_type": "execute_result"
    }
   ],
   "source": [
    "fruits[3:-1]"
   ]
  },
  {
   "cell_type": "code",
   "execution_count": 12,
   "id": "32dc33e2",
   "metadata": {},
   "outputs": [
    {
     "data": {
      "text/plain": [
       "['a', 'b']"
      ]
     },
     "execution_count": 12,
     "metadata": {},
     "output_type": "execute_result"
    }
   ],
   "source": [
    "fruits[-1][:2]"
   ]
  },
  {
   "cell_type": "markdown",
   "id": "bde6fbc7",
   "metadata": {},
   "source": [
    "## 리스트 연산하기\n",
    "- \\+ : 리스트 결합, 결합 할때 마다 새로운 리스트 객체 생성\n",
    "- \\* : 리스트 반복, 반복할때 마다 새로운 리스트 객체 생성\n",
    "- 리스트의 갯수 : len(..)\n",
    "- 같은 리스트 끼리만 연산 가능"
   ]
  },
  {
   "cell_type": "code",
   "execution_count": 14,
   "id": "dabecd54",
   "metadata": {},
   "outputs": [],
   "source": [
    "nums = [1,2,3]"
   ]
  },
  {
   "cell_type": "code",
   "execution_count": 15,
   "id": "d71472cb",
   "metadata": {},
   "outputs": [
    {
     "name": "stdout",
     "output_type": "stream",
     "text": [
      "[1, 2, 3, 4, 5, 6]\n"
     ]
    }
   ],
   "source": [
    "nums2 = nums + [4,5,6]\n",
    "print(nums2)"
   ]
  },
  {
   "cell_type": "code",
   "execution_count": 17,
   "id": "2df9cb29",
   "metadata": {},
   "outputs": [
    {
     "name": "stdout",
     "output_type": "stream",
     "text": [
      "[1, 2, 3, 1, 2, 3, 1, 2, 3]\n"
     ]
    }
   ],
   "source": [
    "nums3 = nums * 3\n",
    "print(nums3)"
   ]
  },
  {
   "cell_type": "code",
   "execution_count": 18,
   "id": "0d4b08b1",
   "metadata": {},
   "outputs": [
    {
     "data": {
      "text/plain": [
       "3"
      ]
     },
     "execution_count": 18,
     "metadata": {},
     "output_type": "execute_result"
    }
   ],
   "source": [
    "len(nums)"
   ]
  },
  {
   "cell_type": "code",
   "execution_count": 19,
   "id": "7dff88f5",
   "metadata": {},
   "outputs": [
    {
     "data": {
      "text/plain": [
       "['사과', '오렌지', '바나나', '배', '멜론', '망고', ['a', 'b', 'c']]"
      ]
     },
     "execution_count": 19,
     "metadata": {},
     "output_type": "execute_result"
    }
   ],
   "source": [
    "fruits"
   ]
  },
  {
   "cell_type": "code",
   "execution_count": 22,
   "id": "407f6922",
   "metadata": {},
   "outputs": [],
   "source": [
    "# del fruits[-1]\n",
    "del fruits[1]"
   ]
  },
  {
   "cell_type": "code",
   "execution_count": 23,
   "id": "15d7a507",
   "metadata": {},
   "outputs": [
    {
     "data": {
      "text/plain": [
       "['사과', '바나나', '배', '멜론', '망고']"
      ]
     },
     "execution_count": 23,
     "metadata": {},
     "output_type": "execute_result"
    }
   ],
   "source": [
    "fruits"
   ]
  },
  {
   "cell_type": "code",
   "execution_count": 24,
   "id": "e287c189",
   "metadata": {},
   "outputs": [],
   "source": [
    "fruits = ['사과', '오렌지']"
   ]
  },
  {
   "cell_type": "code",
   "execution_count": 26,
   "id": "d11b9653",
   "metadata": {},
   "outputs": [
    {
     "data": {
      "text/plain": [
       "['사과', '오렌지', '멜론', ['바나나', '망고']]"
      ]
     },
     "execution_count": 26,
     "metadata": {},
     "output_type": "execute_result"
    }
   ],
   "source": [
    "# append\n",
    "\"\"\" \n",
    "    append(요소 한개)\n",
    "    원본 리스트 객체의 변경을 가한다.\n",
    "    참고) + 연산자는 원본 리스트 객체를 변경하지 않는다.\n",
    "\n",
    "\"\"\"\n",
    "# fruits.append(\"멜론\")\n",
    "fruits.append([\"바나나\",\"망고\"]) # [\"바나나\",\"망고\"] - 요소 한개\n",
    "fruits"
   ]
  },
  {
   "cell_type": "code",
   "execution_count": 2,
   "id": "013c66e5",
   "metadata": {},
   "outputs": [
    {
     "data": {
      "text/plain": [
       "['사과', '오렌지', '바나나', '망고']"
      ]
     },
     "execution_count": 2,
     "metadata": {},
     "output_type": "execute_result"
    }
   ],
   "source": [
    "# expend\n",
    "\"\"\"\n",
    "    extend([요소 여러개...])\n",
    "    원본 리스트 객체의 변경을 가한다.\n",
    "\"\"\"\n",
    "fruits = ['사과', '오렌지']\n",
    "fruits.extend(['바나나','망고'])\n",
    "fruits"
   ]
  },
  {
   "cell_type": "code",
   "execution_count": 29,
   "id": "e570af44",
   "metadata": {},
   "outputs": [
    {
     "data": {
      "text/plain": [
       "['사과', '오렌지', '바나나', '망고', '사과']"
      ]
     },
     "execution_count": 29,
     "metadata": {},
     "output_type": "execute_result"
    }
   ],
   "source": [
    "fruits.insert(4, '사과')\n",
    "fruits"
   ]
  },
  {
   "cell_type": "code",
   "execution_count": 3,
   "id": "642ce0f3",
   "metadata": {},
   "outputs": [
    {
     "data": {
      "text/plain": [
       "['오렌지', '바나나', '망고']"
      ]
     },
     "execution_count": 3,
     "metadata": {},
     "output_type": "execute_result"
    }
   ],
   "source": [
    "fruits.remove('사과')\n",
    "fruits"
   ]
  },
  {
   "cell_type": "code",
   "execution_count": 4,
   "id": "312443de",
   "metadata": {},
   "outputs": [],
   "source": [
    "fruits = ['사과', '오렌지', '바나나', '망고', '사과']"
   ]
  },
  {
   "cell_type": "markdown",
   "id": "5d9c2091",
   "metadata": {},
   "source": []
  },
  {
   "cell_type": "code",
   "execution_count": 5,
   "id": "716903ae",
   "metadata": {},
   "outputs": [],
   "source": [
    "fruits2 = fruits"
   ]
  },
  {
   "cell_type": "code",
   "execution_count": 6,
   "id": "3a421d76",
   "metadata": {},
   "outputs": [
    {
     "name": "stdout",
     "output_type": "stream",
     "text": [
      "fruits2 ['사과', '오렌지', '바나나', '멜론', '망고', '사과'] fruits ['사과', '오렌지', '바나나', '멜론', '망고', '사과']\n"
     ]
    }
   ],
   "source": [
    "fruits2.insert(3, '멜론')\n",
    "print(\"fruits2\", fruits2, \"fruits\", fruits)"
   ]
  },
  {
   "cell_type": "markdown",
   "id": "0e7af04d",
   "metadata": {},
   "source": [
    "### 원본 리스트 객체를 변경하지 않는 방법\n",
    "- 슬라이싱을 사용하는 방법[:]\n",
    "- 리스트 객체의 copy()"
   ]
  },
  {
   "cell_type": "code",
   "execution_count": 7,
   "id": "31c97db6",
   "metadata": {},
   "outputs": [],
   "source": [
    "fruits = ['사과', '오렌지', '바나나', '망고', '사과']"
   ]
  },
  {
   "cell_type": "code",
   "execution_count": 8,
   "id": "5a4bf759",
   "metadata": {},
   "outputs": [
    {
     "name": "stdout",
     "output_type": "stream",
     "text": [
      "fruits2 ['사과', '오렌지', '바나나', '멜론', '멜론', '망고', '사과'] fruits ['사과', '오렌지', '바나나', '망고', '사과']\n"
     ]
    }
   ],
   "source": [
    "fruits = fruits[:]  #새로운 리스트 객체로 복사\n",
    "fruits2.insert(3,'멜론')\n",
    "print(\"fruits2\", fruits2, \"fruits\", fruits)"
   ]
  },
  {
   "cell_type": "code",
   "execution_count": 9,
   "id": "a0a43e75",
   "metadata": {},
   "outputs": [
    {
     "name": "stdout",
     "output_type": "stream",
     "text": [
      "fruits2 ['사과', '오렌지', '바나나', '멜론', '멜론', '멜론', '망고', '사과'] fruits ['사과', '오렌지', '바나나', '망고', '사과']\n"
     ]
    }
   ],
   "source": [
    "fruits = fruits.copy()  #새로운 리스트 객체로 복사\n",
    "fruits2.insert(3,'멜론')\n",
    "print(\"fruits2\", fruits2, \"fruits\", fruits)"
   ]
  },
  {
   "cell_type": "code",
   "execution_count": 10,
   "id": "f38fabd9",
   "metadata": {},
   "outputs": [
    {
     "data": {
      "text/plain": [
       "2"
      ]
     },
     "execution_count": 10,
     "metadata": {},
     "output_type": "execute_result"
    }
   ],
   "source": [
    "fruits.count('사과')"
   ]
  },
  {
   "cell_type": "code",
   "execution_count": 13,
   "id": "f4adb460",
   "metadata": {},
   "outputs": [
    {
     "data": {
      "text/plain": [
       "['사과', '오렌지', '바나나', '망고', '사과']"
      ]
     },
     "execution_count": 13,
     "metadata": {},
     "output_type": "execute_result"
    }
   ],
   "source": [
    "fruits.reverse()\n",
    "fruits"
   ]
  },
  {
   "cell_type": "code",
   "execution_count": 14,
   "id": "ccd4c7e9",
   "metadata": {},
   "outputs": [
    {
     "data": {
      "text/plain": [
       "['사과', '오렌지', '바나나', '망고']"
      ]
     },
     "execution_count": 14,
     "metadata": {},
     "output_type": "execute_result"
    }
   ],
   "source": [
    "fruits.pop()\n",
    "fruits"
   ]
  },
  {
   "cell_type": "code",
   "execution_count": 15,
   "id": "560db813",
   "metadata": {},
   "outputs": [],
   "source": [
    "scores = [67,45,90,100,44,66,78,80]"
   ]
  },
  {
   "cell_type": "code",
   "execution_count": 17,
   "id": "5f68ca48",
   "metadata": {},
   "outputs": [
    {
     "data": {
      "text/plain": [
       "[100, 90, 80, 78, 67, 66, 45, 44]"
      ]
     },
     "execution_count": 17,
     "metadata": {},
     "output_type": "execute_result"
    }
   ],
   "source": [
    "scores.sort() # 오른차순\n",
    "scores.reverse() # 오름차순 순서를 역순으로 변경 -> 내림차순\n",
    "scores"
   ]
  },
  {
   "cell_type": "code",
   "execution_count": 18,
   "id": "48d946f6",
   "metadata": {},
   "outputs": [
    {
     "name": "stdout",
     "output_type": "stream",
     "text": [
      "scores2 [44, 45, 66, 67, 78, 80, 90, 100]\n",
      "scores [100, 90, 80, 78, 67, 66, 45, 44]\n"
     ]
    }
   ],
   "source": [
    "scores2 = sorted(scores)\n",
    "print(\"scores2\", scores2)\n",
    "print(\"scores\", scores)"
   ]
  }
 ],
 "metadata": {
  "kernelspec": {
   "display_name": "basic",
   "language": "python",
   "name": "python3"
  },
  "language_info": {
   "codemirror_mode": {
    "name": "ipython",
    "version": 3
   },
   "file_extension": ".py",
   "mimetype": "text/x-python",
   "name": "python",
   "nbconvert_exporter": "python",
   "pygments_lexer": "ipython3",
   "version": "3.12.10"
  }
 },
 "nbformat": 4,
 "nbformat_minor": 5
}
