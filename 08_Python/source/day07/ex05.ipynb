{
 "cells": [
  {
   "cell_type": "code",
   "execution_count": 1,
   "id": "b2fbbd50",
   "metadata": {},
   "outputs": [],
   "source": [
    "import re"
   ]
  },
  {
   "cell_type": "code",
   "execution_count": 13,
   "id": "2ac85b22",
   "metadata": {},
   "outputs": [],
   "source": [
    "#p = re.compile(\"[abc]\") # a 또는 b 또는 c라는 문자가 포함되어 있는지\n",
    "#p =  re.compile(\"[a-z]\") # a ~ z\n",
    "#p = re.compile(\"\\\\d\") #[0-9]\n",
    "p = re.compile(\"[^0-9]\") # 숫자가 아닌 모든 문자"
   ]
  },
  {
   "cell_type": "code",
   "execution_count": 14,
   "id": "784aa2ce",
   "metadata": {},
   "outputs": [
    {
     "data": {
      "text/plain": [
       "<re.Match object; span=(0, 1), match='!'>"
      ]
     },
     "execution_count": 14,
     "metadata": {},
     "output_type": "execute_result"
    }
   ],
   "source": [
    "p.match(\"!01\")"
   ]
  },
  {
   "cell_type": "code",
   "execution_count": 16,
   "id": "f91330e0",
   "metadata": {},
   "outputs": [
    {
     "name": "stdout",
     "output_type": "stream",
     "text": [
      "a0b <re.Match object; span=(0, 3), match='a0b'>\n",
      "a1b <re.Match object; span=(0, 3), match='a1b'>\n",
      "a2b <re.Match object; span=(0, 3), match='a2b'>\n",
      "a!b <re.Match object; span=(0, 3), match='a!b'>\n"
     ]
    }
   ],
   "source": [
    "words = ['a0b','a1b','a2b','a!b']\n",
    "p = re.compile(\"a.b\")\n",
    "\n",
    "for word in words:\n",
    "    print(word, p.match(word))"
   ]
  },
  {
   "cell_type": "code",
   "execution_count": 18,
   "id": "4ac5199c",
   "metadata": {},
   "outputs": [
    {
     "name": "stdout",
     "output_type": "stream",
     "text": [
      "a000b <re.Match object; span=(0, 5), match='a000b'>\n",
      "a111b <re.Match object; span=(0, 5), match='a111b'>\n",
      "a222b <re.Match object; span=(0, 5), match='a222b'>\n",
      "a!b None\n"
     ]
    }
   ],
   "source": [
    "words = ['a000b','a111b','a222b','a!b']\n",
    "p = re.compile(\"a...b\")\n",
    "\n",
    "for word in words:\n",
    "    print(word, p.match(word))"
   ]
  },
  {
   "cell_type": "code",
   "execution_count": 22,
   "id": "bf437d58",
   "metadata": {},
   "outputs": [
    {
     "name": "stdout",
     "output_type": "stream",
     "text": [
      "a000b <re.Match object; span=(0, 5), match='a000b'>\n",
      "a111b <re.Match object; span=(0, 5), match='a111b'>\n",
      "a222b <re.Match object; span=(0, 5), match='a222b'>\n",
      "a!b <re.Match object; span=(0, 3), match='a!b'>\n"
     ]
    }
   ],
   "source": [
    "words = ['a000b','a111b','a222b','a!b']\n",
    "#p = re.compile(\"a.{3}b\")\n",
    "#p = re.compile(\"a.{1,}b\")\n",
    "#p = re.compile(\"a.{0,}b\")\n",
    "p = re.compile(\"a.+b\")\n",
    "for word in words:\n",
    "    print(word, p.match(word))"
   ]
  },
  {
   "cell_type": "code",
   "execution_count": 29,
   "id": "77ea04a1",
   "metadata": {},
   "outputs": [],
   "source": [
    "#p = re.compile(\"python\")\n",
    "p = re.compile(\".*python.*\") # python 포함된 패턴"
   ]
  },
  {
   "cell_type": "code",
   "execution_count": 30,
   "id": "356b1684",
   "metadata": {},
   "outputs": [
    {
     "data": {
      "text/plain": [
       "<re.Match object; span=(0, 6), match='python'>"
      ]
     },
     "execution_count": 30,
     "metadata": {},
     "output_type": "execute_result"
    }
   ],
   "source": [
    "str = \"python\"\n",
    "p.match(str)"
   ]
  },
  {
   "cell_type": "code",
   "execution_count": 31,
   "id": "f897141c",
   "metadata": {},
   "outputs": [
    {
     "data": {
      "text/plain": [
       "<re.Match object; span=(0, 13), match='I love python'>"
      ]
     },
     "execution_count": 31,
     "metadata": {},
     "output_type": "execute_result"
    }
   ],
   "source": [
    "str = \"I love python\"\n",
    "p.match(str)"
   ]
  },
  {
   "cell_type": "code",
   "execution_count": 32,
   "id": "de975fbf",
   "metadata": {},
   "outputs": [
    {
     "data": {
      "text/plain": [
       "<re.Match object; span=(7, 13), match='python'>"
      ]
     },
     "execution_count": 32,
     "metadata": {},
     "output_type": "execute_result"
    }
   ],
   "source": [
    "p = re.compile(\"python\")\n",
    "p.search(str)"
   ]
  },
  {
   "cell_type": "markdown",
   "id": "cfdbd442",
   "metadata": {},
   "source": [
    "## 휴대폰 번호 패턴\n",
    "- 010-1000-1000\n",
    "- 01010001000\n",
    "- 010.1000.1000"
   ]
  },
  {
   "cell_type": "code",
   "execution_count": 34,
   "id": "85aea187",
   "metadata": {},
   "outputs": [],
   "source": [
    "p = re.compile(\"010.?\\\\d{4}.?\\\\d{4}\")\n"
   ]
  },
  {
   "cell_type": "code",
   "execution_count": 35,
   "id": "3d8e52f8",
   "metadata": {},
   "outputs": [
    {
     "data": {
      "text/plain": [
       "<re.Match object; span=(0, 13), match='010-1234-1234'>"
      ]
     },
     "execution_count": 35,
     "metadata": {},
     "output_type": "execute_result"
    }
   ],
   "source": [
    "p.search(\"010-1234-1234\")"
   ]
  },
  {
   "cell_type": "code",
   "execution_count": 37,
   "id": "6e2a829c",
   "metadata": {},
   "outputs": [
    {
     "data": {
      "text/plain": [
       "<re.Match object; span=(4, 17), match='010-1234-1234'>"
      ]
     },
     "execution_count": 37,
     "metadata": {},
     "output_type": "execute_result"
    }
   ],
   "source": [
    "p.search(\"1234010-1234-12341234\")"
   ]
  },
  {
   "cell_type": "markdown",
   "id": "967ab261",
   "metadata": {},
   "source": [
    "### ^, $\n",
    "- ^패턴 : 패턴으로 시작하는 패턴\n",
    "- 패턴$ : 패턴으로 끝나는 \n",
    "\n",
    "p = re.compile(\"^010.?\\\\d{4}.?\\\\d{4}$\") # 010으로 시작하는 패턴\n",
    "p.search(\"010-1234-1234\")"
   ]
  },
  {
   "cell_type": "code",
   "execution_count": null,
   "id": "7f96107a",
   "metadata": {},
   "outputs": [],
   "source": [
    "p = re.compile(\"^010.?\\\\d{4}.?\\\\d{4}$\") # 010으로 시작하는 패턴\n",
    "p = re.compile(\"^010\\\\D?\\\\d{4}\\\\D?\\\\d{4}$\")"
   ]
  },
  {
   "cell_type": "code",
   "execution_count": 42,
   "id": "37299ff7",
   "metadata": {},
   "outputs": [],
   "source": [
    "p.search(\"010-1234-12341234\")"
   ]
  },
  {
   "cell_type": "code",
   "execution_count": null,
   "id": "aa50d8d2",
   "metadata": {},
   "outputs": [],
   "source": [
    "print(\"m.group():\" , m.group(), \"m.start():\", m.start(), \"m.end()\", m.end(), \"m.span():\", m.span())"
   ]
  }
 ],
 "metadata": {
  "kernelspec": {
   "display_name": "basic",
   "language": "python",
   "name": "python3"
  },
  "language_info": {
   "codemirror_mode": {
    "name": "ipython",
    "version": 3
   },
   "file_extension": ".py",
   "mimetype": "text/x-python",
   "name": "python",
   "nbconvert_exporter": "python",
   "pygments_lexer": "ipython3",
   "version": "3.12.10"
  }
 },
 "nbformat": 4,
 "nbformat_minor": 5
}
