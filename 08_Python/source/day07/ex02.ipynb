{
 "cells": [
  {
   "cell_type": "code",
   "execution_count": 2,
   "id": "5a2d8c98",
   "metadata": {},
   "outputs": [],
   "source": [
    "#import faker # faker.Faker\n",
    "from faker import Faker"
   ]
  },
  {
   "cell_type": "code",
   "execution_count": 3,
   "id": "365039fb",
   "metadata": {},
   "outputs": [],
   "source": [
    "faker = Faker(\"ko-KR\")"
   ]
  },
  {
   "cell_type": "code",
   "execution_count": 4,
   "id": "f38c03a7",
   "metadata": {},
   "outputs": [
    {
     "data": {
      "text/plain": [
       "'박지민'"
      ]
     },
     "execution_count": 4,
     "metadata": {},
     "output_type": "execute_result"
    }
   ],
   "source": [
    "faker.name()"
   ]
  },
  {
   "cell_type": "code",
   "execution_count": 5,
   "id": "307e0982",
   "metadata": {},
   "outputs": [],
   "source": [
    "members = [(faker.name(), faker.address()) for _ in range(30)]"
   ]
  },
  {
   "cell_type": "code",
   "execution_count": 6,
   "id": "bea6f8d4",
   "metadata": {},
   "outputs": [
    {
     "data": {
      "text/plain": [
       "[('배명자', '대전광역시 강남구 역삼길 242'),\n",
       " ('전순자', '전라남도 영월군 양재천34길 458-80 (현주김김면)'),\n",
       " ('박경자', '대전광역시 영등포구 반포대1길 269'),\n",
       " ('김민준', '경상남도 진천군 반포대로 840-98'),\n",
       " ('한경자', '제주특별자치도 보은군 학동405거리 686'),\n",
       " ('양춘자', '강원도 화천군 서초중앙43로 지하79 (동현김양읍)'),\n",
       " ('이정숙', '광주광역시 성북구 석촌호수가 33-23 (성수김동)'),\n",
       " ('안영환', '대구광역시 노원구 도산대40거리 639 (명자백리)'),\n",
       " ('박수민', '전라북도 성남시 중원구 개포4거리 683-58 (민재김리)'),\n",
       " ('곽지은', '강원도 광주시 언주가 896-88 (진우유리)'),\n",
       " ('장서윤', '부산광역시 동작구 언주03가 514 (지아이오면)'),\n",
       " ('이영철', '서울특별시 강동구 반포대거리 766-90 (도윤황이읍)'),\n",
       " ('배지원', '대전광역시 성북구 양재천201로 96 (아름이김읍)'),\n",
       " ('윤지영', '서울특별시 용산구 영동대가 548-1'),\n",
       " ('배성호', '부산광역시 송파구 영동대길 583'),\n",
       " ('지지우', '전라남도 의왕시 역삼88길 286-70 (정웅권김면)'),\n",
       " ('김수민', '인천광역시 동구 도산대거리 69'),\n",
       " ('최지영', '인천광역시 종로구 삼성로 174 (경자송고리)'),\n",
       " ('김수민', '제주특별자치도 보은군 서초대489길 967 (현우김면)'),\n",
       " ('박지현', '전라남도 구리시 석촌호수75길 358'),\n",
       " ('김정숙', '전라남도 수원시 장안구 봉은사098가 지하457'),\n",
       " ('최수빈', '경상남도 고성군 언주80가 48-51'),\n",
       " ('안은지', '제주특별자치도 음성군 가락47길 967-32'),\n",
       " ('이영미', '충청남도 부천시 원미구 압구정232길 812-67 (영숙한강동)'),\n",
       " ('엄성진', '충청북도 공주시 잠실로 860-52'),\n",
       " ('장민준', '경기도 충주시 삼성89가 946 (영일김마을)'),\n",
       " ('김순옥', '광주광역시 성북구 석촌호수로 625'),\n",
       " ('이승민', '경기도 수원시 장안구 서초중앙로 504'),\n",
       " ('차미영', '세종특별자치시 양천구 선릉03로 502-49 (성현장리)'),\n",
       " ('이성훈', '충청남도 수원시 영동대가 415 (예진김이읍)')]"
      ]
     },
     "execution_count": 6,
     "metadata": {},
     "output_type": "execute_result"
    }
   ],
   "source": [
    "members"
   ]
  },
  {
   "cell_type": "code",
   "execution_count": 7,
   "id": "0c08a85c",
   "metadata": {},
   "outputs": [
    {
     "name": "stdout",
     "output_type": "stream",
     "text": [
      "asttokens==3.0.0\n",
      "colorama==0.4.6\n",
      "comm==0.2.2\n",
      "debugpy==1.8.14\n",
      "decorator==5.2.1\n",
      "executing==2.2.0\n",
      "Faker==37.3.0\n",
      "ipykernel==6.29.5\n",
      "ipython==9.2.0\n",
      "ipython_pygments_lexers==1.1.1\n",
      "jedi==0.19.2\n",
      "jupyter_client==8.6.3\n",
      "jupyter_core==5.7.2\n",
      "matplotlib-inline==0.1.7\n",
      "nest-asyncio==1.6.0\n",
      "packaging==25.0\n",
      "parso==0.8.4\n",
      "platformdirs==4.3.8\n",
      "prompt_toolkit==3.0.51\n",
      "psutil==7.0.0\n",
      "pure_eval==0.2.3\n",
      "Pygments==2.19.1\n",
      "python-dateutil==2.9.0.post0\n",
      "pywin32==310\n",
      "pyzmq==26.4.0\n",
      "six==1.17.0\n",
      "stack-data==0.6.3\n",
      "tornado==6.5.1\n",
      "traitlets==5.14.3\n",
      "tzdata==2025.2\n",
      "wcwidth==0.2.13\n",
      "Note: you may need to restart the kernel to use updated packages.\n"
     ]
    }
   ],
   "source": [
    "pip freeze"
   ]
  },
  {
   "cell_type": "code",
   "execution_count": 11,
   "id": "e34fa446",
   "metadata": {},
   "outputs": [
    {
     "data": {
      "text/plain": [
       "b'\\xc0\\xcc\\xc0\\xcc\\xb8\\xa7'"
      ]
     },
     "execution_count": 11,
     "metadata": {},
     "output_type": "execute_result"
    }
   ],
   "source": [
    "str = \"이이름\".encode(\"euc-kr\")\n",
    "str"
   ]
  },
  {
   "cell_type": "code",
   "execution_count": 10,
   "id": "efe842a4",
   "metadata": {},
   "outputs": [
    {
     "data": {
      "text/plain": [
       "'이이름'"
      ]
     },
     "execution_count": 10,
     "metadata": {},
     "output_type": "execute_result"
    }
   ],
   "source": [
    "str2 = str.decode(\"euc-kr\")\n",
    "str2"
   ]
  },
  {
   "cell_type": "code",
   "execution_count": null,
   "id": "ba3d622a",
   "metadata": {},
   "outputs": [],
   "source": []
  }
 ],
 "metadata": {
  "kernelspec": {
   "display_name": "basic",
   "language": "python",
   "name": "python3"
  },
  "language_info": {
   "codemirror_mode": {
    "name": "ipython",
    "version": 3
   },
   "file_extension": ".py",
   "mimetype": "text/x-python",
   "name": "python",
   "nbconvert_exporter": "python",
   "pygments_lexer": "ipython3",
   "version": "3.12.10"
  }
 },
 "nbformat": 4,
 "nbformat_minor": 5
}
