{
 "cells": [
  {
   "cell_type": "code",
   "execution_count": 33,
   "id": "463f34e3",
   "metadata": {},
   "outputs": [],
   "source": [
    "import requests"
   ]
  },
  {
   "cell_type": "code",
   "execution_count": 34,
   "id": "388bfd6d",
   "metadata": {},
   "outputs": [],
   "source": [
    "response = requests.get(\"https://news.naver.com/section/105\")"
   ]
  },
  {
   "cell_type": "code",
   "execution_count": 35,
   "id": "4e54f65e",
   "metadata": {},
   "outputs": [
    {
     "data": {
      "text/plain": [
       "'\\n\\t<div class=\"sa_head\">\\n\\t\\t<span class=\"sa_head_inner\">\\n\\t\\t\\t<a href=\"#\" class=\"sa_head_link _TOGGLE\" data-classValue=\"is_hidden\" data-target=\"_SECTION_HEADLINE_INFO_6nun3\" data-clk=\"guide\">헤드라인 뉴스 <i class=\"sa_head_icon\">안내</i></a>\\n\\t\\t</span>\\n\\t\\t<div id=\"_SECTION_HEADLINE_INFO_6nun3\" class=\"sa_head_layer is_hidden\">\\n\\t\\t\\t<p class=\"sa_head_layer_p\">각 헤드라인의 기사와 배열 순서는 개인화를 반영해 추천되며, 기사묶음의 대표 기사는 구독 언론사 중심으로 제공됩니다. 기사 수량이 표기된 기사 우측 하단의 파란색 아이콘을 클릭하면 기사묶음을 확인할 수 있고 기사묶음과 기사묶음 타이틀도 기사 내용을 기반으로 자동 추출됩니다.</p>\\n\\t\\t\\t<a href=\"https://media.naver.com/algorithm\" class=\"sa_head_layer_go\">알고리즘 자세히 보기</a>\\n\\t\\t\\t<div class=\"sa_head_layer_close\">\\n\\t\\t\\t\\t<button type=\"button\" class=\"_TOGGLE\" data-classValue=\"is_hidden\" data-target=\"_SECTION_HEADLINE_INFO_6nun3\">닫기</button>\\n\\t\\t\\t</div>\\n\\t\\t</div>\\n\\t</div>\\n\\t<ul id=\"_SECTION_HEADLINE_LIST_6nun3\" class=\"sa_list\">\\n\\t\\t<li class=\"sa_item _SECTION_HEADLINE\">\\n\\t\\t\\t<div class=\"sa_item_inner\">\\n\\t\\t\\t\\t<div class=\"sa_item_flex _LAZY_LOADING_WRAP\">\\n\\t\\t\\t\\t\\t<div class=\"sa_thumb _LAZY_LOADING_ERROR_HIDE\">\\n\\t\\t\\t\\t\\t\\t<div class=\"sa_thumb_inner\">\\n\\t\\t\\t\\t\\t\\t\\t<a href=\"https://n.news.naver.com/mnews/article/014/0005359056\" class=\"sa_thumb_link _NLOG_IMPRESSION\" data-clk=\"itn.clart\" data-imp-gdid=\"880000FF_000000000000000005359056\" data-imp-url=\"https://n.news.naver.com/mnews/article/014/0005359056\" data-imp-index=\"1\">\\n\\t\\t\\t\\t\\t\\t\\t\\t<img data-src=\"https://mimgnews.pstatic.net/image/origin/014/2025/06/04/5359056.jpg?type&#x3D;nf220_150\" class=\"_LAZY_LOADING _LAZY_LOADING_INIT_HIDE\" width=\"110\" height=\"75\" alt=\"롯데쇼핑·넥슨, 스노우플레이크 ‘데이터 드라이버 어워드’ 아태 지역 대표 수상\" style=\"display: none;\">\\n\\t\\t\\t\\t\\t\\t\\t</a>\\n\\t\\t\\t\\t\\t\\t</div>\\n\\t\\t\\t\\t\\t</div>\\n\\t\\t\\t\\t\\t<div class=\"sa_text\">\\n\\t\\t\\t\\t\\t\\t<a href=\"https://n.news.naver.com/mnews/article/014/0005359056\" class=\"sa_text_title _NLOG_IMPRESSION\" data-clk=\"itn.clart\" data-imp-gdid=\"880000FF_000000000000000005359056\" data-imp-url=\"https://n.news.naver.com/mnews/article/014/0005359056\" data-imp-index=\"1\">\\n\\t\\t\\t\\t\\t\\t\\t<strong class=\"sa_text_strong\">롯데쇼핑·넥슨, 스노우플레이크 ‘데이터 드라이버 어워드’ 아태 지역 대표 수상</strong>\\n\\t\\t\\t\\t\\t\\t</a>\\n\\t\\t\\t\\t\\t\\t<div class=\"sa_text_lede\">스노우플레이크가 자사 데이터 클라우드 플랫폼을 성공적으로 운영한 기업과 데이터 엔지니어를 시상하는 ‘데이터 드라이버 어워드’에서 아시아태평양 지역 대표로 롯데쇼핑과 넥슨 이재면 팀장을 선정했다고 4일 밝혔다. 데이터</div>\\n\\t\\t\\t\\t\\t\\t<div class=\"sa_text_info\">\\n\\t\\t\\t\\t\\t\\t\\t<div class=\"sa_text_info_left\">\\n\\t\\t\\t\\t\\t\\t\\t\\t<div class=\"sa_text_press\">파이낸셜뉴스</div>\\n\\t\\t\\t\\t\\t\\t\\t\\t<a href=\"https://n.news.naver.com/mnews/article/comment/014/0005359056\" class=\"sa_text_cmt _COMMENT_COUNT_LIST\" style=\"display: none;\" data-ticket=\"news\" data-object-id=\"news014,0005359056\" data-zero-allow=\"false\"></a>\\n\\t\\t\\t\\t\\t\\t\\t</div>\\n\\t\\t\\t\\t\\t\\t\\t<div class=\"sa_text_info_right\">\\n\\t\\t\\t\\t\\t\\t\\t\\t<a href=\"/cluster/c_202506031420_00001532/section/105?oid&#x3D;014&amp;aid&#x3D;0005359056\" class=\"sa_text_cluster\" data-clk=\"clcou\">\\n\\t\\t\\t\\t\\t\\t\\t\\t\\t<span class=\"sa_text_cluster_num\">17</span>\\n\\t\\t\\t\\t\\t\\t\\t\\t\\t<span class=\"blind\">개의 관련뉴스 더보기</span>\\n\\t\\t\\t\\t\\t\\t\\t\\t</a>\\n\\t\\t\\t\\t\\t\\t\\t</div>\\n\\t\\t\\t\\t\\t\\t</div>\\n\\t\\t\\t\\t\\t</div>\\n\\t\\t\\t\\t</div>\\n\\t\\t\\t</div>\\n\\t\\t</li>\\n\\t\\t<li class=\"sa_item _SECTION_HEADLINE\">\\n\\t\\t\\t<div class=\"sa_item_inner\">\\n\\t\\t\\t\\t<div class=\"sa_item_flex _LAZY_LOADING_WRAP\">\\n\\t\\t\\t\\t\\t<div class=\"sa_thumb _LAZY_LOADING_ERROR_HIDE\">\\n\\t\\t\\t\\t\\t\\t<div class=\"sa_thumb_inner\">\\n\\t\\t\\t\\t\\t\\t\\t<a href=\"https://n.news.naver.com/mnews/article/030/0003318658\" class=\"sa_thumb_link _NLOG_IMPRESSION\" data-clk=\"itn.clart\" data-imp-gdid=\"880000EA_000000000000000003318658\" data-imp-url=\"https://n.news.naver.com/mnews/article/030/0003318658\" data-imp-index=\"2\">\\n\\t\\t\\t\\t\\t\\t\\t\\t<img data-src=\"https://mimgnews.pstatic.net/image/origin/030/2025/06/04/3318658.jpg?type&#x3D;nf220_150\" class=\"_LAZY_LOADING _LAZY_LOADING_INIT_HIDE\" width=\"110\" height=\"75\" alt=\"&#x27;e-CCU 산업화 선도&#x27; 오형석 KIST 청정에너지연구센터장, 6월 과학기술인상 선정\" style=\"display: none;\">\\n\\t\\t\\t\\t\\t\\t\\t</a>\\n\\t\\t\\t\\t\\t\\t</div>\\n\\t\\t\\t\\t\\t</div>\\n\\t\\t\\t\\t\\t<div class=\"sa_text\">\\n\\t\\t\\t\\t\\t\\t<a href=\"https://n.news.naver.com/mnews/article/030/0003318658\" class=\"sa_text_title _NLOG_IMPRESSION\" data-clk=\"itn.clart\" data-imp-gdid=\"880000EA_000000000000000003318658\" data-imp-url=\"https://n.news.naver.com/mnews/article/030/0003318658\" data-imp-index=\"2\">\\n\\t\\t\\t\\t\\t\\t\\t<strong class=\"sa_text_strong\">&#x27;e-CCU 산업화 선도&#x27; 오형석 KIST 청정에너지연구센터장, 6월 과학기술인상 선정</strong>\\n\\t\\t\\t\\t\\t\\t</a>\\n\\t\\t\\t\\t\\t\\t<div class=\"sa_text_lede\">과학기술정보통신부와 한국연구재단은 이달의 과학기술인상 6월 수상자로 오형석 한국과학기술연구원(KIST) 청정에너지연구센터장을 선정했다고 4일 밝혔다. 오 센터장은 이산화탄소를 에틸렌, 에탄올, 합성가스 등 고부가가치</div>\\n\\t\\t\\t\\t\\t\\t<div class=\"sa_text_info\">\\n\\t\\t\\t\\t\\t\\t\\t<div class=\"sa_text_info_left\">\\n\\t\\t\\t\\t\\t\\t\\t\\t<div class=\"sa_text_press\">전자신문</div>\\n\\t\\t\\t\\t\\t\\t\\t\\t<a href=\"https://n.news.naver.com/mnews/article/comment/030/0003318658\" class=\"sa_text_cmt _COMMENT_COUNT_LIST\" style=\"display: none;\" data-ticket=\"news\" data-object-id=\"news030,0003318658\" data-zero-allow=\"false\"></a>\\n\\t\\t\\t\\t\\t\\t\\t</div>\\n\\t\\t\\t\\t\\t\\t\\t<div class=\"sa_text_info_right\">\\n\\t\\t\\t\\t\\t\\t\\t\\t<a href=\"/cluster/c_202506041210_00000009/section/105?oid&#x3D;030&amp;aid&#x3D;0003318658\" class=\"sa_text_cluster\" data-clk=\"clcou\">\\n\\t\\t\\t\\t\\t\\t\\t\\t\\t<span class=\"sa_text_cluster_num\">11</span>\\n\\t\\t\\t\\t\\t\\t\\t\\t\\t<span class=\"blind\">개의 관련뉴스 더보기</span>\\n\\t\\t\\t\\t\\t\\t\\t\\t</a>\\n\\t\\t\\t\\t\\t\\t\\t</div>\\n\\t\\t\\t\\t\\t\\t</div>\\n\\t\\t\\t\\t\\t</div>\\n\\t\\t\\t\\t</div>\\n\\t\\t\\t</div>\\n\\t\\t</li>\\n\\t\\t<li class=\"sa_item _SECTION_HEADLINE\">\\n\\t\\t\\t<div class=\"sa_item_inner\">\\n\\t\\t\\t\\t<div class=\"sa_item_flex _LAZY_LOADING_WRAP\">\\n\\t\\t\\t\\t\\t<div class=\"sa_thumb _LAZY_LOADING_ERROR_HIDE\">\\n\\t\\t\\t\\t\\t\\t<div class=\"sa_thumb_inner\">\\n\\t\\t\\t\\t\\t\\t\\t<a href=\"https://n.news.naver.com/mnews/article/014/0005358769\" class=\"sa_thumb_link _NLOG_IMPRESSION\" data-clk=\"itn.clart\" data-imp-gdid=\"880000FF_000000000000000005358769\" data-imp-url=\"https://n.news.naver.com/mnews/article/014/0005358769\" data-imp-index=\"3\">\\n\\t\\t\\t\\t\\t\\t\\t\\t<img data-src=\"https://mimgnews.pstatic.net/image/origin/014/2025/06/04/5358769.jpg?type&#x3D;nf220_150\" class=\"_LAZY_LOADING _LAZY_LOADING_INIT_HIDE\" width=\"110\" height=\"75\" alt=\"&#x27;사람 뇌처럼 작동, 정확도 87% 높였다&#x27; 로봇 비전 센서 개발\" style=\"display: none;\">\\n\\t\\t\\t\\t\\t\\t\\t</a>\\n\\t\\t\\t\\t\\t\\t</div>\\n\\t\\t\\t\\t\\t</div>\\n\\t\\t\\t\\t\\t<div class=\"sa_text\">\\n\\t\\t\\t\\t\\t\\t<a href=\"https://n.news.naver.com/mnews/article/014/0005358769\" class=\"sa_text_title _NLOG_IMPRESSION\" data-clk=\"itn.clart\" data-imp-gdid=\"880000FF_000000000000000005358769\" data-imp-url=\"https://n.news.naver.com/mnews/article/014/0005358769\" data-imp-index=\"3\">\\n\\t\\t\\t\\t\\t\\t\\t<strong class=\"sa_text_strong\">&#x27;사람 뇌처럼 작동, 정확도 87% 높였다&#x27; 로봇 비전 센서 개발</strong>\\n\\t\\t\\t\\t\\t\\t</a>\\n\\t\\t\\t\\t\\t\\t<div class=\"sa_text_lede\">사람 뇌에서 일어나는 신경 전달 원리를 닮아 밝기가 들쭉날쭉한 상황에서도 효율적이고 정확하게 사물의 윤곽 정보를 추출하는 비전 센서가 개발됐다. 자율주행, 드론, 로봇 기술에서 주변 환경을 더 빠르고 정확하게 인식하</div>\\n\\t\\t\\t\\t\\t\\t<div class=\"sa_text_info\">\\n\\t\\t\\t\\t\\t\\t\\t<div class=\"sa_text_info_left\">\\n\\t\\t\\t\\t\\t\\t\\t\\t<div class=\"sa_text_press\">파이낸셜뉴스</div>\\n\\t\\t\\t\\t\\t\\t\\t\\t<a href=\"https://n.news.naver.com/mnews/article/comment/014/0005358769\" class=\"sa_text_cmt _COMMENT_COUNT_LIST\" style=\"display: none;\" data-ticket=\"news\" data-object-id=\"news014,0005358769\" data-zero-allow=\"false\"></a>\\n\\t\\t\\t\\t\\t\\t\\t</div>\\n\\t\\t\\t\\t\\t\\t\\t<div class=\"sa_text_info_right\">\\n\\t\\t\\t\\t\\t\\t\\t\\t<a href=\"/cluster/c_202506040810_00000003/section/105?oid&#x3D;014&amp;aid&#x3D;0005358769\" class=\"sa_text_cluster\" data-clk=\"clcou\">\\n\\t\\t\\t\\t\\t\\t\\t\\t\\t<span class=\"sa_text_cluster_num\">16</span>\\n\\t\\t\\t\\t\\t\\t\\t\\t\\t<span class=\"blind\">개의 관련뉴스 더보기</span>\\n\\t\\t\\t\\t\\t\\t\\t\\t</a>\\n\\t\\t\\t\\t\\t\\t\\t</div>\\n\\t\\t\\t\\t\\t\\t</div>\\n\\t\\t\\t\\t\\t</div>\\n\\t\\t\\t\\t</div>\\n\\t\\t\\t</div>\\n\\t\\t</li>\\n\\t\\t<li class=\"sa_item _SECTION_HEADLINE\">\\n\\t\\t\\t<div class=\"sa_item_inner\">\\n\\t\\t\\t\\t<div class=\"sa_item_flex _LAZY_LOADING_WRAP\">\\n\\t\\t\\t\\t\\t<div class=\"sa_thumb _LAZY_LOADING_ERROR_HIDE\">\\n\\t\\t\\t\\t\\t\\t<div class=\"sa_thumb_inner\">\\n\\t\\t\\t\\t\\t\\t\\t<a href=\"https://n.news.naver.com/mnews/article/014/0005358613\" class=\"sa_thumb_link _NLOG_IMPRESSION\" data-clk=\"itn.clart\" data-imp-gdid=\"880000FF_000000000000000005358613\" data-imp-url=\"https://n.news.naver.com/mnews/article/014/0005358613\" data-imp-index=\"4\">\\n\\t\\t\\t\\t\\t\\t\\t\\t<img data-src=\"https://mimgnews.pstatic.net/image/origin/014/2025/06/03/5358613.jpg?type&#x3D;nf220_150\" class=\"_LAZY_LOADING _LAZY_LOADING_INIT_HIDE\" width=\"110\" height=\"75\" alt=\"LG전자 ‘책임 AI’ 앞세워 글로벌 AI 규제 대응 강화…ETRI AI안전硏 업무협약\" style=\"display: none;\">\\n\\t\\t\\t\\t\\t\\t\\t</a>\\n\\t\\t\\t\\t\\t\\t</div>\\n\\t\\t\\t\\t\\t</div>\\n\\t\\t\\t\\t\\t<div class=\"sa_text\">\\n\\t\\t\\t\\t\\t\\t<a href=\"https://n.news.naver.com/mnews/article/014/0005358613\" class=\"sa_text_title _NLOG_IMPRESSION\" data-clk=\"itn.clart\" data-imp-gdid=\"880000FF_000000000000000005358613\" data-imp-url=\"https://n.news.naver.com/mnews/article/014/0005358613\" data-imp-index=\"4\">\\n\\t\\t\\t\\t\\t\\t\\t<strong class=\"sa_text_strong\">LG전자 ‘책임 AI’ 앞세워 글로벌 AI 규제 대응 강화…ETRI AI안전硏 업무협약</strong>\\n\\t\\t\\t\\t\\t\\t</a>\\n\\t\\t\\t\\t\\t\\t<div class=\"sa_text_lede\">LG전자가 &#x27;책임 있는 AI(Responsible AI)&#x27;를 앞세워 더 안전하고 윤리적인 AI 기술의 개발 및 활용에 앞장선다. LG전자는 지난 2일 한국전자통신연구원(ETRI) AI안전연구소와 &#x27;글로벌 AI 규제 </div>\\n\\t\\t\\t\\t\\t\\t<div class=\"sa_text_info\">\\n\\t\\t\\t\\t\\t\\t\\t<div class=\"sa_text_info_left\">\\n\\t\\t\\t\\t\\t\\t\\t\\t<div class=\"sa_text_press\">파이낸셜뉴스</div>\\n\\t\\t\\t\\t\\t\\t\\t\\t<a href=\"https://n.news.naver.com/mnews/article/comment/014/0005358613\" class=\"sa_text_cmt _COMMENT_COUNT_LIST\" style=\"display: none;\" data-ticket=\"news\" data-object-id=\"news014,0005358613\" data-zero-allow=\"false\"></a>\\n\\t\\t\\t\\t\\t\\t\\t</div>\\n\\t\\t\\t\\t\\t\\t\\t<div class=\"sa_text_info_right\">\\n\\t\\t\\t\\t\\t\\t\\t\\t<a href=\"/cluster/c_202505311010_00000123/section/105?oid&#x3D;014&amp;aid&#x3D;0005358613\" class=\"sa_text_cluster\" data-clk=\"clcou\">\\n\\t\\t\\t\\t\\t\\t\\t\\t\\t<span class=\"sa_text_cluster_num\">12</span>\\n\\t\\t\\t\\t\\t\\t\\t\\t\\t<span class=\"blind\">개의 관련뉴스 더보기</span>\\n\\t\\t\\t\\t\\t\\t\\t\\t</a>\\n\\t\\t\\t\\t\\t\\t\\t</div>\\n\\t\\t\\t\\t\\t\\t</div>\\n\\t\\t\\t\\t\\t</div>\\n\\t\\t\\t\\t</div>\\n\\t\\t\\t</div>\\n\\t\\t</li>\\n\\t\\t<li class=\"sa_item _SECTION_HEADLINE\">\\n\\t\\t\\t<div class=\"sa_item_inner\">\\n\\t\\t\\t\\t<div class=\"sa_item_flex _LAZY_LOADING_WRAP\">\\n\\t\\t\\t\\t\\t<div class=\"sa_thumb _LAZY_LOADING_ERROR_HIDE\">\\n\\t\\t\\t\\t\\t\\t<div class=\"sa_thumb_inner\">\\n\\t\\t\\t\\t\\t\\t\\t<a href=\"https://n.news.naver.com/mnews/article/009/0005503280\" class=\"sa_thumb_link _NLOG_IMPRESSION\" data-clk=\"itn.clart\" data-imp-gdid=\"880000BC_000000000000000005503280\" data-imp-url=\"https://n.news.naver.com/mnews/article/009/0005503280\" data-imp-index=\"5\">\\n\\t\\t\\t\\t\\t\\t\\t\\t<img data-src=\"https://mimgnews.pstatic.net/image/origin/009/2025/06/04/5503280.jpg?type&#x3D;nf220_150\" class=\"_LAZY_LOADING _LAZY_LOADING_INIT_HIDE\" width=\"110\" height=\"75\" alt=\"넷마블문화재단, ‘2025 전국 장애학생 e페스티벌’ 예선 돌입\" style=\"display: none;\">\\n\\t\\t\\t\\t\\t\\t\\t</a>\\n\\t\\t\\t\\t\\t\\t</div>\\n\\t\\t\\t\\t\\t</div>\\n\\t\\t\\t\\t\\t<div class=\"sa_text\">\\n\\t\\t\\t\\t\\t\\t<a href=\"https://n.news.naver.com/mnews/article/009/0005503280\" class=\"sa_text_title _NLOG_IMPRESSION\" data-clk=\"itn.clart\" data-imp-gdid=\"880000BC_000000000000000005503280\" data-imp-url=\"https://n.news.naver.com/mnews/article/009/0005503280\" data-imp-index=\"5\">\\n\\t\\t\\t\\t\\t\\t\\t<strong class=\"sa_text_strong\">넷마블문화재단, ‘2025 전국 장애학생 e페스티벌’ 예선 돌입</strong>\\n\\t\\t\\t\\t\\t\\t</a>\\n\\t\\t\\t\\t\\t\\t<div class=\"sa_text_lede\">넷마블문화재단(이사장 방준혁)은 국립특수교육원(원장 김선미), 한국콘텐츠진흥원(원장 유현석 직무대행)과 함께 주최하고 교육부, 문화체육관광부가 후원하는 ‘2025 전국 장애학생 e페스티벌’ 예선을 4일부터 시작했다고</div>\\n\\t\\t\\t\\t\\t\\t<div class=\"sa_text_info\">\\n\\t\\t\\t\\t\\t\\t\\t<div class=\"sa_text_info_left\">\\n\\t\\t\\t\\t\\t\\t\\t\\t<div class=\"sa_text_press\">매일경제</div>\\n\\t\\t\\t\\t\\t\\t\\t\\t<a href=\"https://n.news.naver.com/mnews/article/comment/009/0005503280\" class=\"sa_text_cmt _COMMENT_COUNT_LIST\" style=\"display: none;\" data-ticket=\"news\" data-object-id=\"news009,0005503280\" data-zero-allow=\"false\"></a>\\n\\t\\t\\t\\t\\t\\t\\t</div>\\n\\t\\t\\t\\t\\t\\t\\t<div class=\"sa_text_info_right\">\\n\\t\\t\\t\\t\\t\\t\\t\\t<a href=\"/cluster/c_202506040950_00000015/section/105?oid&#x3D;009&amp;aid&#x3D;0005503280\" class=\"sa_text_cluster\" data-clk=\"clcou\">\\n\\t\\t\\t\\t\\t\\t\\t\\t\\t<span class=\"sa_text_cluster_num\">13</span>\\n\\t\\t\\t\\t\\t\\t\\t\\t\\t<span class=\"blind\">개의 관련뉴스 더보기</span>\\n\\t\\t\\t\\t\\t\\t\\t\\t</a>\\n\\t\\t\\t\\t\\t\\t\\t</div>\\n\\t\\t\\t\\t\\t\\t</div>\\n\\t\\t\\t\\t\\t</div>\\n\\t\\t\\t\\t</div>\\n\\t\\t\\t</div>\\n\\t\\t</li>\\n\\t\\t<li class=\"sa_item _SECTION_HEADLINE is_blind\">\\n\\t\\t\\t<div class=\"sa_item_inner\">\\n\\t\\t\\t\\t<div class=\"sa_item_flex _LAZY_LOADING_WRAP\">\\n\\t\\t\\t\\t\\t<div class=\"sa_thumb _LAZY_LOADING_ERROR_HIDE\">\\n\\t\\t\\t\\t\\t\\t<div class=\"sa_thumb_inner\">\\n\\t\\t\\t\\t\\t\\t\\t<a href=\"https://n.news.naver.com/mnews/article/005/0001780972\" class=\"sa_thumb_link _NLOG_IMPRESSION\" data-clk=\"itn.clart\" data-imp-gdid=\"8800006F_000000000000000001780972\" data-imp-url=\"https://n.news.naver.com/mnews/article/005/0001780972\" data-imp-index=\"6\">\\n\\t\\t\\t\\t\\t\\t\\t\\t<img data-src=\"https://mimgnews.pstatic.net/image/origin/005/2025/06/04/1780972.jpg?type&#x3D;nf220_150\" class=\"_LAZY_LOADING _LAZY_LOADING_INIT_HIDE\" width=\"110\" height=\"75\" alt=\"에픽게임즈, ‘언리얼 엔진5.6’ 출시\" style=\"display: none;\">\\n\\t\\t\\t\\t\\t\\t\\t</a>\\n\\t\\t\\t\\t\\t\\t</div>\\n\\t\\t\\t\\t\\t</div>\\n\\t\\t\\t\\t\\t<div class=\"sa_text\">\\n\\t\\t\\t\\t\\t\\t<a href=\"https://n.news.naver.com/mnews/article/005/0001780972\" class=\"sa_text_title _NLOG_IMPRESSION\" data-clk=\"itn.clart\" data-imp-gdid=\"8800006F_000000000000000001780972\" data-imp-url=\"https://n.news.naver.com/mnews/article/005/0001780972\" data-imp-index=\"6\">\\n\\t\\t\\t\\t\\t\\t\\t<strong class=\"sa_text_strong\">에픽게임즈, ‘언리얼 엔진5.6’ 출시</strong>\\n\\t\\t\\t\\t\\t\\t</a>\\n\\t\\t\\t\\t\\t\\t<div class=\"sa_text_lede\">에픽게임즈가 기능을 향상한 게임 엔진 ‘언리얼 엔진 5.6’을 출시했다고 4일 발표했다. 이번 언리얼 엔진 5.6은 이전 버전 대비 광원 효과가 개선됐고 CPU 연산 과정의 병목현상을 없애 현세대 콘솔 기기와 고사양</div>\\n\\t\\t\\t\\t\\t\\t<div class=\"sa_text_info\">\\n\\t\\t\\t\\t\\t\\t\\t<div class=\"sa_text_info_left\">\\n\\t\\t\\t\\t\\t\\t\\t\\t<div class=\"sa_text_press\">국민일보</div>\\n\\t\\t\\t\\t\\t\\t\\t\\t<a href=\"https://n.news.naver.com/mnews/article/comment/005/0001780972\" class=\"sa_text_cmt _COMMENT_COUNT_LIST\" style=\"display: none;\" data-ticket=\"news\" data-object-id=\"news005,0001780972\" data-zero-allow=\"false\"></a>\\n\\t\\t\\t\\t\\t\\t\\t</div>\\n\\t\\t\\t\\t\\t\\t\\t<div class=\"sa_text_info_right\">\\n\\t\\t\\t\\t\\t\\t\\t\\t<a href=\"/cluster/c_202506041020_00000001/section/105?oid&#x3D;005&amp;aid&#x3D;0001780972\" class=\"sa_text_cluster\" data-clk=\"clcou\">\\n\\t\\t\\t\\t\\t\\t\\t\\t\\t<span class=\"sa_text_cluster_num\">8</span>\\n\\t\\t\\t\\t\\t\\t\\t\\t\\t<span class=\"blind\">개의 관련뉴스 더보기</span>\\n\\t\\t\\t\\t\\t\\t\\t\\t</a>\\n\\t\\t\\t\\t\\t\\t\\t</div>\\n\\t\\t\\t\\t\\t\\t</div>\\n\\t\\t\\t\\t\\t</div>\\n\\t\\t\\t\\t</div>\\n\\t\\t\\t</div>\\n\\t\\t</li>\\n\\t\\t<li class=\"sa_item _SECTION_HEADLINE is_blind\">\\n\\t\\t\\t<div class=\"sa_item_inner\">\\n\\t\\t\\t\\t<div class=\"sa_item_flex _LAZY_LOADING_WRAP\">\\n\\t\\t\\t\\t\\t<div class=\"sa_thumb _LAZY_LOADING_ERROR_HIDE\">\\n\\t\\t\\t\\t\\t\\t<div class=\"sa_thumb_inner\">\\n\\t\\t\\t\\t\\t\\t\\t<a href=\"https://n.news.naver.com/mnews/article/374/0000444059\" class=\"sa_thumb_link _NLOG_IMPRESSION\" data-clk=\"itn.clart\" data-imp-gdid=\"8811AD97_000000000000000000444059\" data-imp-url=\"https://n.news.naver.com/mnews/article/374/0000444059\" data-imp-index=\"7\">\\n\\t\\t\\t\\t\\t\\t\\t\\t<img data-src=\"https://mimgnews.pstatic.net/image/origin/374/2025/06/04/444059.jpg?type&#x3D;nf220_150\" class=\"_LAZY_LOADING _LAZY_LOADING_INIT_HIDE\" width=\"110\" height=\"75\" alt=\"카카오, KISA와 중소사업자 개인정보 보호 온라인 교육 진행\" style=\"display: none;\">\\n\\t\\t\\t\\t\\t\\t\\t</a>\\n\\t\\t\\t\\t\\t\\t</div>\\n\\t\\t\\t\\t\\t</div>\\n\\t\\t\\t\\t\\t<div class=\"sa_text\">\\n\\t\\t\\t\\t\\t\\t<a href=\"https://n.news.naver.com/mnews/article/374/0000444059\" class=\"sa_text_title _NLOG_IMPRESSION\" data-clk=\"itn.clart\" data-imp-gdid=\"8811AD97_000000000000000000444059\" data-imp-url=\"https://n.news.naver.com/mnews/article/374/0000444059\" data-imp-index=\"7\">\\n\\t\\t\\t\\t\\t\\t\\t<strong class=\"sa_text_strong\">카카오, KISA와 중소사업자 개인정보 보호 온라인 교육 진행</strong>\\n\\t\\t\\t\\t\\t\\t</a>\\n\\t\\t\\t\\t\\t\\t<div class=\"sa_text_lede\">카카오는 개인정보보호위원회, 한국인터넷진흥원(KISA)과 함께 중소사업자의 개인정보보호 역량 강화를 위한 온라인 교육을 진행한다고 오늘(4일) 밝혔습니다. 카카오와 KISA는 2022년부터 카카오비즈니스 파트너 및 </div>\\n\\t\\t\\t\\t\\t\\t<div class=\"sa_text_info\">\\n\\t\\t\\t\\t\\t\\t\\t<div class=\"sa_text_info_left\">\\n\\t\\t\\t\\t\\t\\t\\t\\t<div class=\"sa_text_press\">SBS Biz</div>\\n\\t\\t\\t\\t\\t\\t\\t\\t<a href=\"https://n.news.naver.com/mnews/article/comment/374/0000444059\" class=\"sa_text_cmt _COMMENT_COUNT_LIST\" style=\"display: none;\" data-ticket=\"news\" data-object-id=\"news374,0000444059\" data-zero-allow=\"false\"></a>\\n\\t\\t\\t\\t\\t\\t\\t</div>\\n\\t\\t\\t\\t\\t\\t\\t<div class=\"sa_text_info_right\">\\n\\t\\t\\t\\t\\t\\t\\t\\t<a href=\"/cluster/c_202506040920_00000005/section/105?oid&#x3D;374&amp;aid&#x3D;0000444059\" class=\"sa_text_cluster\" data-clk=\"clcou\">\\n\\t\\t\\t\\t\\t\\t\\t\\t\\t<span class=\"sa_text_cluster_num\">23</span>\\n\\t\\t\\t\\t\\t\\t\\t\\t\\t<span class=\"blind\">개의 관련뉴스 더보기</span>\\n\\t\\t\\t\\t\\t\\t\\t\\t</a>\\n\\t\\t\\t\\t\\t\\t\\t</div>\\n\\t\\t\\t\\t\\t\\t</div>\\n\\t\\t\\t\\t\\t</div>\\n\\t\\t\\t\\t</div>\\n\\t\\t\\t</div>\\n\\t\\t</li>\\n\\t\\t<li class=\"sa_item _SECTION_HEADLINE is_blind\">\\n\\t\\t\\t<div class=\"sa_item_inner\">\\n\\t\\t\\t\\t<div class=\"sa_item_flex _LAZY_LOADING_WRAP\">\\n\\t\\t\\t\\t\\t<div class=\"sa_thumb _LAZY_LOADING_ERROR_HIDE\">\\n\\t\\t\\t\\t\\t\\t<div class=\"sa_thumb_inner\">\\n\\t\\t\\t\\t\\t\\t\\t<a href=\"https://n.news.naver.com/mnews/article/030/0003318730\" class=\"sa_thumb_link _NLOG_IMPRESSION\" data-clk=\"itn.clart\" data-imp-gdid=\"880000EA_000000000000000003318730\" data-imp-url=\"https://n.news.naver.com/mnews/article/030/0003318730\" data-imp-index=\"8\">\\n\\t\\t\\t\\t\\t\\t\\t\\t<img data-src=\"https://mimgnews.pstatic.net/image/origin/030/2025/06/04/3318730.jpg?type&#x3D;nf220_150\" class=\"_LAZY_LOADING _LAZY_LOADING_INIT_HIDE\" width=\"110\" height=\"75\" alt=\"삼성, &#x27;울트라급&#x27; 폴더블폰 &#x27;갤Z폴드7&#x27; 내달 출시\" style=\"display: none;\">\\n\\t\\t\\t\\t\\t\\t\\t</a>\\n\\t\\t\\t\\t\\t\\t</div>\\n\\t\\t\\t\\t\\t</div>\\n\\t\\t\\t\\t\\t<div class=\"sa_text\">\\n\\t\\t\\t\\t\\t\\t<a href=\"https://n.news.naver.com/mnews/article/030/0003318730\" class=\"sa_text_title _NLOG_IMPRESSION\" data-clk=\"itn.clart\" data-imp-gdid=\"880000EA_000000000000000003318730\" data-imp-url=\"https://n.news.naver.com/mnews/article/030/0003318730\" data-imp-index=\"8\">\\n\\t\\t\\t\\t\\t\\t\\t<strong class=\"sa_text_strong\">삼성, &#x27;울트라급&#x27; 폴더블폰 &#x27;갤Z폴드7&#x27; 내달 출시</strong>\\n\\t\\t\\t\\t\\t\\t</a>\\n\\t\\t\\t\\t\\t\\t<div class=\"sa_text_lede\">삼성전자가 내달 공개하는 폴더블폰 신제품 &#x27;갤럭시Z폴드7&#x27;을 공개하며 기대감을 끌어올렸다. 4일 삼성전자는 뉴스룸에 &#x27;울트라 경험을 펼치다&#x27;라는 제목의 글을 통해 “더 큰 화면, 더 뛰어난 카메라, 더 강력한 성능,</div>\\n\\t\\t\\t\\t\\t\\t<div class=\"sa_text_info\">\\n\\t\\t\\t\\t\\t\\t\\t<div class=\"sa_text_info_left\">\\n\\t\\t\\t\\t\\t\\t\\t\\t<div class=\"sa_text_press\">전자신문</div>\\n\\t\\t\\t\\t\\t\\t\\t\\t<a href=\"https://n.news.naver.com/mnews/article/comment/030/0003318730\" class=\"sa_text_cmt _COMMENT_COUNT_LIST\" style=\"display: none;\" data-ticket=\"news\" data-object-id=\"news030,0003318730\" data-zero-allow=\"false\"></a>\\n\\t\\t\\t\\t\\t\\t\\t</div>\\n\\t\\t\\t\\t\\t\\t\\t<div class=\"sa_text_info_right\">\\n\\t\\t\\t\\t\\t\\t\\t\\t<a href=\"/cluster/c_202506040850_00001566/section/105?oid&#x3D;030&amp;aid&#x3D;0003318730\" class=\"sa_text_cluster\" data-clk=\"clcou\">\\n\\t\\t\\t\\t\\t\\t\\t\\t\\t<span class=\"sa_text_cluster_num\">15</span>\\n\\t\\t\\t\\t\\t\\t\\t\\t\\t<span class=\"blind\">개의 관련뉴스 더보기</span>\\n\\t\\t\\t\\t\\t\\t\\t\\t</a>\\n\\t\\t\\t\\t\\t\\t\\t</div>\\n\\t\\t\\t\\t\\t\\t</div>\\n\\t\\t\\t\\t\\t</div>\\n\\t\\t\\t\\t</div>\\n\\t\\t\\t</div>\\n\\t\\t</li>\\n\\t</ul>\\n</div>\\n<div class=\"section_more '"
      ]
     },
     "execution_count": 35,
     "metadata": {},
     "output_type": "execute_result"
    }
   ],
   "source": [
    "data = response.text.split('data-template-id=\"SECTION_HEADLINE\">')[1]\n",
    "data = data.split('_SECTION_HEADLINE_MORE_BUTTON_WRAP\">')[0]\n",
    "data"
   ]
  },
  {
   "cell_type": "code",
   "execution_count": 36,
   "id": "f723e661",
   "metadata": {},
   "outputs": [
    {
     "name": "stdout",
     "output_type": "stream",
     "text": [
      "\n",
      "\t\t<li class=\"sa_item _SECTION_HEADLINE\">\n",
      "\t\t\t<div class=\"sa_item_inner\">\n",
      "\t\t\t\t<div class=\"sa_item_flex _LAZY_LOADING_WRAP\">\n",
      "\t\t\t\t\t<div class=\"sa_thumb _LAZY_LOADING_ERROR_HIDE\">\n",
      "\t\t\t\t\t\t<div class=\"sa_thumb_inner\">\n",
      "\t\t\t\t\t\t\t<a href=\"https://n.news.naver.com/mnews/article/014/0005359056\" class=\"sa_thumb_link _NLOG_IMPRESSION\" data-clk=\"itn.clart\" data-imp-gdid=\"880000FF_000000000000000005359056\" data-imp-url=\"https://n.news.naver.com/mnews/article/014/0005359056\" data-imp-index=\"1\">\n",
      "\t\t\t\t\t\t\t\t<img data-src=\"https://mimgnews.pstatic.net/image/origin/014/2025/06/04/5359056.jpg?type&#x3D;nf220_150\" class=\"_LAZY_LOADING _LAZY_LOADING_INIT_HIDE\" width=\"110\" height=\"75\" alt=\"롯데쇼핑·넥슨, 스노우플레이크 ‘데이터 드라이버 어워드’ 아태 지역 대표 수상\" style=\"display: none;\">\n",
      "\t\t\t\t\t\t\t</a>\n",
      "\t\t\t\t\t\t</div>\n",
      "\t\t\t\t\t</div>\n",
      "\t\t\t\t\t<div class=\"sa_text\">\n",
      "\t\t\t\t\t\t<a href=\"https://n.news.naver.com/mnews/article/014/0005359056\" class=\"sa_text_title _NLOG_IMPRESSION\" data-clk=\"itn.clart\" data-imp-gdid=\"880000FF_000000000000000005359056\" data-imp-url=\"https://n.news.naver.com/mnews/article/014/0005359056\" data-imp-index=\"1\">\n",
      "\t\t\t\t\t\t\t<strong class=\"sa_text_strong\">롯데쇼핑·넥슨, 스노우플레이크 ‘데이터 드라이버 어워드’ 아태 지역 대표 수상</strong>\n",
      "\t\t\t\t\t\t</a>\n",
      "\t\t\t\t\t\t<div class=\"sa_text_lede\">스노우플레이크가 자사 데이터 클라우드 플랫폼을 성공적으로 운영한 기업과 데이터 엔지니어를 시상하는 ‘데이터 드라이버 어워드’에서 아시아태평양 지역 대표로 롯데쇼핑과 넥슨 이재면 팀장을 선정했다고 4일 밝혔다. 데이터</div>\n",
      "\t\t\t\t\t\t<div class=\"sa_text_info\">\n",
      "\t\t\t\t\t\t\t<div class=\"sa_text_info_left\">\n",
      "\t\t\t\t\t\t\t\t<div class=\"sa_text_press\">파이낸셜뉴스</div>\n",
      "\t\t\t\t\t\t\t\t<a href=\"https://n.news.naver.com/mnews/article/comment/014/0005359056\" class=\"sa_text_cmt _COMMENT_COUNT_LIST\" style=\"display: none;\" data-ticket=\"news\" data-object-id=\"news014,0005359056\" data-zero-allow=\"false\"></a>\n",
      "\t\t\t\t\t\t\t</div>\n",
      "\t\t\t\t\t\t\t<div class=\"sa_text_info_right\">\n",
      "\t\t\t\t\t\t\t\t<a href=\"/cluster/c_202506031420_00001532/section/105?oid&#x3D;014&amp;aid&#x3D;0005359056\" class=\"sa_text_cluster\" data-clk=\"clcou\">\n",
      "\t\t\t\t\t\t\t\t\t<span class=\"sa_text_cluster_num\">17</span>\n",
      "\t\t\t\t\t\t\t\t\t<span class=\"blind\">개의 관련뉴스 더보기</span>\n",
      "\t\t\t\t\t\t\t\t</a>\n",
      "\t\t\t\t\t\t\t</div>\n",
      "\t\t\t\t\t\t</div>\n",
      "\t\t\t\t\t</div>\n",
      "\t\t\t\t</div>\n",
      "\t\t\t</div>\n",
      "\t\t</li>\n",
      "\t\t<li class=\"sa_item _SECTION_HEADLINE\">\n",
      "\t\t\t<div class=\"sa_item_inner\">\n",
      "\t\t\t\t<div class=\"sa_item_flex _LAZY_LOADING_WRAP\">\n",
      "\t\t\t\t\t<div class=\"sa_thumb _LAZY_LOADING_ERROR_HIDE\">\n",
      "\t\t\t\t\t\t<div class=\"sa_thumb_inner\">\n",
      "\t\t\t\t\t\t\t<a href=\"https://n.news.naver.com/mnews/article/030/0003318658\" class=\"sa_thumb_link _NLOG_IMPRESSION\" data-clk=\"itn.clart\" data-imp-gdid=\"880000EA_000000000000000003318658\" data-imp-url=\"https://n.news.naver.com/mnews/article/030/0003318658\" data-imp-index=\"2\">\n",
      "\t\t\t\t\t\t\t\t<img data-src=\"https://mimgnews.pstatic.net/image/origin/030/2025/06/04/3318658.jpg?type&#x3D;nf220_150\" class=\"_LAZY_LOADING _LAZY_LOADING_INIT_HIDE\" width=\"110\" height=\"75\" alt=\"&#x27;e-CCU 산업화 선도&#x27; 오형석 KIST 청정에너지연구센터장, 6월 과학기술인상 선정\" style=\"display: none;\">\n",
      "\t\t\t\t\t\t\t</a>\n",
      "\t\t\t\t\t\t</div>\n",
      "\t\t\t\t\t</div>\n",
      "\t\t\t\t\t<div class=\"sa_text\">\n",
      "\t\t\t\t\t\t<a href=\"https://n.news.naver.com/mnews/article/030/0003318658\" class=\"sa_text_title _NLOG_IMPRESSION\" data-clk=\"itn.clart\" data-imp-gdid=\"880000EA_000000000000000003318658\" data-imp-url=\"https://n.news.naver.com/mnews/article/030/0003318658\" data-imp-index=\"2\">\n",
      "\t\t\t\t\t\t\t<strong class=\"sa_text_strong\">&#x27;e-CCU 산업화 선도&#x27; 오형석 KIST 청정에너지연구센터장, 6월 과학기술인상 선정</strong>\n",
      "\t\t\t\t\t\t</a>\n",
      "\t\t\t\t\t\t<div class=\"sa_text_lede\">과학기술정보통신부와 한국연구재단은 이달의 과학기술인상 6월 수상자로 오형석 한국과학기술연구원(KIST) 청정에너지연구센터장을 선정했다고 4일 밝혔다. 오 센터장은 이산화탄소를 에틸렌, 에탄올, 합성가스 등 고부가가치</div>\n",
      "\t\t\t\t\t\t<div class=\"sa_text_info\">\n",
      "\t\t\t\t\t\t\t<div class=\"sa_text_info_left\">\n",
      "\t\t\t\t\t\t\t\t<div class=\"sa_text_press\">전자신문</div>\n",
      "\t\t\t\t\t\t\t\t<a href=\"https://n.news.naver.com/mnews/article/comment/030/0003318658\" class=\"sa_text_cmt _COMMENT_COUNT_LIST\" style=\"display: none;\" data-ticket=\"news\" data-object-id=\"news030,0003318658\" data-zero-allow=\"false\"></a>\n",
      "\t\t\t\t\t\t\t</div>\n",
      "\t\t\t\t\t\t\t<div class=\"sa_text_info_right\">\n",
      "\t\t\t\t\t\t\t\t<a href=\"/cluster/c_202506041210_00000009/section/105?oid&#x3D;030&amp;aid&#x3D;0003318658\" class=\"sa_text_cluster\" data-clk=\"clcou\">\n",
      "\t\t\t\t\t\t\t\t\t<span class=\"sa_text_cluster_num\">11</span>\n",
      "\t\t\t\t\t\t\t\t\t<span class=\"blind\">개의 관련뉴스 더보기</span>\n",
      "\t\t\t\t\t\t\t\t</a>\n",
      "\t\t\t\t\t\t\t</div>\n",
      "\t\t\t\t\t\t</div>\n",
      "\t\t\t\t\t</div>\n",
      "\t\t\t\t</div>\n",
      "\t\t\t</div>\n",
      "\t\t</li>\n",
      "\t\t<li class=\"sa_item _SECTION_HEADLINE\">\n",
      "\t\t\t<div class=\"sa_item_inner\">\n",
      "\t\t\t\t<div class=\"sa_item_flex _LAZY_LOADING_WRAP\">\n",
      "\t\t\t\t\t<div class=\"sa_thumb _LAZY_LOADING_ERROR_HIDE\">\n",
      "\t\t\t\t\t\t<div class=\"sa_thumb_inner\">\n",
      "\t\t\t\t\t\t\t<a href=\"https://n.news.naver.com/mnews/article/014/0005358769\" class=\"sa_thumb_link _NLOG_IMPRESSION\" data-clk=\"itn.clart\" data-imp-gdid=\"880000FF_000000000000000005358769\" data-imp-url=\"https://n.news.naver.com/mnews/article/014/0005358769\" data-imp-index=\"3\">\n",
      "\t\t\t\t\t\t\t\t<img data-src=\"https://mimgnews.pstatic.net/image/origin/014/2025/06/04/5358769.jpg?type&#x3D;nf220_150\" class=\"_LAZY_LOADING _LAZY_LOADING_INIT_HIDE\" width=\"110\" height=\"75\" alt=\"&#x27;사람 뇌처럼 작동, 정확도 87% 높였다&#x27; 로봇 비전 센서 개발\" style=\"display: none;\">\n",
      "\t\t\t\t\t\t\t</a>\n",
      "\t\t\t\t\t\t</div>\n",
      "\t\t\t\t\t</div>\n",
      "\t\t\t\t\t<div class=\"sa_text\">\n",
      "\t\t\t\t\t\t<a href=\"https://n.news.naver.com/mnews/article/014/0005358769\" class=\"sa_text_title _NLOG_IMPRESSION\" data-clk=\"itn.clart\" data-imp-gdid=\"880000FF_000000000000000005358769\" data-imp-url=\"https://n.news.naver.com/mnews/article/014/0005358769\" data-imp-index=\"3\">\n",
      "\t\t\t\t\t\t\t<strong class=\"sa_text_strong\">&#x27;사람 뇌처럼 작동, 정확도 87% 높였다&#x27; 로봇 비전 센서 개발</strong>\n",
      "\t\t\t\t\t\t</a>\n",
      "\t\t\t\t\t\t<div class=\"sa_text_lede\">사람 뇌에서 일어나는 신경 전달 원리를 닮아 밝기가 들쭉날쭉한 상황에서도 효율적이고 정확하게 사물의 윤곽 정보를 추출하는 비전 센서가 개발됐다. 자율주행, 드론, 로봇 기술에서 주변 환경을 더 빠르고 정확하게 인식하</div>\n",
      "\t\t\t\t\t\t<div class=\"sa_text_info\">\n",
      "\t\t\t\t\t\t\t<div class=\"sa_text_info_left\">\n",
      "\t\t\t\t\t\t\t\t<div class=\"sa_text_press\">파이낸셜뉴스</div>\n",
      "\t\t\t\t\t\t\t\t<a href=\"https://n.news.naver.com/mnews/article/comment/014/0005358769\" class=\"sa_text_cmt _COMMENT_COUNT_LIST\" style=\"display: none;\" data-ticket=\"news\" data-object-id=\"news014,0005358769\" data-zero-allow=\"false\"></a>\n",
      "\t\t\t\t\t\t\t</div>\n",
      "\t\t\t\t\t\t\t<div class=\"sa_text_info_right\">\n",
      "\t\t\t\t\t\t\t\t<a href=\"/cluster/c_202506040810_00000003/section/105?oid&#x3D;014&amp;aid&#x3D;0005358769\" class=\"sa_text_cluster\" data-clk=\"clcou\">\n",
      "\t\t\t\t\t\t\t\t\t<span class=\"sa_text_cluster_num\">16</span>\n",
      "\t\t\t\t\t\t\t\t\t<span class=\"blind\">개의 관련뉴스 더보기</span>\n",
      "\t\t\t\t\t\t\t\t</a>\n",
      "\t\t\t\t\t\t\t</div>\n",
      "\t\t\t\t\t\t</div>\n",
      "\t\t\t\t\t</div>\n",
      "\t\t\t\t</div>\n",
      "\t\t\t</div>\n",
      "\t\t</li>\n",
      "\t\t<li class=\"sa_item _SECTION_HEADLINE\">\n",
      "\t\t\t<div class=\"sa_item_inner\">\n",
      "\t\t\t\t<div class=\"sa_item_flex _LAZY_LOADING_WRAP\">\n",
      "\t\t\t\t\t<div class=\"sa_thumb _LAZY_LOADING_ERROR_HIDE\">\n",
      "\t\t\t\t\t\t<div class=\"sa_thumb_inner\">\n",
      "\t\t\t\t\t\t\t<a href=\"https://n.news.naver.com/mnews/article/014/0005358613\" class=\"sa_thumb_link _NLOG_IMPRESSION\" data-clk=\"itn.clart\" data-imp-gdid=\"880000FF_000000000000000005358613\" data-imp-url=\"https://n.news.naver.com/mnews/article/014/0005358613\" data-imp-index=\"4\">\n",
      "\t\t\t\t\t\t\t\t<img data-src=\"https://mimgnews.pstatic.net/image/origin/014/2025/06/03/5358613.jpg?type&#x3D;nf220_150\" class=\"_LAZY_LOADING _LAZY_LOADING_INIT_HIDE\" width=\"110\" height=\"75\" alt=\"LG전자 ‘책임 AI’ 앞세워 글로벌 AI 규제 대응 강화…ETRI AI안전硏 업무협약\" style=\"display: none;\">\n",
      "\t\t\t\t\t\t\t</a>\n",
      "\t\t\t\t\t\t</div>\n",
      "\t\t\t\t\t</div>\n",
      "\t\t\t\t\t<div class=\"sa_text\">\n",
      "\t\t\t\t\t\t<a href=\"https://n.news.naver.com/mnews/article/014/0005358613\" class=\"sa_text_title _NLOG_IMPRESSION\" data-clk=\"itn.clart\" data-imp-gdid=\"880000FF_000000000000000005358613\" data-imp-url=\"https://n.news.naver.com/mnews/article/014/0005358613\" data-imp-index=\"4\">\n",
      "\t\t\t\t\t\t\t<strong class=\"sa_text_strong\">LG전자 ‘책임 AI’ 앞세워 글로벌 AI 규제 대응 강화…ETRI AI안전硏 업무협약</strong>\n",
      "\t\t\t\t\t\t</a>\n",
      "\t\t\t\t\t\t<div class=\"sa_text_lede\">LG전자가 &#x27;책임 있는 AI(Responsible AI)&#x27;를 앞세워 더 안전하고 윤리적인 AI 기술의 개발 및 활용에 앞장선다. LG전자는 지난 2일 한국전자통신연구원(ETRI) AI안전연구소와 &#x27;글로벌 AI 규제 </div>\n",
      "\t\t\t\t\t\t<div class=\"sa_text_info\">\n",
      "\t\t\t\t\t\t\t<div class=\"sa_text_info_left\">\n",
      "\t\t\t\t\t\t\t\t<div class=\"sa_text_press\">파이낸셜뉴스</div>\n",
      "\t\t\t\t\t\t\t\t<a href=\"https://n.news.naver.com/mnews/article/comment/014/0005358613\" class=\"sa_text_cmt _COMMENT_COUNT_LIST\" style=\"display: none;\" data-ticket=\"news\" data-object-id=\"news014,0005358613\" data-zero-allow=\"false\"></a>\n",
      "\t\t\t\t\t\t\t</div>\n",
      "\t\t\t\t\t\t\t<div class=\"sa_text_info_right\">\n",
      "\t\t\t\t\t\t\t\t<a href=\"/cluster/c_202505311010_00000123/section/105?oid&#x3D;014&amp;aid&#x3D;0005358613\" class=\"sa_text_cluster\" data-clk=\"clcou\">\n",
      "\t\t\t\t\t\t\t\t\t<span class=\"sa_text_cluster_num\">12</span>\n",
      "\t\t\t\t\t\t\t\t\t<span class=\"blind\">개의 관련뉴스 더보기</span>\n",
      "\t\t\t\t\t\t\t\t</a>\n",
      "\t\t\t\t\t\t\t</div>\n",
      "\t\t\t\t\t\t</div>\n",
      "\t\t\t\t\t</div>\n",
      "\t\t\t\t</div>\n",
      "\t\t\t</div>\n",
      "\t\t</li>\n",
      "\t\t<li class=\"sa_item _SECTION_HEADLINE\">\n",
      "\t\t\t<div class=\"sa_item_inner\">\n",
      "\t\t\t\t<div class=\"sa_item_flex _LAZY_LOADING_WRAP\">\n",
      "\t\t\t\t\t<div class=\"sa_thumb _LAZY_LOADING_ERROR_HIDE\">\n",
      "\t\t\t\t\t\t<div class=\"sa_thumb_inner\">\n",
      "\t\t\t\t\t\t\t<a href=\"https://n.news.naver.com/mnews/article/009/0005503280\" class=\"sa_thumb_link _NLOG_IMPRESSION\" data-clk=\"itn.clart\" data-imp-gdid=\"880000BC_000000000000000005503280\" data-imp-url=\"https://n.news.naver.com/mnews/article/009/0005503280\" data-imp-index=\"5\">\n",
      "\t\t\t\t\t\t\t\t<img data-src=\"https://mimgnews.pstatic.net/image/origin/009/2025/06/04/5503280.jpg?type&#x3D;nf220_150\" class=\"_LAZY_LOADING _LAZY_LOADING_INIT_HIDE\" width=\"110\" height=\"75\" alt=\"넷마블문화재단, ‘2025 전국 장애학생 e페스티벌’ 예선 돌입\" style=\"display: none;\">\n",
      "\t\t\t\t\t\t\t</a>\n",
      "\t\t\t\t\t\t</div>\n",
      "\t\t\t\t\t</div>\n",
      "\t\t\t\t\t<div class=\"sa_text\">\n",
      "\t\t\t\t\t\t<a href=\"https://n.news.naver.com/mnews/article/009/0005503280\" class=\"sa_text_title _NLOG_IMPRESSION\" data-clk=\"itn.clart\" data-imp-gdid=\"880000BC_000000000000000005503280\" data-imp-url=\"https://n.news.naver.com/mnews/article/009/0005503280\" data-imp-index=\"5\">\n",
      "\t\t\t\t\t\t\t<strong class=\"sa_text_strong\">넷마블문화재단, ‘2025 전국 장애학생 e페스티벌’ 예선 돌입</strong>\n",
      "\t\t\t\t\t\t</a>\n",
      "\t\t\t\t\t\t<div class=\"sa_text_lede\">넷마블문화재단(이사장 방준혁)은 국립특수교육원(원장 김선미), 한국콘텐츠진흥원(원장 유현석 직무대행)과 함께 주최하고 교육부, 문화체육관광부가 후원하는 ‘2025 전국 장애학생 e페스티벌’ 예선을 4일부터 시작했다고</div>\n",
      "\t\t\t\t\t\t<div class=\"sa_text_info\">\n",
      "\t\t\t\t\t\t\t<div class=\"sa_text_info_left\">\n",
      "\t\t\t\t\t\t\t\t<div class=\"sa_text_press\">매일경제</div>\n",
      "\t\t\t\t\t\t\t\t<a href=\"https://n.news.naver.com/mnews/article/comment/009/0005503280\" class=\"sa_text_cmt _COMMENT_COUNT_LIST\" style=\"display: none;\" data-ticket=\"news\" data-object-id=\"news009,0005503280\" data-zero-allow=\"false\"></a>\n",
      "\t\t\t\t\t\t\t</div>\n",
      "\t\t\t\t\t\t\t<div class=\"sa_text_info_right\">\n",
      "\t\t\t\t\t\t\t\t<a href=\"/cluster/c_202506040950_00000015/section/105?oid&#x3D;009&amp;aid&#x3D;0005503280\" class=\"sa_text_cluster\" data-clk=\"clcou\">\n",
      "\t\t\t\t\t\t\t\t\t<span class=\"sa_text_cluster_num\">13</span>\n",
      "\t\t\t\t\t\t\t\t\t<span class=\"blind\">개의 관련뉴스 더보기</span>\n",
      "\t\t\t\t\t\t\t\t</a>\n",
      "\t\t\t\t\t\t\t</div>\n",
      "\t\t\t\t\t\t</div>\n",
      "\t\t\t\t\t</div>\n",
      "\t\t\t\t</div>\n",
      "\t\t\t</div>\n",
      "\t\t</li>\n",
      "\t\t<li class=\"sa_item _SECTION_HEADLINE is_blind\">\n",
      "\t\t\t<div class=\"sa_item_inner\">\n",
      "\t\t\t\t<div class=\"sa_item_flex _LAZY_LOADING_WRAP\">\n",
      "\t\t\t\t\t<div class=\"sa_thumb _LAZY_LOADING_ERROR_HIDE\">\n",
      "\t\t\t\t\t\t<div class=\"sa_thumb_inner\">\n",
      "\t\t\t\t\t\t\t<a href=\"https://n.news.naver.com/mnews/article/005/0001780972\" class=\"sa_thumb_link _NLOG_IMPRESSION\" data-clk=\"itn.clart\" data-imp-gdid=\"8800006F_000000000000000001780972\" data-imp-url=\"https://n.news.naver.com/mnews/article/005/0001780972\" data-imp-index=\"6\">\n",
      "\t\t\t\t\t\t\t\t<img data-src=\"https://mimgnews.pstatic.net/image/origin/005/2025/06/04/1780972.jpg?type&#x3D;nf220_150\" class=\"_LAZY_LOADING _LAZY_LOADING_INIT_HIDE\" width=\"110\" height=\"75\" alt=\"에픽게임즈, ‘언리얼 엔진5.6’ 출시\" style=\"display: none;\">\n",
      "\t\t\t\t\t\t\t</a>\n",
      "\t\t\t\t\t\t</div>\n",
      "\t\t\t\t\t</div>\n",
      "\t\t\t\t\t<div class=\"sa_text\">\n",
      "\t\t\t\t\t\t<a href=\"https://n.news.naver.com/mnews/article/005/0001780972\" class=\"sa_text_title _NLOG_IMPRESSION\" data-clk=\"itn.clart\" data-imp-gdid=\"8800006F_000000000000000001780972\" data-imp-url=\"https://n.news.naver.com/mnews/article/005/0001780972\" data-imp-index=\"6\">\n",
      "\t\t\t\t\t\t\t<strong class=\"sa_text_strong\">에픽게임즈, ‘언리얼 엔진5.6’ 출시</strong>\n",
      "\t\t\t\t\t\t</a>\n",
      "\t\t\t\t\t\t<div class=\"sa_text_lede\">에픽게임즈가 기능을 향상한 게임 엔진 ‘언리얼 엔진 5.6’을 출시했다고 4일 발표했다. 이번 언리얼 엔진 5.6은 이전 버전 대비 광원 효과가 개선됐고 CPU 연산 과정의 병목현상을 없애 현세대 콘솔 기기와 고사양</div>\n",
      "\t\t\t\t\t\t<div class=\"sa_text_info\">\n",
      "\t\t\t\t\t\t\t<div class=\"sa_text_info_left\">\n",
      "\t\t\t\t\t\t\t\t<div class=\"sa_text_press\">국민일보</div>\n",
      "\t\t\t\t\t\t\t\t<a href=\"https://n.news.naver.com/mnews/article/comment/005/0001780972\" class=\"sa_text_cmt _COMMENT_COUNT_LIST\" style=\"display: none;\" data-ticket=\"news\" data-object-id=\"news005,0001780972\" data-zero-allow=\"false\"></a>\n",
      "\t\t\t\t\t\t\t</div>\n",
      "\t\t\t\t\t\t\t<div class=\"sa_text_info_right\">\n",
      "\t\t\t\t\t\t\t\t<a href=\"/cluster/c_202506041020_00000001/section/105?oid&#x3D;005&amp;aid&#x3D;0001780972\" class=\"sa_text_cluster\" data-clk=\"clcou\">\n",
      "\t\t\t\t\t\t\t\t\t<span class=\"sa_text_cluster_num\">8</span>\n",
      "\t\t\t\t\t\t\t\t\t<span class=\"blind\">개의 관련뉴스 더보기</span>\n",
      "\t\t\t\t\t\t\t\t</a>\n",
      "\t\t\t\t\t\t\t</div>\n",
      "\t\t\t\t\t\t</div>\n",
      "\t\t\t\t\t</div>\n",
      "\t\t\t\t</div>\n",
      "\t\t\t</div>\n",
      "\t\t</li>\n",
      "\t\t<li class=\"sa_item _SECTION_HEADLINE is_blind\">\n",
      "\t\t\t<div class=\"sa_item_inner\">\n",
      "\t\t\t\t<div class=\"sa_item_flex _LAZY_LOADING_WRAP\">\n",
      "\t\t\t\t\t<div class=\"sa_thumb _LAZY_LOADING_ERROR_HIDE\">\n",
      "\t\t\t\t\t\t<div class=\"sa_thumb_inner\">\n",
      "\t\t\t\t\t\t\t<a href=\"https://n.news.naver.com/mnews/article/374/0000444059\" class=\"sa_thumb_link _NLOG_IMPRESSION\" data-clk=\"itn.clart\" data-imp-gdid=\"8811AD97_000000000000000000444059\" data-imp-url=\"https://n.news.naver.com/mnews/article/374/0000444059\" data-imp-index=\"7\">\n",
      "\t\t\t\t\t\t\t\t<img data-src=\"https://mimgnews.pstatic.net/image/origin/374/2025/06/04/444059.jpg?type&#x3D;nf220_150\" class=\"_LAZY_LOADING _LAZY_LOADING_INIT_HIDE\" width=\"110\" height=\"75\" alt=\"카카오, KISA와 중소사업자 개인정보 보호 온라인 교육 진행\" style=\"display: none;\">\n",
      "\t\t\t\t\t\t\t</a>\n",
      "\t\t\t\t\t\t</div>\n",
      "\t\t\t\t\t</div>\n",
      "\t\t\t\t\t<div class=\"sa_text\">\n",
      "\t\t\t\t\t\t<a href=\"https://n.news.naver.com/mnews/article/374/0000444059\" class=\"sa_text_title _NLOG_IMPRESSION\" data-clk=\"itn.clart\" data-imp-gdid=\"8811AD97_000000000000000000444059\" data-imp-url=\"https://n.news.naver.com/mnews/article/374/0000444059\" data-imp-index=\"7\">\n",
      "\t\t\t\t\t\t\t<strong class=\"sa_text_strong\">카카오, KISA와 중소사업자 개인정보 보호 온라인 교육 진행</strong>\n",
      "\t\t\t\t\t\t</a>\n",
      "\t\t\t\t\t\t<div class=\"sa_text_lede\">카카오는 개인정보보호위원회, 한국인터넷진흥원(KISA)과 함께 중소사업자의 개인정보보호 역량 강화를 위한 온라인 교육을 진행한다고 오늘(4일) 밝혔습니다. 카카오와 KISA는 2022년부터 카카오비즈니스 파트너 및 </div>\n",
      "\t\t\t\t\t\t<div class=\"sa_text_info\">\n",
      "\t\t\t\t\t\t\t<div class=\"sa_text_info_left\">\n",
      "\t\t\t\t\t\t\t\t<div class=\"sa_text_press\">SBS Biz</div>\n",
      "\t\t\t\t\t\t\t\t<a href=\"https://n.news.naver.com/mnews/article/comment/374/0000444059\" class=\"sa_text_cmt _COMMENT_COUNT_LIST\" style=\"display: none;\" data-ticket=\"news\" data-object-id=\"news374,0000444059\" data-zero-allow=\"false\"></a>\n",
      "\t\t\t\t\t\t\t</div>\n",
      "\t\t\t\t\t\t\t<div class=\"sa_text_info_right\">\n",
      "\t\t\t\t\t\t\t\t<a href=\"/cluster/c_202506040920_00000005/section/105?oid&#x3D;374&amp;aid&#x3D;0000444059\" class=\"sa_text_cluster\" data-clk=\"clcou\">\n",
      "\t\t\t\t\t\t\t\t\t<span class=\"sa_text_cluster_num\">23</span>\n",
      "\t\t\t\t\t\t\t\t\t<span class=\"blind\">개의 관련뉴스 더보기</span>\n",
      "\t\t\t\t\t\t\t\t</a>\n",
      "\t\t\t\t\t\t\t</div>\n",
      "\t\t\t\t\t\t</div>\n",
      "\t\t\t\t\t</div>\n",
      "\t\t\t\t</div>\n",
      "\t\t\t</div>\n",
      "\t\t</li>\n",
      "\t\t<li class=\"sa_item _SECTION_HEADLINE is_blind\">\n",
      "\t\t\t<div class=\"sa_item_inner\">\n",
      "\t\t\t\t<div class=\"sa_item_flex _LAZY_LOADING_WRAP\">\n",
      "\t\t\t\t\t<div class=\"sa_thumb _LAZY_LOADING_ERROR_HIDE\">\n",
      "\t\t\t\t\t\t<div class=\"sa_thumb_inner\">\n",
      "\t\t\t\t\t\t\t<a href=\"https://n.news.naver.com/mnews/article/030/0003318730\" class=\"sa_thumb_link _NLOG_IMPRESSION\" data-clk=\"itn.clart\" data-imp-gdid=\"880000EA_000000000000000003318730\" data-imp-url=\"https://n.news.naver.com/mnews/article/030/0003318730\" data-imp-index=\"8\">\n",
      "\t\t\t\t\t\t\t\t<img data-src=\"https://mimgnews.pstatic.net/image/origin/030/2025/06/04/3318730.jpg?type&#x3D;nf220_150\" class=\"_LAZY_LOADING _LAZY_LOADING_INIT_HIDE\" width=\"110\" height=\"75\" alt=\"삼성, &#x27;울트라급&#x27; 폴더블폰 &#x27;갤Z폴드7&#x27; 내달 출시\" style=\"display: none;\">\n",
      "\t\t\t\t\t\t\t</a>\n",
      "\t\t\t\t\t\t</div>\n",
      "\t\t\t\t\t</div>\n",
      "\t\t\t\t\t<div class=\"sa_text\">\n",
      "\t\t\t\t\t\t<a href=\"https://n.news.naver.com/mnews/article/030/0003318730\" class=\"sa_text_title _NLOG_IMPRESSION\" data-clk=\"itn.clart\" data-imp-gdid=\"880000EA_000000000000000003318730\" data-imp-url=\"https://n.news.naver.com/mnews/article/030/0003318730\" data-imp-index=\"8\">\n",
      "\t\t\t\t\t\t\t<strong class=\"sa_text_strong\">삼성, &#x27;울트라급&#x27; 폴더블폰 &#x27;갤Z폴드7&#x27; 내달 출시</strong>\n",
      "\t\t\t\t\t\t</a>\n",
      "\t\t\t\t\t\t<div class=\"sa_text_lede\">삼성전자가 내달 공개하는 폴더블폰 신제품 &#x27;갤럭시Z폴드7&#x27;을 공개하며 기대감을 끌어올렸다. 4일 삼성전자는 뉴스룸에 &#x27;울트라 경험을 펼치다&#x27;라는 제목의 글을 통해 “더 큰 화면, 더 뛰어난 카메라, 더 강력한 성능,</div>\n",
      "\t\t\t\t\t\t<div class=\"sa_text_info\">\n",
      "\t\t\t\t\t\t\t<div class=\"sa_text_info_left\">\n",
      "\t\t\t\t\t\t\t\t<div class=\"sa_text_press\">전자신문</div>\n",
      "\t\t\t\t\t\t\t\t<a href=\"https://n.news.naver.com/mnews/article/comment/030/0003318730\" class=\"sa_text_cmt _COMMENT_COUNT_LIST\" style=\"display: none;\" data-ticket=\"news\" data-object-id=\"news030,0003318730\" data-zero-allow=\"false\"></a>\n",
      "\t\t\t\t\t\t\t</div>\n",
      "\t\t\t\t\t\t\t<div class=\"sa_text_info_right\">\n",
      "\t\t\t\t\t\t\t\t<a href=\"/cluster/c_202506040850_00001566/section/105?oid&#x3D;030&amp;aid&#x3D;0003318730\" class=\"sa_text_cluster\" data-clk=\"clcou\">\n",
      "\t\t\t\t\t\t\t\t\t<span class=\"sa_text_cluster_num\">15</span>\n",
      "\t\t\t\t\t\t\t\t\t<span class=\"blind\">개의 관련뉴스 더보기</span>\n",
      "\t\t\t\t\t\t\t\t</a>\n",
      "\t\t\t\t\t\t\t</div>\n",
      "\t\t\t\t\t\t</div>\n",
      "\t\t\t\t\t</div>\n",
      "\t\t\t\t</div>\n",
      "\t\t\t</div>\n",
      "\t\t</li>\n",
      "\t\n"
     ]
    }
   ],
   "source": [
    "data = data.split('sa_list\">')[1]\n",
    "data = data.split(r'</ul>')[0]\n",
    "print(data)"
   ]
  },
  {
   "cell_type": "code",
   "execution_count": 37,
   "id": "9021f4c0",
   "metadata": {},
   "outputs": [
    {
     "data": {
      "text/plain": [
       "<re.Match object; span=(489, 737), match='<img data-src=\"https://mimgnews.pstatic.net/image>"
      ]
     },
     "execution_count": 37,
     "metadata": {},
     "output_type": "execute_result"
    }
   ],
   "source": [
    "import re\n",
    "p = re.compile(r\"<img.+src=['\\\"][^\\\"]+['\\\"][^>]*>\", re.I | re.M | re.X)\n",
    "m = p.search(data)\n",
    "m"
   ]
  },
  {
   "cell_type": "code",
   "execution_count": 38,
   "id": "5b13afa6",
   "metadata": {},
   "outputs": [
    {
     "data": {
      "text/plain": [
       "['<img data-src=\"https://mimgnews.pstatic.net/image/origin/014/2025/06/04/5359056.jpg?type&#x3D;nf220_150\" class=\"_LAZY_LOADING _LAZY_LOADING_INIT_HIDE\" width=\"110\" height=\"75\" alt=\"롯데쇼핑·넥슨, 스노우플레이크 ‘데이터 드라이버 어워드’ 아태 지역 대표 수상\" style=\"display: none;\">',\n",
       " '<img data-src=\"https://mimgnews.pstatic.net/image/origin/030/2025/06/04/3318658.jpg?type&#x3D;nf220_150\" class=\"_LAZY_LOADING _LAZY_LOADING_INIT_HIDE\" width=\"110\" height=\"75\" alt=\"&#x27;e-CCU 산업화 선도&#x27; 오형석 KIST 청정에너지연구센터장, 6월 과학기술인상 선정\" style=\"display: none;\">',\n",
       " '<img data-src=\"https://mimgnews.pstatic.net/image/origin/014/2025/06/04/5358769.jpg?type&#x3D;nf220_150\" class=\"_LAZY_LOADING _LAZY_LOADING_INIT_HIDE\" width=\"110\" height=\"75\" alt=\"&#x27;사람 뇌처럼 작동, 정확도 87% 높였다&#x27; 로봇 비전 센서 개발\" style=\"display: none;\">',\n",
       " '<img data-src=\"https://mimgnews.pstatic.net/image/origin/014/2025/06/03/5358613.jpg?type&#x3D;nf220_150\" class=\"_LAZY_LOADING _LAZY_LOADING_INIT_HIDE\" width=\"110\" height=\"75\" alt=\"LG전자 ‘책임 AI’ 앞세워 글로벌 AI 규제 대응 강화…ETRI AI안전硏 업무협약\" style=\"display: none;\">',\n",
       " '<img data-src=\"https://mimgnews.pstatic.net/image/origin/009/2025/06/04/5503280.jpg?type&#x3D;nf220_150\" class=\"_LAZY_LOADING _LAZY_LOADING_INIT_HIDE\" width=\"110\" height=\"75\" alt=\"넷마블문화재단, ‘2025 전국 장애학생 e페스티벌’ 예선 돌입\" style=\"display: none;\">',\n",
       " '<img data-src=\"https://mimgnews.pstatic.net/image/origin/005/2025/06/04/1780972.jpg?type&#x3D;nf220_150\" class=\"_LAZY_LOADING _LAZY_LOADING_INIT_HIDE\" width=\"110\" height=\"75\" alt=\"에픽게임즈, ‘언리얼 엔진5.6’ 출시\" style=\"display: none;\">',\n",
       " '<img data-src=\"https://mimgnews.pstatic.net/image/origin/374/2025/06/04/444059.jpg?type&#x3D;nf220_150\" class=\"_LAZY_LOADING _LAZY_LOADING_INIT_HIDE\" width=\"110\" height=\"75\" alt=\"카카오, KISA와 중소사업자 개인정보 보호 온라인 교육 진행\" style=\"display: none;\">',\n",
       " '<img data-src=\"https://mimgnews.pstatic.net/image/origin/030/2025/06/04/3318730.jpg?type&#x3D;nf220_150\" class=\"_LAZY_LOADING _LAZY_LOADING_INIT_HIDE\" width=\"110\" height=\"75\" alt=\"삼성, &#x27;울트라급&#x27; 폴더블폰 &#x27;갤Z폴드7&#x27; 내달 출시\" style=\"display: none;\">']"
      ]
     },
     "execution_count": 38,
     "metadata": {},
     "output_type": "execute_result"
    }
   ],
   "source": [
    "images = p.findall(data)\n",
    "images"
   ]
  },
  {
   "cell_type": "code",
   "execution_count": 39,
   "id": "c674d344",
   "metadata": {},
   "outputs": [
    {
     "data": {
      "text/plain": [
       "<callable_iterator at 0x27d5aab8a00>"
      ]
     },
     "execution_count": 39,
     "metadata": {},
     "output_type": "execute_result"
    }
   ],
   "source": [
    "iter = p.finditer(data)\n",
    "iter"
   ]
  },
  {
   "cell_type": "code",
   "execution_count": 40,
   "id": "64e815e1",
   "metadata": {},
   "outputs": [
    {
     "ename": "IndexError",
     "evalue": "no such group",
     "output_type": "error",
     "traceback": [
      "\u001b[31m---------------------------------------------------------------------------\u001b[39m",
      "\u001b[31mIndexError\u001b[39m                                Traceback (most recent call last)",
      "\u001b[36mCell\u001b[39m\u001b[36m \u001b[39m\u001b[32mIn[40]\u001b[39m\u001b[32m, line 5\u001b[39m\n\u001b[32m      2\u001b[39m \u001b[38;5;28miter\u001b[39m = p.finditer(data)\n\u001b[32m      3\u001b[39m \u001b[38;5;28;01mfor\u001b[39;00m m \u001b[38;5;129;01min\u001b[39;00m \u001b[38;5;28miter\u001b[39m:\n\u001b[32m      4\u001b[39m     \u001b[38;5;66;03m#print(f\"group:{m.group()} / start:{m.start()} / end:{m.end()} / span:{m.span()}\")\u001b[39;00m\n\u001b[32m----> \u001b[39m\u001b[32m5\u001b[39m     \u001b[38;5;28mprint\u001b[39m(\u001b[33mf\u001b[39m\u001b[33m\"\u001b[39m\u001b[33murl:\u001b[39m\u001b[38;5;132;01m{\u001b[39;00m\u001b[43mm\u001b[49m\u001b[43m.\u001b[49m\u001b[43mgroup\u001b[49m\u001b[43m(\u001b[49m\u001b[32;43m1\u001b[39;49m\u001b[43m)\u001b[49m\u001b[38;5;132;01m}\u001b[39;00m\u001b[33m\"\u001b[39m)\n",
      "\u001b[31mIndexError\u001b[39m: no such group"
     ]
    }
   ],
   "source": [
    "# next(iter)\n",
    "iter = p.finditer(data)\n",
    "for m in iter:\n",
    "    #print(f\"group:{m.group()} / start:{m.start()} / end:{m.end()} / span:{m.span()}\")\n",
    "    print(f\"url:{m.group(1)}\")"
   ]
  },
  {
   "cell_type": "code",
   "execution_count": null,
   "id": "24077d8a",
   "metadata": {},
   "outputs": [],
   "source": []
  },
  {
   "cell_type": "code",
   "execution_count": null,
   "id": "97243b96",
   "metadata": {},
   "outputs": [],
   "source": []
  }
 ],
 "metadata": {
  "kernelspec": {
   "display_name": "basic",
   "language": "python",
   "name": "python3"
  },
  "language_info": {
   "codemirror_mode": {
    "name": "ipython",
    "version": 3
   },
   "file_extension": ".py",
   "mimetype": "text/x-python",
   "name": "python",
   "nbconvert_exporter": "python",
   "pygments_lexer": "ipython3",
   "version": "3.12.10"
  }
 },
 "nbformat": 4,
 "nbformat_minor": 5
}
