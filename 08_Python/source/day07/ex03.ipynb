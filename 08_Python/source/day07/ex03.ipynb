{
 "cells": [
  {
   "cell_type": "markdown",
   "id": "7a3e51ad",
   "metadata": {},
   "source": [
    "이터레이터\n",
    "1. 이터레이터란?\n",
    "    1) 반복자 패턴 구현 예\n",
    "    2) 내부에서는 현재 요소의 위치가 있고, next() 함수를 통해서 호출하면 다음 커서로 이동하고 요소를 반환\n",
    "    3) 반복을 완료하면 더이상 반복 불가, StopIteration 예외 발생\n",
    "    4) 리스트, 튜플, 문자열 등 반복 가능한 요소에 iter(..) 감싸서 호출, 이터레이터 객체\n",
    "    \n",
    "2. 이터레이터 만들기"
   ]
  },
  {
   "cell_type": "code",
   "execution_count": 1,
   "id": "b30a186f",
   "metadata": {},
   "outputs": [
    {
     "data": {
      "text/plain": [
       "list"
      ]
     },
     "execution_count": 1,
     "metadata": {},
     "output_type": "execute_result"
    }
   ],
   "source": [
    "fruits = ['Apple','Orange','Melon','Banana','Mango']\n",
    "type(fruits)"
   ]
  },
  {
   "cell_type": "code",
   "execution_count": 11,
   "id": "f2f9be9b",
   "metadata": {},
   "outputs": [
    {
     "data": {
      "text/plain": [
       "list_iterator"
      ]
     },
     "execution_count": 11,
     "metadata": {},
     "output_type": "execute_result"
    }
   ],
   "source": [
    "itr = iter(fruits)\n",
    "type(itr)"
   ]
  },
  {
   "cell_type": "code",
   "execution_count": 12,
   "id": "ca3d282b",
   "metadata": {},
   "outputs": [
    {
     "data": {
      "text/plain": [
       "'Apple'"
      ]
     },
     "execution_count": 12,
     "metadata": {},
     "output_type": "execute_result"
    }
   ],
   "source": [
    "next(itr)"
   ]
  },
  {
   "cell_type": "code",
   "execution_count": null,
   "id": "65ec4bd9",
   "metadata": {},
   "outputs": [
    {
     "ename": "SyntaxError",
     "evalue": "expected 'except' or 'finally' block (2512849602.py, line 5)",
     "output_type": "error",
     "traceback": [
      "  \u001b[36mCell\u001b[39m\u001b[36m \u001b[39m\u001b[32mIn[13]\u001b[39m\u001b[32m, line 5\u001b[39m\n\u001b[31m    \u001b[39m\u001b[31mexcept StopIteration:\u001b[39m\n                         ^\n\u001b[31mSyntaxError\u001b[39m\u001b[31m:\u001b[39m expected 'except' or 'finally' block\n"
     ]
    }
   ],
   "source": [
    "itr = iter(fruits)\n",
    "while True:\n",
    "    try:\n",
    "        print(next(itr))\n",
    "    except StopIteration:\n",
    "        break        "
   ]
  },
  {
   "cell_type": "code",
   "execution_count": 15,
   "id": "e733313a",
   "metadata": {},
   "outputs": [
    {
     "name": "stdout",
     "output_type": "stream",
     "text": [
      "Apple\n",
      "Orange\n",
      "Melon\n",
      "Banana\n",
      "Mango\n"
     ]
    }
   ],
   "source": [
    "itr = iter(fruits)\n",
    "for item in itr:\n",
    "    print(item)\n",
    "\n",
    "for item in itr:\n",
    "    print(item)    "
   ]
  },
  {
   "cell_type": "code",
   "execution_count": 30,
   "id": "da405269",
   "metadata": {},
   "outputs": [],
   "source": [
    "class MyIterator:\n",
    "    def __init__(self, items):\n",
    "        self.position = 0\n",
    "        self.items = items\n",
    "\n",
    "    def __iter__(self):\n",
    "        return self\n",
    "\n",
    "    def __next__(self):\n",
    "        print(\"next() 호출!\")\n",
    "        if self.position >= len(self.items): # 다 읽어온 경우라면 StopIteration\n",
    "                raise StopIteration\n",
    "\n",
    "        item = self.items[self.position] # 현재 위치의 요소를 추출\n",
    "\n",
    "        self.position +=1 # 다음 커서 위치로 이동\n",
    "        \n",
    "        return item"
   ]
  },
  {
   "cell_type": "code",
   "execution_count": 31,
   "id": "27951b93",
   "metadata": {},
   "outputs": [],
   "source": [
    "itr = MyIterator(fruits)"
   ]
  },
  {
   "cell_type": "code",
   "execution_count": 34,
   "id": "85936855",
   "metadata": {},
   "outputs": [
    {
     "name": "stdout",
     "output_type": "stream",
     "text": [
      "next() 호출!\n"
     ]
    },
    {
     "data": {
      "text/plain": [
       "'Melon'"
      ]
     },
     "execution_count": 34,
     "metadata": {},
     "output_type": "execute_result"
    }
   ],
   "source": [
    "next(itr)"
   ]
  },
  {
   "cell_type": "markdown",
   "id": "10a11ea5",
   "metadata": {},
   "source": [
    "제너레이터\n",
    "1. 제너레이터란?\n",
    "    - 이터레이터로 만들어 주는 함수\n",
    "    - 실행 및 반환값 지연, return 대신 yield 사용(여러개 사용 가능)\n",
    "\n",
    "2. 제너레이터 표현식"
   ]
  },
  {
   "cell_type": "code",
   "execution_count": 41,
   "id": "135c5202",
   "metadata": {},
   "outputs": [],
   "source": [
    "def mygen():\n",
    "    yield 'A'\n",
    "    yield 'B'\n",
    "    yield 'C'"
   ]
  },
  {
   "cell_type": "code",
   "execution_count": 42,
   "id": "fd9c7e15",
   "metadata": {},
   "outputs": [
    {
     "data": {
      "text/plain": [
       "generator"
      ]
     },
     "execution_count": 42,
     "metadata": {},
     "output_type": "execute_result"
    }
   ],
   "source": [
    "gen = mygen()\n",
    "type(gen)"
   ]
  },
  {
   "cell_type": "code",
   "execution_count": 43,
   "id": "c318d317",
   "metadata": {},
   "outputs": [
    {
     "data": {
      "text/plain": [
       "'A'"
      ]
     },
     "execution_count": 43,
     "metadata": {},
     "output_type": "execute_result"
    }
   ],
   "source": [
    "next(gen)"
   ]
  },
  {
   "cell_type": "code",
   "execution_count": 44,
   "id": "b20f03be",
   "metadata": {},
   "outputs": [],
   "source": [
    "gen = (i * i for i in range(10000))"
   ]
  },
  {
   "cell_type": "code",
   "execution_count": 45,
   "id": "6572aecb",
   "metadata": {},
   "outputs": [
    {
     "data": {
      "text/plain": [
       "generator"
      ]
     },
     "execution_count": 45,
     "metadata": {},
     "output_type": "execute_result"
    }
   ],
   "source": [
    "type(gen)"
   ]
  },
  {
   "cell_type": "code",
   "execution_count": 49,
   "id": "b649f6b6",
   "metadata": {},
   "outputs": [
    {
     "data": {
      "text/plain": [
       "9"
      ]
     },
     "execution_count": 49,
     "metadata": {},
     "output_type": "execute_result"
    }
   ],
   "source": [
    "next(gen)"
   ]
  },
  {
   "cell_type": "code",
   "execution_count": null,
   "id": "373134a8",
   "metadata": {},
   "outputs": [
    {
     "data": {
      "text/plain": [
       "20.122999999999998"
      ]
     },
     "execution_count": 50,
     "metadata": {},
     "output_type": "execute_result"
    }
   ],
   "source": [
    "def add(num1: int, num2: int) -> int:\n",
    "    return num1 + num2\n",
    "\n",
    "add(10, 10.123)"
   ]
  },
  {
   "cell_type": "code",
   "execution_count": null,
   "id": "b6cc8751",
   "metadata": {},
   "outputs": [],
   "source": []
  }
 ],
 "metadata": {
  "kernelspec": {
   "display_name": "basic",
   "language": "python",
   "name": "python3"
  },
  "language_info": {
   "codemirror_mode": {
    "name": "ipython",
    "version": 3
   },
   "file_extension": ".py",
   "mimetype": "text/x-python",
   "name": "python",
   "nbconvert_exporter": "python",
   "pygments_lexer": "ipython3",
   "version": "3.12.10"
  }
 },
 "nbformat": 4,
 "nbformat_minor": 5
}
