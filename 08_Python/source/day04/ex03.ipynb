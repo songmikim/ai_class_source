{
 "cells": [
  {
   "cell_type": "markdown",
   "id": "aa5ad11b",
   "metadata": {},
   "source": [
    "## 클래스\n",
    "    - 객체 생성시 new 연산자는 사용 X\n",
    "    - 클래스명() 호출하면 객체가 생성"
   ]
  },
  {
   "cell_type": "code",
   "execution_count": 12,
   "id": "29ab0382",
   "metadata": {},
   "outputs": [],
   "source": [
    "class Calculator:\n",
    "    def setData(self, a, b):\n",
    "        self.a = a\n",
    "        self.b = b\n",
    "\n",
    "    def add(self):\n",
    "        return self.a + self.b"
   ]
  },
  {
   "cell_type": "code",
   "execution_count": 13,
   "id": "14ad167f",
   "metadata": {},
   "outputs": [],
   "source": [
    "cal1 = Calculator() # 객체 생성"
   ]
  },
  {
   "cell_type": "code",
   "execution_count": 14,
   "id": "f898ba12",
   "metadata": {},
   "outputs": [
    {
     "data": {
      "text/plain": [
       "300"
      ]
     },
     "execution_count": 14,
     "metadata": {},
     "output_type": "execute_result"
    }
   ],
   "source": [
    "#cal1.a = 100\n",
    "#cal1.b = 200\n",
    "cal1.setData(100,200)\n",
    "cal1.add()"
   ]
  },
  {
   "cell_type": "code",
   "execution_count": 10,
   "id": "586232a1",
   "metadata": {},
   "outputs": [],
   "source": [
    "cal2 = Calculator()"
   ]
  },
  {
   "cell_type": "code",
   "execution_count": 11,
   "id": "ac8286e2",
   "metadata": {},
   "outputs": [
    {
     "name": "stdout",
     "output_type": "stream",
     "text": [
      "cal1: 2765071525664 cal2: 2765071114960\n"
     ]
    }
   ],
   "source": [
    "cal1 is cal2\n",
    "print(\"cal1:\", id(cal1), \"cal2:\", id(cal2))"
   ]
  },
  {
   "cell_type": "code",
   "execution_count": 15,
   "id": "071bc096",
   "metadata": {},
   "outputs": [],
   "source": [
    "class Calculator:\n",
    "    def __init__(self, a, b):\n",
    "        self.a = a\n",
    "        self.b = b\n",
    "\n",
    "    def add(self):\n",
    "        return self.a + self.b"
   ]
  },
  {
   "cell_type": "code",
   "execution_count": 16,
   "id": "ad9d381d",
   "metadata": {},
   "outputs": [],
   "source": [
    "cal1 = Calculator(100, 200) # 객체 생성"
   ]
  },
  {
   "cell_type": "code",
   "execution_count": 17,
   "id": "00398842",
   "metadata": {},
   "outputs": [
    {
     "data": {
      "text/plain": [
       "300"
      ]
     },
     "execution_count": 17,
     "metadata": {},
     "output_type": "execute_result"
    }
   ],
   "source": [
    "cal1.add()"
   ]
  },
  {
   "cell_type": "code",
   "execution_count": 18,
   "id": "7b4f57c4",
   "metadata": {},
   "outputs": [
    {
     "data": {
      "text/plain": [
       "300"
      ]
     },
     "execution_count": 18,
     "metadata": {},
     "output_type": "execute_result"
    }
   ],
   "source": [
    "Calculator.add(cal1)"
   ]
  },
  {
   "cell_type": "code",
   "execution_count": null,
   "id": "d22b434b",
   "metadata": {},
   "outputs": [],
   "source": []
  }
 ],
 "metadata": {
  "kernelspec": {
   "display_name": "basic",
   "language": "python",
   "name": "python3"
  },
  "language_info": {
   "codemirror_mode": {
    "name": "ipython",
    "version": 3
   },
   "file_extension": ".py",
   "mimetype": "text/x-python",
   "name": "python",
   "nbconvert_exporter": "python",
   "pygments_lexer": "ipython3",
   "version": "3.12.10"
  }
 },
 "nbformat": 4,
 "nbformat_minor": 5
}
