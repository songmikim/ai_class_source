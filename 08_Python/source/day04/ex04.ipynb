{
 "cells": [
  {
   "cell_type": "markdown",
   "id": "070cb089",
   "metadata": {},
   "source": [
    "## 클래스내에 변수를 정의하면?"
   ]
  },
  {
   "cell_type": "code",
   "execution_count": 1,
   "id": "8ef3918c",
   "metadata": {},
   "outputs": [],
   "source": [
    "class Person:\n",
    "    first_name = '이름'\n",
    "    last_name = '김'"
   ]
  },
  {
   "cell_type": "code",
   "execution_count": 2,
   "id": "b9a253ad",
   "metadata": {},
   "outputs": [],
   "source": [
    "p1 = Person()"
   ]
  },
  {
   "cell_type": "code",
   "execution_count": null,
   "id": "b6e72282",
   "metadata": {},
   "outputs": [
    {
     "name": "stdout",
     "output_type": "stream",
     "text": [
      "이름 김\n"
     ]
    }
   ],
   "source": [
    "print( Person.first_name, Person.last_name)"
   ]
  },
  {
   "cell_type": "code",
   "execution_count": 4,
   "id": "f7de9046",
   "metadata": {},
   "outputs": [],
   "source": [
    "Person.address = '주소'"
   ]
  },
  {
   "cell_type": "code",
   "execution_count": 9,
   "id": "0a05c536",
   "metadata": {},
   "outputs": [
    {
     "data": {
      "text/plain": [
       "'주소'"
      ]
     },
     "execution_count": 9,
     "metadata": {},
     "output_type": "execute_result"
    }
   ],
   "source": [
    "Person.address\n"
   ]
  },
  {
   "cell_type": "code",
   "execution_count": 10,
   "id": "410aaa12",
   "metadata": {},
   "outputs": [],
   "source": [
    "Person.address = '주소22'"
   ]
  },
  {
   "cell_type": "code",
   "execution_count": 11,
   "id": "3aff8f7e",
   "metadata": {},
   "outputs": [
    {
     "data": {
      "text/plain": [
       "'주소22'"
      ]
     },
     "execution_count": 11,
     "metadata": {},
     "output_type": "execute_result"
    }
   ],
   "source": [
    "Person.address"
   ]
  },
  {
   "cell_type": "code",
   "execution_count": 12,
   "id": "b8b5e72e",
   "metadata": {},
   "outputs": [],
   "source": [
    "p1 = Person()"
   ]
  },
  {
   "cell_type": "code",
   "execution_count": 13,
   "id": "0c82bfe3",
   "metadata": {},
   "outputs": [],
   "source": [
    "p1.address = '주소33'"
   ]
  },
  {
   "cell_type": "code",
   "execution_count": 14,
   "id": "f4af2c26",
   "metadata": {},
   "outputs": [
    {
     "data": {
      "text/plain": [
       "'주소22'"
      ]
     },
     "execution_count": 14,
     "metadata": {},
     "output_type": "execute_result"
    }
   ],
   "source": [
    "Person.address"
   ]
  },
  {
   "cell_type": "code",
   "execution_count": null,
   "id": "39860351",
   "metadata": {},
   "outputs": [],
   "source": []
  }
 ],
 "metadata": {
  "kernelspec": {
   "display_name": "basic",
   "language": "python",
   "name": "python3"
  },
  "language_info": {
   "codemirror_mode": {
    "name": "ipython",
    "version": 3
   },
   "file_extension": ".py",
   "mimetype": "text/x-python",
   "name": "python",
   "nbconvert_exporter": "python",
   "pygments_lexer": "ipython3",
   "version": "3.12.10"
  }
 },
 "nbformat": 4,
 "nbformat_minor": 5
}
