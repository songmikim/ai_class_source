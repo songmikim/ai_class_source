{
 "cells": [
  {
   "cell_type": "markdown",
   "id": "929074a3",
   "metadata": {},
   "source": [
    "# 패키지"
   ]
  },
  {
   "cell_type": "code",
   "execution_count": 2,
   "id": "df51e159",
   "metadata": {},
   "outputs": [],
   "source": [
    "import sys\n",
    "sys.path.append(\"C:/my_module\")"
   ]
  },
  {
   "cell_type": "code",
   "execution_count": 3,
   "id": "f0332116",
   "metadata": {},
   "outputs": [],
   "source": [
    "import game.sound.echo"
   ]
  },
  {
   "cell_type": "code",
   "execution_count": 4,
   "id": "5b4e769e",
   "metadata": {},
   "outputs": [
    {
     "name": "stdout",
     "output_type": "stream",
     "text": [
      "echo\n"
     ]
    }
   ],
   "source": [
    "game.sound.echo.echo_test()"
   ]
  },
  {
   "cell_type": "code",
   "execution_count": 5,
   "id": "10fd9173",
   "metadata": {},
   "outputs": [],
   "source": [
    "from game.sound.echo import echo_test"
   ]
  },
  {
   "cell_type": "code",
   "execution_count": 6,
   "id": "3810bf06",
   "metadata": {},
   "outputs": [
    {
     "name": "stdout",
     "output_type": "stream",
     "text": [
      "echo\n"
     ]
    }
   ],
   "source": [
    "echo_test()"
   ]
  },
  {
   "cell_type": "code",
   "execution_count": null,
   "id": "dedd2917",
   "metadata": {},
   "outputs": [],
   "source": [
    "### __init__.py\n",
    "- 디렉토리가 패키지의 일부임을 알려주는 파일\n",
    "- 패키지 수준에서의 자원 공유\n",
    "- 모듈을 로드 했을때 최초에 실행, 초기화 작업시에도 주로 사용"
   ]
  },
  {
   "cell_type": "code",
   "execution_count": 1,
   "id": "1c475dfa",
   "metadata": {},
   "outputs": [],
   "source": [
    "import sys\n",
    "sys.path.append(\"C:/my_module\")"
   ]
  },
  {
   "cell_type": "code",
   "execution_count": 2,
   "id": "8d4c89a4",
   "metadata": {},
   "outputs": [],
   "source": [
    "import game"
   ]
  },
  {
   "cell_type": "code",
   "execution_count": 3,
   "id": "0afb4c98",
   "metadata": {},
   "outputs": [
    {
     "data": {
      "text/plain": [
       "3.12"
      ]
     },
     "execution_count": 3,
     "metadata": {},
     "output_type": "execute_result"
    }
   ],
   "source": [
    "game.VERSION"
   ]
  },
  {
   "cell_type": "code",
   "execution_count": 4,
   "id": "8a12ce81",
   "metadata": {},
   "outputs": [
    {
     "name": "stdout",
     "output_type": "stream",
     "text": [
      "파이썬 버전은 3.12 입니다.\n"
     ]
    }
   ],
   "source": [
    "game.print_version_info()"
   ]
  },
  {
   "cell_type": "code",
   "execution_count": 3,
   "id": "ce6bde2f",
   "metadata": {},
   "outputs": [
    {
     "name": "stdout",
     "output_type": "stream",
     "text": [
      "render\n"
     ]
    }
   ],
   "source": [
    "game.render_test()"
   ]
  },
  {
   "cell_type": "code",
   "execution_count": null,
   "id": "51ed6c4f",
   "metadata": {},
   "outputs": [],
   "source": []
  }
 ],
 "metadata": {
  "kernelspec": {
   "display_name": "basic",
   "language": "python",
   "name": "python3"
  },
  "language_info": {
   "codemirror_mode": {
    "name": "ipython",
    "version": 3
   },
   "file_extension": ".py",
   "mimetype": "text/x-python",
   "name": "python",
   "nbconvert_exporter": "python",
   "pygments_lexer": "ipython3",
   "version": "3.12.10"
  }
 },
 "nbformat": 4,
 "nbformat_minor": 5
}
