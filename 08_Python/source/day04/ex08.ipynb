{
 "cells": [
  {
   "cell_type": "markdown",
   "id": "07022c18",
   "metadata": {},
   "source": [
    "# 다른 디렉토리에 있는 모듈을 불러오는 방법\n",
    " - sys.path에 불러올 모듈 경로 추가"
   ]
  },
  {
   "cell_type": "code",
   "execution_count": 3,
   "id": "676cb110",
   "metadata": {},
   "outputs": [],
   "source": [
    "import sys\n",
    "sys.path.append(\"C:/my_module\")"
   ]
  },
  {
   "cell_type": "code",
   "execution_count": 4,
   "id": "8504c321",
   "metadata": {},
   "outputs": [],
   "source": [
    "import mod1"
   ]
  },
  {
   "cell_type": "code",
   "execution_count": null,
   "id": "f8328c0b",
   "metadata": {},
   "outputs": [],
   "source": []
  }
 ],
 "metadata": {
  "kernelspec": {
   "display_name": "basic",
   "language": "python",
   "name": "python3"
  },
  "language_info": {
   "codemirror_mode": {
    "name": "ipython",
    "version": 3
   },
   "file_extension": ".py",
   "mimetype": "text/x-python",
   "name": "python",
   "nbconvert_exporter": "python",
   "pygments_lexer": "ipython3",
   "version": "3.12.10"
  }
 },
 "nbformat": 4,
 "nbformat_minor": 5
}
