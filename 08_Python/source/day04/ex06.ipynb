{
 "cells": [
  {
   "cell_type": "markdown",
   "id": "cebc7d23",
   "metadata": {},
   "source": [
    "## 클래스\n",
    "```python\n",
    "class ...\n",
    "    def __call__(self, 매개변수 ...):\n",
    "        ...\n",
    "```\n",
    "- 객체 참조 변수를 함수처름 호출하면 '__call__' 함수가 호출"
   ]
  },
  {
   "cell_type": "code",
   "execution_count": 2,
   "id": "1e9c32a9",
   "metadata": {},
   "outputs": [],
   "source": [
    "class Accumulator: \n",
    "    def __init__(self):\n",
    "        self.num = 0\n",
    "\n",
    "    def __call__(self, num):\n",
    "        self.num += num\n",
    "\n",
    "        return self.num"
   ]
  },
  {
   "cell_type": "code",
   "execution_count": 3,
   "id": "c26280a1",
   "metadata": {},
   "outputs": [],
   "source": [
    "acc = Accumulator()"
   ]
  },
  {
   "cell_type": "code",
   "execution_count": 4,
   "id": "e303a7e6",
   "metadata": {},
   "outputs": [
    {
     "data": {
      "text/plain": [
       "10"
      ]
     },
     "execution_count": 4,
     "metadata": {},
     "output_type": "execute_result"
    }
   ],
   "source": [
    "acc(10)"
   ]
  },
  {
   "cell_type": "code",
   "execution_count": 6,
   "id": "5e0d6752",
   "metadata": {},
   "outputs": [
    {
     "data": {
      "text/plain": [
       "1010"
      ]
     },
     "execution_count": 6,
     "metadata": {},
     "output_type": "execute_result"
    }
   ],
   "source": [
    "acc(1000)"
   ]
  },
  {
   "cell_type": "code",
   "execution_count": null,
   "id": "2c1b013f",
   "metadata": {},
   "outputs": [],
   "source": []
  }
 ],
 "metadata": {
  "kernelspec": {
   "display_name": "basic",
   "language": "python",
   "name": "python3"
  },
  "language_info": {
   "codemirror_mode": {
    "name": "ipython",
    "version": 3
   },
   "file_extension": ".py",
   "mimetype": "text/x-python",
   "name": "python",
   "nbconvert_exporter": "python",
   "pygments_lexer": "ipython3",
   "version": "3.12.10"
  }
 },
 "nbformat": 4,
 "nbformat_minor": 5
}
