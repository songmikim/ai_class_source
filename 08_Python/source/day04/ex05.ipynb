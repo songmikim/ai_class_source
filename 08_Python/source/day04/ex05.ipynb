{
 "cells": [
  {
   "cell_type": "markdown",
   "id": "260eaf12",
   "metadata": {},
   "source": [
    "##  클래스"
   ]
  },
  {
   "cell_type": "code",
   "execution_count": 11,
   "id": "86f95774",
   "metadata": {},
   "outputs": [],
   "source": [
    "class Calculator:\n",
    "    def __init__(self, a, b):\n",
    "        self.a = a\n",
    "        self.b = b\n",
    "\n",
    "    def add(self):\n",
    "        return self.a + self.b\n",
    "\n",
    "    def sub(self):\n",
    "        return self.a - self.b\n",
    "\n",
    "    def mul(self):\n",
    "        return self.a * self.b\n",
    "\n",
    "    def div(self):\n",
    "        return self.a / self.b\n",
    "\n",
    "    def __str__(self):\n",
    "        return f\"a={self.a}, b={self.b}\""
   ]
  },
  {
   "cell_type": "code",
   "execution_count": 12,
   "id": "818b4106",
   "metadata": {},
   "outputs": [],
   "source": [
    "cal1 = Calculator(200, 10)"
   ]
  },
  {
   "cell_type": "code",
   "execution_count": 13,
   "id": "7127f9c1",
   "metadata": {},
   "outputs": [
    {
     "name": "stdout",
     "output_type": "stream",
     "text": [
      "a=200, b=10\n"
     ]
    }
   ],
   "source": [
    "print(cal1)"
   ]
  },
  {
   "cell_type": "code",
   "execution_count": 9,
   "id": "446553ad",
   "metadata": {},
   "outputs": [
    {
     "name": "stdout",
     "output_type": "stream",
     "text": [
      "210\n"
     ]
    }
   ],
   "source": [
    "print(cal1.add())"
   ]
  },
  {
   "cell_type": "code",
   "execution_count": 10,
   "id": "3d6cb9b0",
   "metadata": {},
   "outputs": [
    {
     "name": "stdout",
     "output_type": "stream",
     "text": [
      "190\n"
     ]
    }
   ],
   "source": [
    "print(cal1.sub())"
   ]
  },
  {
   "cell_type": "code",
   "execution_count": 14,
   "id": "809f2692",
   "metadata": {},
   "outputs": [],
   "source": [
    "class MoreCalculator(Calculator):\n",
    "    pass"
   ]
  },
  {
   "cell_type": "code",
   "execution_count": 19,
   "id": "0a76cddd",
   "metadata": {},
   "outputs": [],
   "source": [
    "class MoreCalculator(Calculator):\n",
    "    def div(self):\n",
    "        if self.b == 0:\n",
    "            return 0\n",
    "        \n",
    "        return self.a / self.b\n"
   ]
  },
  {
   "cell_type": "code",
   "execution_count": 20,
   "id": "204c0351",
   "metadata": {},
   "outputs": [],
   "source": [
    "#cal1 = MoreCalculator(100, 200)\n",
    "cal1 = MoreCalculator(100, 0)"
   ]
  },
  {
   "cell_type": "code",
   "execution_count": 21,
   "id": "a8ba8b92",
   "metadata": {},
   "outputs": [
    {
     "data": {
      "text/plain": [
       "0"
      ]
     },
     "execution_count": 21,
     "metadata": {},
     "output_type": "execute_result"
    }
   ],
   "source": [
    "cal1.div()"
   ]
  },
  {
   "cell_type": "code",
   "execution_count": null,
   "id": "fc0ba619",
   "metadata": {},
   "outputs": [],
   "source": []
  },
  {
   "cell_type": "code",
   "execution_count": null,
   "id": "154868bc",
   "metadata": {},
   "outputs": [],
   "source": []
  }
 ],
 "metadata": {
  "kernelspec": {
   "display_name": "basic",
   "language": "python",
   "name": "python3"
  },
  "language_info": {
   "codemirror_mode": {
    "name": "ipython",
    "version": 3
   },
   "file_extension": ".py",
   "mimetype": "text/x-python",
   "name": "python",
   "nbconvert_exporter": "python",
   "pygments_lexer": "ipython3",
   "version": "3.12.10"
  }
 },
 "nbformat": 4,
 "nbformat_minor": 5
}
