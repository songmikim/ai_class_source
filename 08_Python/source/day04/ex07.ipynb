{
 "cells": [
  {
   "cell_type": "code",
   "execution_count": 1,
   "id": "b2cad2f4",
   "metadata": {},
   "outputs": [],
   "source": [
    "import mod1"
   ]
  },
  {
   "cell_type": "code",
   "execution_count": 2,
   "id": "02244944",
   "metadata": {},
   "outputs": [
    {
     "data": {
      "text/plain": [
       "30"
      ]
     },
     "execution_count": 2,
     "metadata": {},
     "output_type": "execute_result"
    }
   ],
   "source": [
    "mod1.add(10, 20)"
   ]
  },
  {
   "cell_type": "code",
   "execution_count": 5,
   "id": "f5d8e834",
   "metadata": {},
   "outputs": [
    {
     "data": {
      "text/plain": [
       "10"
      ]
     },
     "execution_count": 5,
     "metadata": {},
     "output_type": "execute_result"
    }
   ],
   "source": [
    "mod1.sub(20, 10)"
   ]
  },
  {
   "cell_type": "code",
   "execution_count": 3,
   "id": "4383d752",
   "metadata": {},
   "outputs": [],
   "source": [
    "from mod2 import Circle, PI"
   ]
  },
  {
   "cell_type": "code",
   "execution_count": 4,
   "id": "dfad52a8",
   "metadata": {},
   "outputs": [
    {
     "data": {
      "text/plain": [
       "3.141592"
      ]
     },
     "execution_count": 4,
     "metadata": {},
     "output_type": "execute_result"
    }
   ],
   "source": [
    "PI"
   ]
  },
  {
   "cell_type": "code",
   "execution_count": 5,
   "id": "b777aea6",
   "metadata": {},
   "outputs": [
    {
     "data": {
      "text/plain": [
       "314.1592"
      ]
     },
     "execution_count": 5,
     "metadata": {},
     "output_type": "execute_result"
    }
   ],
   "source": [
    "c = Circle()\n",
    "c.area(10)"
   ]
  },
  {
   "cell_type": "code",
   "execution_count": null,
   "id": "1289902e",
   "metadata": {},
   "outputs": [],
   "source": []
  }
 ],
 "metadata": {
  "kernelspec": {
   "display_name": "basic",
   "language": "python",
   "name": "python3"
  },
  "language_info": {
   "codemirror_mode": {
    "name": "ipython",
    "version": 3
   },
   "file_extension": ".py",
   "mimetype": "text/x-python",
   "name": "python",
   "nbconvert_exporter": "python",
   "pygments_lexer": "ipython3",
   "version": "3.12.10"
  }
 },
 "nbformat": 4,
 "nbformat_minor": 5
}
